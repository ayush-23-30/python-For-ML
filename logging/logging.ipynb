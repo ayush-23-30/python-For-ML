{
 "cells": [
  {
   "cell_type": "markdown",
   "id": "9c1e4bf3",
   "metadata": {},
   "source": [
    "#### Python Logging\n",
    "Logging is a crucial aspect of any application, providing a way to track events, errors, and operational information. Python's built-in logging module offers a flexible framework for emitting log messages from Python programs. In this lesson, we will cover the basics of logging, including how to configure logging, log levels, and best practices for using logging in Python applications."
   ]
  },
  {
   "cell_type": "code",
   "execution_count": null,
   "id": "51700f03",
   "metadata": {},
   "outputs": [],
   "source": [
    "import logging \n",
    "## this logging is not user login , this is logging - log to show messages and error handling; event tracking; or info logging  "
   ]
  },
  {
   "cell_type": "code",
   "execution_count": null,
   "id": "b3e2ef4c",
   "metadata": {},
   "outputs": [
    {
     "name": "stderr",
     "output_type": "stream",
     "text": [
      "DEBUG:root:this is a debug message\n",
      "INFO:root:This is a Info message\n",
      "ERROR:root:this is an Error Message\n"
     ]
    }
   ],
   "source": [
    "# ## Configure the basic login setting \n",
    "# logging.basicConfig(level=logging.DEBUG);\n",
    "\n",
    "# ## Log messages \n",
    "# logging.debug('this is a debug message')\n",
    "# logging.info(\"This is a Info message\"); \n",
    "# logging.error('this is an Error Message'); \n"
   ]
  },
  {
   "cell_type": "markdown",
   "id": "cf76109a",
   "metadata": {},
   "source": [
    "#### Log Levels\n",
    "Python's logging module has several log levels indicating the severity of events. The default levels are:\n",
    "\n",
    "- DEBUG: Detailed information, typically of interest only when diagnosing problems.\n",
    "- INFO: Confirmation that things are working as expected.\n",
    "- WARNING: An indication that something unexpected happened or indicative of some problem in the near future (e.g., ‘disk space low’). The software is still working as expected.\n",
    "- ERROR: Due to a more serious problem, the software has not been able to perform some function.\n",
    "- CRITICAL: A very serious error, indicating that the program itself may be unable to continue running."
   ]
  },
  {
   "cell_type": "code",
   "execution_count": 8,
   "id": "2cdad9f0",
   "metadata": {},
   "outputs": [
    {
     "name": "stderr",
     "output_type": "stream",
     "text": [
      "DEBUG:root:This is a debug message\n",
      "INFO:root:This is an info message\n",
      "WARNING:root:This is a warning message\n",
      "ERROR:root:This is an error message\n",
      "CRITICAL:root:This is a critical message\n"
     ]
    }
   ],
   "source": [
    "\n",
    "## configuring logging\n",
    "import logging\n",
    "\n",
    "logging.basicConfig(\n",
    "    filename='app.log',\n",
    "    filemode='w',\n",
    "    level=logging.DEBUG,\n",
    "    format='%(asctime)s-%(name)s-%(levelname)s-%(message)s',\n",
    "    datefmt='%Y-%m-%d %H:%M:%S'\n",
    "    )\n",
    "\n",
    "## log messages with different severity levels\n",
    "logging.debug(\"This is a debug message\")\n",
    "logging.info(\"This is an info message\")\n",
    "logging.warning(\"This is a warning message\")\n",
    "logging.error(\"This is an error message\")\n",
    "logging.critical(\"This is a critical message\")"
   ]
  },
  {
   "cell_type": "code",
   "execution_count": null,
   "id": "409fbe3e",
   "metadata": {},
   "outputs": [],
   "source": []
  }
 ],
 "metadata": {
  "kernelspec": {
   "display_name": "Python 3",
   "language": "python",
   "name": "python3"
  },
  "language_info": {
   "codemirror_mode": {
    "name": "ipython",
    "version": 3
   },
   "file_extension": ".py",
   "mimetype": "text/x-python",
   "name": "python",
   "nbconvert_exporter": "python",
   "pygments_lexer": "ipython3",
   "version": "3.12.0"
  }
 },
 "nbformat": 4,
 "nbformat_minor": 5
}
