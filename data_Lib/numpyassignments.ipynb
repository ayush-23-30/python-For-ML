{
 "cells": [
  {
   "cell_type": "markdown",
   "metadata": {},
   "source": [
    "# Module: NumPy Assignments\n",
    "## Lesson: NumPy\n",
    "### Assignment 1: Array Creation and Manipulation\n",
    "\n",
    "1. Create a NumPy array of shape (5, 5) filled with random integers between 1 and 20. Replace all the elements in the third column with 1.\n",
    "2. Create a NumPy array of shape (4, 4) with values from 1 to 16. Replace the diagonal elements with 0.\n",
    "\n",
    "### Assignment 2: Array Indexing and Slicing\n",
    "\n",
    "1. Create a NumPy array of shape (6, 6) with values from 1 to 36. Extract the sub-array consisting of the 3rd to 5th rows and 2nd to 4th columns.\n",
    "2. Create a NumPy array of shape (5, 5) with random integers. Extract the elements on the border.\n",
    "\n",
    "### Assignment 3: Array Operations\n",
    "\n",
    "1. Create two NumPy arrays of shape (3, 4) filled with random integers. Perform element-wise addition, subtraction, multiplication, and division.\n",
    "2. Create a NumPy array of shape (4, 4) with values from 1 to 16. Compute the row-wise and column-wise sum.\n",
    "\n",
    "### Assignment 4: Statistical Operations\n",
    "\n",
    "1. Create a NumPy array of shape (5, 5) filled with random integers. Compute the mean, median, standard deviation, and variance of the array.\n",
    "2. Create a NumPy array of shape (3, 3) with values from 1 to 9. Normalize the array (i.e., scale the values to have a mean of 0 and a standard deviation of 1).\n",
    "\n",
    "### Assignment 5: Broadcasting\n",
    "\n",
    "1. Create a NumPy array of shape (3, 3) filled with random integers. Add a 1D array of shape (3,) to each row of the 2D array using broadcasting.\n",
    "2. Create a NumPy array of shape (4, 4) filled with random integers. Subtract a 1D array of shape (4,) from each column of the 2D array using broadcasting.\n",
    "\n",
    "### Assignment 6: Linear Algebra\n",
    "\n",
    "1. Create a NumPy array of shape (3, 3) representing a matrix. Compute its determinant, inverse, and eigenvalues.\n",
    "2. Create two NumPy arrays of shape (2, 3) and (3, 2). Perform matrix multiplication on these arrays.\n",
    "\n",
    "### Assignment 7: Advanced Array Manipulation\n",
    "\n",
    "1. Create a NumPy array of shape (3, 3) with values from 1 to 9. Reshape the array to shape (1, 9) and then to shape (9, 1).\n",
    "2. Create a NumPy array of shape (5, 5) filled with random integers. Flatten the array and then reshape it back to (5, 5).\n",
    "\n",
    "### Assignment 8: Fancy Indexing and Boolean Indexing\n",
    "\n",
    "1. Create a NumPy array of shape (5, 5) filled with random integers. Use fancy indexing to extract the elements at the corners of the array.\n",
    "2. Create a NumPy array of shape (4, 4) filled with random integers. Use boolean indexing to set all elements greater than 10 to 10.\n",
    "\n",
    "### Assignment 9: Structured Arrays\n",
    "\n",
    "1. Create a structured array with fields 'name' (string), 'age' (integer), and 'weight' (float). Add some data and sort the array by age.\n",
    "2. Create a structured array with fields 'x' and 'y' (both integers). Add some data and compute the Euclidean distance between each pair of points.\n",
    "\n",
    "### Assignment 10: Masked Arrays\n",
    "\n",
    "1. Create a masked array of shape (4, 4) with random integers and mask the elements greater than 10. Compute the sum of the unmasked elements.\n",
    "2. Create a masked array of shape (3, 3) with random integers and mask the diagonal elements. Replace the masked elements with the mean of the unmasked elements."
   ]
  },
  {
   "cell_type": "code",
   "execution_count": 1,
   "metadata": {},
   "outputs": [],
   "source": [
    "import numpy as np\n"
   ]
  },
  {
   "cell_type": "code",
   "execution_count": null,
   "id": "85de91ec",
   "metadata": {},
   "outputs": [
    {
     "name": "stdout",
     "output_type": "stream",
     "text": [
      "Modified array:\n",
      "[[19 17  1  7  7]\n",
      " [ 4  4  1 10 18]\n",
      " [ 8  3  1 18 19]\n",
      " [17  1  1 13 11]\n",
      " [ 7 17  1 20 18]]\n"
     ]
    }
   ],
   "source": [
    "# Create a NumPy array of shape (5, 5) filled with random integers\n",
    "\n",
    "# shape5_5 = np.random.randint(1,21, size = (5,5));\n",
    "shape5 = np.random.randint(1,21,size = (5,5));\n",
    "# print(\"Original Array : \", shape5); \n",
    "\n",
    "\n",
    "shape5[:, 2] = 1 # sabke 2nd index ki value 1 se replace kardo \n",
    "print(\"Modified array:\")\n",
    "print(shape5)\n"
   ]
  },
  {
   "cell_type": "code",
   "execution_count": 9,
   "id": "998866ae",
   "metadata": {},
   "outputs": [
    {
     "name": "stdout",
     "output_type": "stream",
     "text": [
      "[[ 0  1  9  3]\n",
      " [ 9  0 10 10]\n",
      " [11  8  0 13]\n",
      " [11 12  4  0]]\n"
     ]
    }
   ],
   "source": [
    "arr2 = np.random.randint(1,16,size=(4,4))\n",
    "# print(arr2)\n",
    "\n",
    "np.fill_diagonal(arr2,0); \n",
    "print(arr2)\n"
   ]
  },
  {
   "cell_type": "code",
   "execution_count": 12,
   "id": "86cfbc8f",
   "metadata": {},
   "outputs": [
    {
     "name": "stdout",
     "output_type": "stream",
     "text": [
      "Original array:\n",
      "[[26 11 33 34 30 29]\n",
      " [14 18 34 12 25 35]\n",
      " [ 5 21 35 33 30 30]\n",
      " [33 19 12 17 28 21]\n",
      " [ 4 18 22 12  8 13]\n",
      " [14  6 13  5  1 29]]\n",
      "modify\n",
      "[[21 35 33]\n",
      " [19 12 17]\n",
      " [18 22 12]]\n"
     ]
    }
   ],
   "source": [
    "arr3 = np.random.randint(1,36,size=(6,6));\n",
    "print(\"Original array:\")\n",
    "print(arr3)\n",
    "\n",
    "# Extract the sub-array\n",
    "sub_arr = arr3[2:5,1:4]; \n",
    "# 3nd index se 5th index tak ; aur :2nd se 4th column\n",
    "print('modify');\n",
    "print(sub_arr)"
   ]
  },
  {
   "cell_type": "code",
   "execution_count": null,
   "id": "4aa6b85c",
   "metadata": {},
   "outputs": [
    {
     "name": "stdout",
     "output_type": "stream",
     "text": [
      "[[ 8 12  8  7 18]\n",
      " [ 7 10 14 14  8]\n",
      " [18 10  7 16  6]\n",
      " [ 1 12  4 17  7]\n",
      " [13 18 17 19 12]]\n",
      "border\n",
      "[ 8 12  8  7 18 13 18 17 19 12]\n"
     ]
    }
   ],
   "source": [
    "shape5 = np.random.randint(1,21,size = (5,5));\n",
    "print(shape5)\n",
    "\n",
    "border_elem = np.concatenate((shape5[0,:], shape5[-1,:]));\n",
    "## 0 index se last tak ka aur last se row\n",
    "print('border')\n",
    "print(border_elem); "
   ]
  },
  {
   "cell_type": "code",
   "execution_count": 16,
   "id": "3d3c79ac",
   "metadata": {},
   "outputs": [
    {
     "name": "stdout",
     "output_type": "stream",
     "text": [
      "Array 1:\n",
      "Array 2:\n",
      "add [[13 13 12 10]\n",
      " [10  3 13  8]\n",
      " [19 13  4  6]]\n",
      "sub [[-1 -3 -6  0]\n",
      " [ 8 -1  5  4]\n",
      " [ 1  7  0 -4]]\n",
      "mul [[42 40 27 25]\n",
      " [ 9  2 36 12]\n",
      " [90 30  4  5]]\n"
     ]
    }
   ],
   "source": [
    "array1 = np.random.randint(1, 11, size=(3, 4))\n",
    "array2 = np.random.randint(1, 11, size=(3, 4))\n",
    "print(\"Array 1:\")\n",
    "# print(array1)\n",
    "print(\"Array 2:\")\n",
    "# print(array2)\n",
    "\n",
    "print(f'add {array1 + array2}')\n",
    "print(f'sub {array1 - array2}')\n",
    "print(f'mul {array1 * array2}')"
   ]
  },
  {
   "cell_type": "code",
   "execution_count": null,
   "id": "f9ce0313",
   "metadata": {},
   "outputs": [
    {
     "name": "stdout",
     "output_type": "stream",
     "text": [
      "Row-wise sum:\n",
      "[41 21 46 27]\n",
      "Column-wise sum:\n",
      "[17 39 39 40]\n"
     ]
    }
   ],
   "source": [
    "arr2 = np.random.randint(1,16,size=(4,4));\n",
    "\n",
    "row_sum = np.sum(arr2,axis=1); # axis 1 -- row target\n",
    "col_sum = np.sum(arr2,axis=0); # axis 0 -- column target \n",
    "\n",
    "print(\"Row-wise sum:\");\n",
    "print(row_sum);\n",
    "print(\"Column-wise sum:\");\n",
    "print(col_sum);\n"
   ]
  },
  {
   "cell_type": "code",
   "execution_count": 18,
   "id": "920dfab3",
   "metadata": {},
   "outputs": [
    {
     "name": "stdout",
     "output_type": "stream",
     "text": [
      "Mean: 9.88\n",
      "Median: 9.0\n",
      "Standard Deviation: 6.748748032042683\n",
      "Variance: 45.54559999999999\n"
     ]
    }
   ],
   "source": [
    "array = np.random.randint(1, 21, size=(5, 5))\n",
    "\n",
    "mean = np.mean(array);\n",
    "med = np.median(array);\n",
    "std_dev = np.std(array);\n",
    "variance = np.var(array);\n",
    "\n",
    "\n",
    "print(\"Mean:\", mean)\n",
    "print(\"Median:\", med)\n",
    "print(\"Standard Deviation:\", std_dev)\n",
    "print(\"Variance:\", variance)"
   ]
  },
  {
   "cell_type": "code",
   "execution_count": null,
   "id": "7d55d1f2",
   "metadata": {},
   "outputs": [
    {
     "name": "stdout",
     "output_type": "stream",
     "text": [
      "[[-1.54919334 -1.161895   -0.77459667]\n",
      " [-0.38729833  0.          0.38729833]\n",
      " [ 0.77459667  1.161895    1.54919334]]\n"
     ]
    }
   ],
   "source": [
    "array = np.arange(1, 10).reshape((3, 3))\n",
    "\n",
    "## normalization - the array formula -> \n",
    "# array - mean / divide std_Dev\n",
    "\n",
    "mean = np.mean(array);\n",
    "std_dev = np.std(array);\n",
    "normalized = (array - mean) / std_dev;\n",
    "\n",
    "print(normalized); \n",
    "# it return  every single normalized version of array elem \n",
    "\n"
   ]
  },
  {
   "cell_type": "code",
   "execution_count": null,
   "id": "1d783e4a",
   "metadata": {},
   "outputs": [
    {
     "name": "stdout",
     "output_type": "stream",
     "text": [
      "Original array:\n",
      "[[ 8  5  5]\n",
      " [ 4  2  9]\n",
      " [10  7  3]]\n",
      "1D array:\n",
      "[10  9  4]\n",
      "Resulting array:\n",
      "[[18 14  9]\n",
      " [14 11 13]\n",
      " [20 16  7]]\n"
     ]
    }
   ],
   "source": [
    "## Broadcasting \n",
    "\n",
    "arr = np.random.randint(1,11,size=(3,3)); \n",
    "row_Arr = np.random.randint(1,11,size = (3,));\n",
    "print(\"Original array:\")\n",
    "print(arr)\n",
    "print(\"1D array:\")\n",
    "print(row_Arr)\n",
    "\n",
    "# we have two arrays \n",
    "\n",
    "res = arr + row_Arr;\n",
    "print(\"Resulting array:\");\n",
    "print(res);\n"
   ]
  },
  {
   "cell_type": "code",
   "execution_count": null,
   "id": "a4cea007",
   "metadata": {},
   "outputs": [
    {
     "name": "stdout",
     "output_type": "stream",
     "text": [
      "Original array:\n",
      "[[ 1  1  6  7]\n",
      " [ 8 10  5  3]\n",
      " [ 4  3  7  8]\n",
      " [ 7  4  8  8]]\n",
      "1D array:\n",
      "[3 5 1 7]\n",
      "Resulting array:\n",
      "[[-2 -2  3  4]\n",
      " [ 3  5  0 -2]\n",
      " [ 3  2  6  7]\n",
      " [ 0 -3  1  1]]\n"
     ]
    }
   ],
   "source": [
    "# Create a NumPy array of shape (4, 4) filled with random integers\n",
    "array = np.random.randint(1, 11, size=(4, 4))\n",
    "column_array = np.random.randint(1, 11, size=(4,))\n",
    "print(\"Original array:\")\n",
    "print(array)\n",
    "print(\"1D array:\")\n",
    "print(column_array)\n",
    "\n",
    "result = array - column_array[:,np.newaxis];\n",
    "print(\"Resulting array:\")\n",
    "print(result);\n"
   ]
  },
  {
   "cell_type": "code",
   "execution_count": null,
   "id": "8f8dc74a",
   "metadata": {},
   "outputs": [
    {
     "name": "stdout",
     "output_type": "stream",
     "text": [
      "Original matrix:\n",
      "[[7 5 6]\n",
      " [1 4 3]\n",
      " [3 8 5]]\n",
      "Deter : -32.000000000000014\n",
      "Inverse [[ 0.125   -0.71875  0.28125]\n",
      " [-0.125   -0.53125  0.46875]\n",
      " [ 0.125    1.28125 -0.71875]]\n",
      "eigenvalues [13.05457738  3.62215916 -0.67673655]\n"
     ]
    }
   ],
   "source": [
    "matrix = np.random.randint(1, 11, size=(3, 3));\n",
    "print(\"Original matrix:\");\n",
    "print(matrix);\n",
    "\n",
    "deter = np.linalg.det(matrix);\n",
    "print('Deter :', deter);\n",
    "\n",
    "inverse = np.linalg.inv(matrix);\n",
    "print('Inverse', inverse);\n",
    "\n",
    "eigenvalues = np.linalg.eigvals(matrix);\n",
    "print('eigenvalues', eigenvalues);\n"
   ]
  },
  {
   "cell_type": "code",
   "execution_count": 30,
   "id": "70460838",
   "metadata": {},
   "outputs": [
    {
     "name": "stdout",
     "output_type": "stream",
     "text": [
      "Array 1:\n",
      "[[ 2  6 10]\n",
      " [ 2  8  5]]\n",
      "Array 2:\n",
      "[[ 9  6]\n",
      " [ 2  9]\n",
      " [10 10]]\n",
      "mulitple\n",
      "[[130 166]\n",
      " [ 84 134]]\n"
     ]
    }
   ],
   "source": [
    "# Create two NumPy arrays of shape (2, 3) and (3, 2)\n",
    "array1 = np.random.randint(1, 11, size=(2, 3))\n",
    "array2 = np.random.randint(1, 11, size=(3, 2))\n",
    "print(\"Array 1:\")\n",
    "print(array1)\n",
    "print(\"Array 2:\")\n",
    "print(array2)\n",
    "\n",
    "res = np.dot(array1,array2);\n",
    "print('mulitple');\n",
    "print(res); "
   ]
  },
  {
   "cell_type": "code",
   "execution_count": null,
   "id": "40281eda",
   "metadata": {},
   "outputs": [
    {
     "name": "stdout",
     "output_type": "stream",
     "text": [
      "[[1 2 3]\n",
      " [4 5 6]\n",
      " [7 8 9]]\n",
      "[[1 2 3 4 5 6 7 8 9]]\n",
      "[[1]\n",
      " [2]\n",
      " [3]\n",
      " [4]\n",
      " [5]\n",
      " [6]\n",
      " [7]\n",
      " [8]\n",
      " [9]]\n"
     ]
    }
   ],
   "source": [
    "arr8 = np.arange(1,10).reshape((3,3));\n",
    "print(arr8);\n",
    "\n",
    "reshaped_arr = arr8.reshape((1,9));\n",
    "print(reshaped_arr);\n",
    "\n",
    "new_res = reshaped_arr.reshape((9,1));\n",
    "print(new_res);\n"
   ]
  },
  {
   "cell_type": "code",
   "execution_count": 35,
   "id": "9b867400",
   "metadata": {},
   "outputs": [
    {
     "name": "stdout",
     "output_type": "stream",
     "text": [
      "[ 1  8 15 11 17  6  2  3  5  9 11 13  8  5  3 14 14 11 17 18  6  3  3  6\n",
      " 10]\n"
     ]
    }
   ],
   "source": [
    "array = np.random.randint(1,21,size = (5,5)); \n",
    "\n",
    "flattened  = array.flatten()\n",
    "print(flattened)"
   ]
  },
  {
   "cell_type": "code",
   "execution_count": null,
   "id": "24e4744d",
   "metadata": {},
   "outputs": [
    {
     "name": "stdout",
     "output_type": "stream",
     "text": [
      "Original array:\n",
      "[[17 16  4  8  4]\n",
      " [ 4  6 10  4 13]\n",
      " [ 9 11 17  4 10]\n",
      " [14 18  5 15  2]\n",
      " [ 6 15  8 15 19]]\n",
      "[17  4  6 19]\n"
     ]
    }
   ],
   "source": [
    "# Create a NumPy array of shape (5, 5) filled with random integers\n",
    "array = np.random.randint(1, 21, size=(5, 5))\n",
    "print(\"Original array:\")\n",
    "print(array)\n",
    "\n",
    "\n",
    "# Use fancy indexing to extract the elements at the corners of the array\n",
    "\n",
    "corners = array[[0,0,-1,-1], [0,-1,0,-1]];\n",
    "print(corners);\n",
    "\n"
   ]
  },
  {
   "cell_type": "code",
   "execution_count": null,
   "id": "fa75604c",
   "metadata": {},
   "outputs": [
    {
     "name": "stdout",
     "output_type": "stream",
     "text": [
      "Original array:\n",
      "[[ 3 10 20  9]\n",
      " [14  7  2  6]\n",
      " [ 3  7  9 14]\n",
      " [ 7 10 10 15]]\n",
      "Modified\n",
      "[[ 3 10 10  9]\n",
      " [10  7  2  6]\n",
      " [ 3  7  9 10]\n",
      " [ 7 10 10 10]]\n"
     ]
    }
   ],
   "source": [
    "array = np.random.randint(1, 21, size=(4, 4))\n",
    "print(\"Original array:\")\n",
    "print(array); \n",
    "\n",
    "array[array > 10] = 10;\n",
    "print('Modified');\n",
    "print(array);\n",
    "\n"
   ]
  },
  {
   "cell_type": "code",
   "execution_count": 41,
   "id": "4d74ffc0",
   "metadata": {},
   "outputs": [
    {
     "name": "stdout",
     "output_type": "stream",
     "text": [
      "[('Alice', 25, 55.5) ('bob', 30, 85.4) ('charlie', 20, 65.3)]\n",
      "sorted array by age :\n",
      "[('charlie', 20, 65.3) ('Alice', 25, 55.5) ('bob', 30, 85.4)]\n"
     ]
    }
   ],
   "source": [
    "# Create a structured array with fields 'name', 'age', and 'weight'\n",
    "\n",
    "data_type = [('name','U10'), ('age','i4'),('weight', 'f4')];\n",
    "\n",
    "data = np.array([('Alice', 25,55.5), ('bob',30,85.4), ('charlie',20,65.3)],dtype= data_type);\n",
    "\n",
    "print(data);\n",
    "\n",
    "sorted_data = np.sort(data,order = 'age');\n",
    "print('sorted array by age :'); \n",
    "print(sorted_data)"
   ]
  },
  {
   "cell_type": "code",
   "execution_count": 42,
   "id": "18009e0b",
   "metadata": {},
   "outputs": [
    {
     "name": "stdout",
     "output_type": "stream",
     "text": [
      "Original array:\n",
      "[(1, 2) (3, 4) (5, 6)]\n",
      "Euclidean distances:\n",
      "[[       nan        nan        nan]\n",
      " [2.                nan        nan]\n",
      " [4.24264069        nan        nan]]\n"
     ]
    },
    {
     "name": "stderr",
     "output_type": "stream",
     "text": [
      "C:\\Users\\pawar\\AppData\\Local\\Temp\\ipykernel_12832\\4145709456.py:8: RuntimeWarning: invalid value encountered in sqrt\n",
      "  distances = np.sqrt((data['x'][:,np.newaxis] - data['x'])** 2 + (data['y'][:,np.newaxis] - data['y']** 2));\n"
     ]
    }
   ],
   "source": [
    "# Create a structured array with fields 'x' and 'y'\n",
    "\n",
    "data_type = [('x','i4'),('y','i4')];\n",
    "data = np.array([(1,2), (3,4), (5,6)] , dtype= data_type); \n",
    "print(\"Original array:\")\n",
    "print(data);\n",
    "\n",
    "distances = np.sqrt((data['x'][:,np.newaxis] - data['x'])** 2 + (data['y'][:,np.newaxis] - data['y']** 2));\n",
    "\n",
    "print(\"Euclidean distances:\")\n",
    "print(distances)"
   ]
  },
  {
   "cell_type": "code",
   "execution_count": 43,
   "id": "4d7d0241",
   "metadata": {},
   "outputs": [],
   "source": [
    "import numpy.ma as ma"
   ]
  },
  {
   "cell_type": "code",
   "execution_count": 46,
   "id": "28c5eda7",
   "metadata": {},
   "outputs": [
    {
     "name": "stdout",
     "output_type": "stream",
     "text": [
      "Original array:\n",
      "[[ 2  2 17 19]\n",
      " [17 20 17  7]\n",
      " [ 1  3 15  6]\n",
      " [17 18  9  6]]\n",
      "Masked array:\n",
      "[[2 2 -- --]\n",
      " [-- -- -- 7]\n",
      " [1 3 -- 6]\n",
      " [-- -- 9 6]]\n",
      "Sum of unmasked elements: 36\n"
     ]
    }
   ],
   "source": [
    "arr = np.random.randint(1,21, size=(4,4));\n",
    "masked_Array = ma.masked_greater(arr,10);\n",
    "print(\"Original array:\")\n",
    "print(arr)\n",
    "print(\"Masked array:\")\n",
    "print(masked_Array)\n",
    "\n",
    "#  Compute the sum of the unmasked elements\n",
    "sum_unmasked = masked_Array.sum()\n",
    "print(\"Sum of unmasked elements:\", sum_unmasked)"
   ]
  },
  {
   "cell_type": "code",
   "execution_count": null,
   "id": "80585a78",
   "metadata": {},
   "outputs": [
    {
     "name": "stdout",
     "output_type": "stream",
     "text": [
      "Original array:\n",
      "[[ 3 10 10  9]\n",
      " [10  7  2  6]\n",
      " [ 3  7  9 10]\n",
      " [ 7 10 10 10]]\n",
      "Masked array:\n",
      "[[-- 1 6]\n",
      " [4 -- 17]\n",
      " [5 14 --]]\n",
      "Modified masked array:\n",
      "[[ 7  1  6]\n",
      " [ 4  7 17]\n",
      " [ 5 14  7]]\n"
     ]
    }
   ],
   "source": [
    "arr = np.random.randint(1,21,size=(3,3));\n",
    "masked_arr = ma.masked_array(arr,mask= np.eye(3,dtype=bool));\n",
    "print(\"Original array:\")\n",
    "print(array)\n",
    "print(\"Masked array:\")\n",
    "print(masked_arr);\n",
    "\n",
    "\n",
    "mean_unmasked = masked_arr.mean();\n",
    "masked_arrrr = masked_arr.filled(mean_unmasked);\n",
    "print(\"Modified masked array:\");\n",
    "print(masked_arrrr);\n"
   ]
  },
  {
   "cell_type": "code",
   "execution_count": null,
   "id": "d9b04fb1",
   "metadata": {},
   "outputs": [],
   "source": []
  }
 ],
 "metadata": {
  "kernelspec": {
   "display_name": "Python 3",
   "language": "python",
   "name": "python3"
  },
  "language_info": {
   "codemirror_mode": {
    "name": "ipython",
    "version": 3
   },
   "file_extension": ".py",
   "mimetype": "text/x-python",
   "name": "python",
   "nbconvert_exporter": "python",
   "pygments_lexer": "ipython3",
   "version": "3.12.0"
  }
 },
 "nbformat": 4,
 "nbformat_minor": 5
}
