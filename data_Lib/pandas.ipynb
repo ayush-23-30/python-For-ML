{
 "cells": [
  {
   "cell_type": "markdown",
   "id": "854c9487",
   "metadata": {},
   "source": [
    "## Pandas \n",
    "\n",
    "It is a powerful data manipulation library in python. Widely used for data analysis and data cleaning. it provides two primary Data Structures : `series` and  `DataFrame` . \n",
    "\n",
    "A series is a one-dimensional Array like- object.\n",
    "\n",
    "While A data frame is a two-dimensional ,Size-mutable and potentially hetrogeneous[different elemenets] tabular data structure with labeled axes (Row and column)."
   ]
  },
  {
   "cell_type": "code",
   "execution_count": null,
   "id": "79fbe077",
   "metadata": {},
   "outputs": [
    {
     "name": "stdout",
     "output_type": "stream",
     "text": [
      "Collecting pandas\n",
      "  Downloading pandas-2.2.3-cp312-cp312-win_amd64.whl.metadata (19 kB)\n",
      "Requirement already satisfied: numpy>=1.26.0 in d:\\machine learning\\python\\venv\\lib\\site-packages (from pandas) (2.2.5)\n",
      "Requirement already satisfied: python-dateutil>=2.8.2 in d:\\machine learning\\python\\venv\\lib\\site-packages (from pandas) (2.9.0.post0)\n",
      "Collecting pytz>=2020.1 (from pandas)\n",
      "  Downloading pytz-2025.2-py2.py3-none-any.whl.metadata (22 kB)\n",
      "Collecting tzdata>=2022.7 (from pandas)\n",
      "  Downloading tzdata-2025.2-py2.py3-none-any.whl.metadata (1.4 kB)\n",
      "Requirement already satisfied: six>=1.5 in d:\\machine learning\\python\\venv\\lib\\site-packages (from python-dateutil>=2.8.2->pandas) (1.17.0)\n",
      "Downloading pandas-2.2.3-cp312-cp312-win_amd64.whl (11.5 MB)\n",
      "   ---------------------------------------- 0.0/11.5 MB ? eta -:--:--\n",
      "   ------ --------------------------------- 1.8/11.5 MB 12.6 MB/s eta 0:00:01\n",
      "   -------------------------------- ------- 9.4/11.5 MB 26.7 MB/s eta 0:00:01\n",
      "   ---------------------------------------- 11.5/11.5 MB 24.0 MB/s eta 0:00:00\n",
      "Downloading pytz-2025.2-py2.py3-none-any.whl (509 kB)\n",
      "Downloading tzdata-2025.2-py2.py3-none-any.whl (347 kB)\n",
      "Installing collected packages: pytz, tzdata, pandas\n",
      "Successfully installed pandas-2.2.3 pytz-2025.2 tzdata-2025.2\n",
      "Note: you may need to restart the kernel to use updated packages.\n"
     ]
    }
   ],
   "source": [
    "# %pip install pandas"
   ]
  },
  {
   "cell_type": "code",
   "execution_count": null,
   "id": "81471b6b",
   "metadata": {},
   "outputs": [
    {
     "name": "stdout",
     "output_type": "stream",
     "text": [
      "0    12\n",
      "1     3\n",
      "2     4\n",
      "3     5\n",
      "4     6\n",
      "5     3\n",
      "dtype: int64\n"
     ]
    }
   ],
   "source": [
    "import pandas as pd\n",
    "\n",
    "## Series - Like 1D array can hold any data-type return indies also \n",
    "\n",
    "data = [12,3,4,5,6,3]; \n",
    "series = pd.Series(data); \n",
    "print(series)\n",
    "\n"
   ]
  },
  {
   "cell_type": "code",
   "execution_count": null,
   "id": "984ef0b5",
   "metadata": {},
   "outputs": [
    {
     "name": "stdout",
     "output_type": "stream",
     "text": [
      "a     1\n",
      "b     2\n",
      "c     3\n",
      "dtype: int64\n"
     ]
    }
   ],
   "source": [
    "## Create series from dictornies \n",
    "\n",
    "data = {'a ': 1, 'b':2, 'c' : 3}; # in dictornies key become indies \n",
    "dic = pd.Series(data)\n",
    "print(dic)"
   ]
  },
  {
   "cell_type": "code",
   "execution_count": null,
   "id": "986aef8c",
   "metadata": {},
   "outputs": [
    {
     "data": {
      "text/plain": [
       "a    10\n",
       "b    20\n",
       "c    30\n",
       "dtype: int64"
      ]
     },
     "execution_count": 7,
     "metadata": {},
     "output_type": "execute_result"
    }
   ],
   "source": [
    "sata = [10,20,30]; \n",
    "index = ['a', 'b', 'c'];  # custom indies \n",
    "\n",
    "pd.Series(sata,index)"
   ]
  },
  {
   "cell_type": "code",
   "execution_count": null,
   "id": "ddefd3d6",
   "metadata": {},
   "outputs": [
    {
     "name": "stdout",
     "output_type": "stream",
     "text": [
      "{'name': ['ayush', 'Kumar', 'sahu', 'vishal'], 'age': [12, 7, 56, 23], 'city': ['ip', 'vai', 'khora', 'bhapur']}\n",
      "     name  age    city\n",
      "0   ayush   12      ip\n",
      "1   Kumar    7     vai\n",
      "2    sahu   56   khora\n",
      "3  vishal   23  bhapur\n"
     ]
    }
   ],
   "source": [
    "# data - frame = 2d array \n",
    "\n",
    "data_frame = {\n",
    "  'name' : ['ayush','Kumar','sahu', 'vishal'], \n",
    "  'age': [12,7,56,23],\n",
    "  'city' : ['ip', 'vai', 'khora', 'bhapur']\n",
    "} \n",
    "\n",
    "print(data_frame)\n",
    "\n",
    "df = pd.DataFrame(data_frame); # this converted it into a tabular data form \n",
    "\n",
    "print(df)"
   ]
  },
  {
   "cell_type": "code",
   "execution_count": null,
   "id": "23130948",
   "metadata": {},
   "outputs": [
    {
     "data": {
      "text/plain": [
       "array([['ayush', 12, 'ip'],\n",
       "       ['Kumar', 7, 'vai'],\n",
       "       ['sahu', 56, 'khora'],\n",
       "       ['vishal', 23, 'bhapur']], dtype=object)"
      ]
     },
     "execution_count": 10,
     "metadata": {},
     "output_type": "execute_result"
    }
   ],
   "source": [
    "import numpy as np\n",
    "\n",
    "np.array(df) ## intoo a 2d matrix "
   ]
  },
  {
   "cell_type": "code",
   "execution_count": 16,
   "id": "2a753851",
   "metadata": {},
   "outputs": [
    {
     "name": "stdout",
     "output_type": "stream",
     "text": [
      "0        {'Name': 'Ayush', 'Age': 22, 'City': 'IP'}\n",
      "1     {'Name': 'Anuj', 'Age': 23, 'City': 'Bhapur'}\n",
      "2    {'Name': 'Sahu', 'Age': 24, 'City': 'Vaisali'}\n",
      "dtype: object\n"
     ]
    }
   ],
   "source": [
    "## Creating a Data frame from a List of Dictionaries\n",
    " \n",
    "data_frame = [\n",
    "  {'Name' : 'Ayush', 'Age':22 , 'City' : 'IP'},\n",
    "  {'Name' : 'Anuj', 'Age':23 , 'City' : 'Bhapur'},\n",
    "  {'Name' : 'Sahu', 'Age':24 , 'City' : 'Vaisali'},\n",
    "]  \n",
    "\n",
    "\n",
    "# for d in data_frame:\n",
    "#   print(d)\n",
    "\n",
    "df = pd.Series(data_frame); \n",
    "print(df)\n"
   ]
  },
  {
   "cell_type": "code",
   "execution_count": 20,
   "id": "d18a9dec",
   "metadata": {},
   "outputs": [
    {
     "data": {
      "text/html": [
       "<div>\n",
       "<style scoped>\n",
       "    .dataframe tbody tr th:only-of-type {\n",
       "        vertical-align: middle;\n",
       "    }\n",
       "\n",
       "    .dataframe tbody tr th {\n",
       "        vertical-align: top;\n",
       "    }\n",
       "\n",
       "    .dataframe thead th {\n",
       "        text-align: right;\n",
       "    }\n",
       "</style>\n",
       "<table border=\"1\" class=\"dataframe\">\n",
       "  <thead>\n",
       "    <tr style=\"text-align: right;\">\n",
       "      <th></th>\n",
       "      <th>Transaction ID</th>\n",
       "      <th>Date</th>\n",
       "      <th>Product Category</th>\n",
       "      <th>Product Name</th>\n",
       "      <th>Units Sold</th>\n",
       "      <th>Unit Price</th>\n",
       "      <th>Total Revenue</th>\n",
       "      <th>Region</th>\n",
       "      <th>Payment Method</th>\n",
       "    </tr>\n",
       "  </thead>\n",
       "  <tbody>\n",
       "    <tr>\n",
       "      <th>0</th>\n",
       "      <td>10001</td>\n",
       "      <td>2024-01-01</td>\n",
       "      <td>Electronics</td>\n",
       "      <td>iPhone 14 Pro</td>\n",
       "      <td>2</td>\n",
       "      <td>999.99</td>\n",
       "      <td>1999.98</td>\n",
       "      <td>North America</td>\n",
       "      <td>Credit Card</td>\n",
       "    </tr>\n",
       "    <tr>\n",
       "      <th>1</th>\n",
       "      <td>10002</td>\n",
       "      <td>2024-01-02</td>\n",
       "      <td>Home Appliances</td>\n",
       "      <td>Dyson V11 Vacuum</td>\n",
       "      <td>1</td>\n",
       "      <td>499.99</td>\n",
       "      <td>499.99</td>\n",
       "      <td>Europe</td>\n",
       "      <td>PayPal</td>\n",
       "    </tr>\n",
       "    <tr>\n",
       "      <th>2</th>\n",
       "      <td>10003</td>\n",
       "      <td>2024-01-03</td>\n",
       "      <td>Clothing</td>\n",
       "      <td>Levi's 501 Jeans</td>\n",
       "      <td>3</td>\n",
       "      <td>69.99</td>\n",
       "      <td>209.97</td>\n",
       "      <td>Asia</td>\n",
       "      <td>Debit Card</td>\n",
       "    </tr>\n",
       "    <tr>\n",
       "      <th>3</th>\n",
       "      <td>10004</td>\n",
       "      <td>2024-01-04</td>\n",
       "      <td>Books</td>\n",
       "      <td>The Da Vinci Code</td>\n",
       "      <td>4</td>\n",
       "      <td>15.99</td>\n",
       "      <td>63.96</td>\n",
       "      <td>North America</td>\n",
       "      <td>Credit Card</td>\n",
       "    </tr>\n",
       "  </tbody>\n",
       "</table>\n",
       "</div>"
      ],
      "text/plain": [
       "   Transaction ID        Date Product Category       Product Name  Units Sold  \\\n",
       "0           10001  2024-01-01      Electronics      iPhone 14 Pro           2   \n",
       "1           10002  2024-01-02  Home Appliances   Dyson V11 Vacuum           1   \n",
       "2           10003  2024-01-03         Clothing   Levi's 501 Jeans           3   \n",
       "3           10004  2024-01-04            Books  The Da Vinci Code           4   \n",
       "\n",
       "   Unit Price  Total Revenue         Region Payment Method  \n",
       "0      999.99        1999.98  North America    Credit Card  \n",
       "1      499.99         499.99         Europe         PayPal  \n",
       "2       69.99         209.97           Asia     Debit Card  \n",
       "3       15.99          63.96  North America    Credit Card  "
      ]
     },
     "execution_count": 20,
     "metadata": {},
     "output_type": "execute_result"
    }
   ],
   "source": [
    "df = pd.read_csv('sales_data.csv')\n",
    "df.head(4)"
   ]
  },
  {
   "cell_type": "code",
   "execution_count": 19,
   "id": "46eaf984",
   "metadata": {},
   "outputs": [
    {
     "data": {
      "text/html": [
       "<div>\n",
       "<style scoped>\n",
       "    .dataframe tbody tr th:only-of-type {\n",
       "        vertical-align: middle;\n",
       "    }\n",
       "\n",
       "    .dataframe tbody tr th {\n",
       "        vertical-align: top;\n",
       "    }\n",
       "\n",
       "    .dataframe thead th {\n",
       "        text-align: right;\n",
       "    }\n",
       "</style>\n",
       "<table border=\"1\" class=\"dataframe\">\n",
       "  <thead>\n",
       "    <tr style=\"text-align: right;\">\n",
       "      <th></th>\n",
       "      <th>Transaction ID</th>\n",
       "      <th>Date</th>\n",
       "      <th>Product Category</th>\n",
       "      <th>Product Name</th>\n",
       "      <th>Units Sold</th>\n",
       "      <th>Unit Price</th>\n",
       "      <th>Total Revenue</th>\n",
       "      <th>Region</th>\n",
       "      <th>Payment Method</th>\n",
       "    </tr>\n",
       "  </thead>\n",
       "  <tbody>\n",
       "    <tr>\n",
       "      <th>236</th>\n",
       "      <td>10237</td>\n",
       "      <td>2024-08-24</td>\n",
       "      <td>Clothing</td>\n",
       "      <td>Nike Air Force 1 Sneakers</td>\n",
       "      <td>3</td>\n",
       "      <td>90.00</td>\n",
       "      <td>270.00</td>\n",
       "      <td>Asia</td>\n",
       "      <td>Debit Card</td>\n",
       "    </tr>\n",
       "    <tr>\n",
       "      <th>237</th>\n",
       "      <td>10238</td>\n",
       "      <td>2024-08-25</td>\n",
       "      <td>Books</td>\n",
       "      <td>The Handmaid's Tale by Margaret Atwood</td>\n",
       "      <td>3</td>\n",
       "      <td>10.99</td>\n",
       "      <td>32.97</td>\n",
       "      <td>North America</td>\n",
       "      <td>Credit Card</td>\n",
       "    </tr>\n",
       "    <tr>\n",
       "      <th>238</th>\n",
       "      <td>10239</td>\n",
       "      <td>2024-08-26</td>\n",
       "      <td>Beauty Products</td>\n",
       "      <td>Sunday Riley Luna Sleeping Night Oil</td>\n",
       "      <td>1</td>\n",
       "      <td>55.00</td>\n",
       "      <td>55.00</td>\n",
       "      <td>Europe</td>\n",
       "      <td>PayPal</td>\n",
       "    </tr>\n",
       "    <tr>\n",
       "      <th>239</th>\n",
       "      <td>10240</td>\n",
       "      <td>2024-08-27</td>\n",
       "      <td>Sports</td>\n",
       "      <td>Yeti Rambler 20 oz Tumbler</td>\n",
       "      <td>2</td>\n",
       "      <td>29.99</td>\n",
       "      <td>59.98</td>\n",
       "      <td>Asia</td>\n",
       "      <td>Credit Card</td>\n",
       "    </tr>\n",
       "  </tbody>\n",
       "</table>\n",
       "</div>"
      ],
      "text/plain": [
       "     Transaction ID        Date Product Category  \\\n",
       "236           10237  2024-08-24         Clothing   \n",
       "237           10238  2024-08-25            Books   \n",
       "238           10239  2024-08-26  Beauty Products   \n",
       "239           10240  2024-08-27           Sports   \n",
       "\n",
       "                               Product Name  Units Sold  Unit Price  \\\n",
       "236               Nike Air Force 1 Sneakers           3       90.00   \n",
       "237  The Handmaid's Tale by Margaret Atwood           3       10.99   \n",
       "238    Sunday Riley Luna Sleeping Night Oil           1       55.00   \n",
       "239              Yeti Rambler 20 oz Tumbler           2       29.99   \n",
       "\n",
       "     Total Revenue         Region Payment Method  \n",
       "236         270.00           Asia     Debit Card  \n",
       "237          32.97  North America    Credit Card  \n",
       "238          55.00         Europe         PayPal  \n",
       "239          59.98           Asia    Credit Card  "
      ]
     },
     "execution_count": 19,
     "metadata": {},
     "output_type": "execute_result"
    }
   ],
   "source": [
    "df.tail(4)"
   ]
  },
  {
   "cell_type": "code",
   "execution_count": null,
   "id": "9450edea",
   "metadata": {},
   "outputs": [
    {
     "data": {
      "text/plain": [
       "0      2024-01-01\n",
       "1      2024-01-02\n",
       "2      2024-01-03\n",
       "3      2024-01-04\n",
       "4      2024-01-05\n",
       "          ...    \n",
       "235    2024-08-23\n",
       "236    2024-08-24\n",
       "237    2024-08-25\n",
       "238    2024-08-26\n",
       "239    2024-08-27\n",
       "Name: Date, Length: 240, dtype: object"
      ]
     },
     "execution_count": 21,
     "metadata": {},
     "output_type": "execute_result"
    }
   ],
   "source": [
    "df['Date'] ## we can directly call the column name to get its all values  - it become a series because it's a single row"
   ]
  },
  {
   "cell_type": "code",
   "execution_count": null,
   "id": "3318c80e",
   "metadata": {},
   "outputs": [
    {
     "data": {
      "text/plain": [
       "Transaction ID              10001\n",
       "Date                   2024-01-01\n",
       "Product Category      Electronics\n",
       "Product Name        iPhone 14 Pro\n",
       "Units Sold                      2\n",
       "Unit Price                 999.99\n",
       "Total Revenue             1999.98\n",
       "Region              North America\n",
       "Payment Method        Credit Card\n",
       "Name: 0, dtype: object"
      ]
     },
     "execution_count": 22,
     "metadata": {},
     "output_type": "execute_result"
    }
   ],
   "source": [
    "df.loc[0]  ## Row index "
   ]
  },
  {
   "cell_type": "code",
   "execution_count": 23,
   "id": "292243ca",
   "metadata": {},
   "outputs": [
    {
     "data": {
      "text/plain": [
       "Transaction ID              10001\n",
       "Date                   2024-01-01\n",
       "Product Category      Electronics\n",
       "Product Name        iPhone 14 Pro\n",
       "Units Sold                      2\n",
       "Unit Price                 999.99\n",
       "Total Revenue             1999.98\n",
       "Region              North America\n",
       "Payment Method        Credit Card\n",
       "Name: 0, dtype: object"
      ]
     },
     "execution_count": 23,
     "metadata": {},
     "output_type": "execute_result"
    }
   ],
   "source": [
    "df.iloc[0] ## column index"
   ]
  },
  {
   "cell_type": "code",
   "execution_count": null,
   "id": "bbb2e179",
   "metadata": {},
   "outputs": [
    {
     "name": "stderr",
     "output_type": "stream",
     "text": [
      "C:\\Users\\pawar\\AppData\\Local\\Temp\\ipykernel_17720\\395987507.py:1: FutureWarning: Series.__getitem__ treating keys as positions is deprecated. In a future version, integer keys will always be treated as labels (consistent with DataFrame behavior). To access a value by position, use `ser.iloc[pos]`\n",
      "  df.loc[0][1]\n"
     ]
    },
    {
     "data": {
      "text/plain": [
       "'2024-01-01'"
      ]
     },
     "execution_count": 25,
     "metadata": {},
     "output_type": "execute_result"
    }
   ],
   "source": [
    "df.loc[0][1] ## index in a column"
   ]
  },
  {
   "cell_type": "code",
   "execution_count": 34,
   "id": "225b132b",
   "metadata": {},
   "outputs": [],
   "source": [
    "## Accessing a specfic element \n"
   ]
  },
  {
   "cell_type": "code",
   "execution_count": 46,
   "id": "8f4a7a9e",
   "metadata": {},
   "outputs": [
    {
     "name": "stdout",
     "output_type": "stream",
     "text": [
      "    Name  Age     City\n",
      "0  Ayush   23       IP\n",
      "1   Anuj   24   Bhapur\n",
      "2   Sahu   25  Vaisali\n"
     ]
    }
   ],
   "source": [
    "\n",
    "\n",
    "# Creating DataFrame\n",
    "data_frame = [  \n",
    "  {'Name': 'Ayush', 'Age': 22, 'City': 'IP'},  \n",
    "  {'Name': 'Anuj', 'Age': 23, 'City': 'Bhapur'},  \n",
    "  {'Name': 'Sahu', 'Age': 24, 'City': 'Vaisali'}  \n",
    "]  \n",
    "df = pd.DataFrame(data_frame)  \n",
    "\n",
    "# Adding a new column  \n",
    "df['salary'] = [5000, 3200, 3300]  \n",
    "# print(\"Before dropping:\\n\", df)  \n",
    "\n",
    "# Correctly dropping the column  \n",
    "\n",
    "df.drop('salary', axis=1, inplace=True)  \n",
    "## these two are important to get the working of drop \n",
    "\n",
    "## inplace = true - now it is permenant work, beacuse drop is a temporary operations\n",
    "\n",
    "\n",
    "# print(\"After dropping:\\n\", df)\n",
    "\n",
    "\n",
    "df['Age'] = df['Age']+1\n",
    "print(df)"
   ]
  },
  {
   "cell_type": "code",
   "execution_count": null,
   "id": "9a5e0d41",
   "metadata": {},
   "outputs": [],
   "source": []
  }
 ],
 "metadata": {
  "kernelspec": {
   "display_name": "Python 3",
   "language": "python",
   "name": "python3"
  },
  "language_info": {
   "codemirror_mode": {
    "name": "ipython",
    "version": 3
   },
   "file_extension": ".py",
   "mimetype": "text/x-python",
   "name": "python",
   "nbconvert_exporter": "python",
   "pygments_lexer": "ipython3",
   "version": "3.12.0"
  }
 },
 "nbformat": 4,
 "nbformat_minor": 5
}
