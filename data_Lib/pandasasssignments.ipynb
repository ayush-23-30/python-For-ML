{
 "cells": [
  {
   "cell_type": "markdown",
   "metadata": {},
   "source": [
    "# Module: Pandas Assignments\n",
    "## Lesson: Pandas\n",
    "### Assignment 1: DataFrame Creation and Indexing\n",
    "\n",
    "1. Create a Pandas DataFrame with 4 columns and 6 rows filled with random integers. Set the index to be the first column.\n",
    "2. Create a Pandas DataFrame with columns 'A', 'B', 'C' and index 'X', 'Y', 'Z'. Fill the DataFrame with random integers and access the element at row 'Y' and column 'B'.\n",
    "\n",
    "### Assignment 2: DataFrame Operations\n",
    "\n",
    "1. Create a Pandas DataFrame with 3 columns and 5 rows filled with random integers. Add a new column that is the product of the first two columns.\n",
    "2. Create a Pandas DataFrame with 3 columns and 4 rows filled with random integers. Compute the row-wise and column-wise sum.\n",
    "\n",
    "### Assignment 3: Data Cleaning\n",
    "\n",
    "1. Create a Pandas DataFrame with 3 columns and 5 rows filled with random integers. Introduce some NaN values. Fill the NaN values with the mean of the respective columns.\n",
    "2. Create a Pandas DataFrame with 4 columns and 6 rows filled with random integers. Introduce some NaN values. Drop the rows with any NaN values.\n",
    "\n",
    "### Assignment 4: Data Aggregation\n",
    "\n",
    "1. Create a Pandas DataFrame with 2 columns: 'Category' and 'Value'. Fill the 'Category' column with random categories ('A', 'B', 'C') and the 'Value' column with random integers. Group the DataFrame by 'Category' and compute the sum and mean of 'Value' for each category.\n",
    "2. Create a Pandas DataFrame with 3 columns: 'Product', 'Category', and 'Sales'. Fill the DataFrame with random data. Group the DataFrame by 'Category' and compute the total sales for each category.\n",
    "\n",
    "### Assignment 5: Merging DataFrames\n",
    "\n",
    "1. Create two Pandas DataFrames with a common column. Merge the DataFrames using the common column.\n",
    "2. Create two Pandas DataFrames with different columns. Concatenate the DataFrames along the rows and along the columns.\n",
    "\n",
    "### Assignment 6: Time Series Analysis\n",
    "\n",
    "1. Create a Pandas DataFrame with a datetime index and one column filled with random integers. Resample the DataFrame to compute the monthly mean of the values.\n",
    "2. Create a Pandas DataFrame with a datetime index ranging from '2021-01-01' to '2021-12-31' and one column filled with random integers. Compute the rolling mean with a window of 7 days.\n",
    "\n",
    "### Assignment 7: MultiIndex DataFrame\n",
    "\n",
    "1. Create a Pandas DataFrame with a MultiIndex (hierarchical index). Perform some basic indexing and slicing operations on the MultiIndex DataFrame.\n",
    "2. Create a Pandas DataFrame with MultiIndex consisting of 'Category' and 'SubCategory'. Fill the DataFrame with random data and compute the sum of values for each 'Category' and 'SubCategory'.\n",
    "\n",
    "### Assignment 8: Pivot Tables\n",
    "\n",
    "1. Create a Pandas DataFrame with columns 'Date', 'Category', and 'Value'. Create a pivot table to compute the sum of 'Value' for each 'Category' by 'Date'.\n",
    "2. Create a Pandas DataFrame with columns 'Year', 'Quarter', and 'Revenue'. Create a pivot table to compute the mean 'Revenue' for each 'Quarter' by 'Year'.\n",
    "\n",
    "### Assignment 9: Applying Functions\n",
    "\n",
    "1. Create a Pandas DataFrame with 3 columns and 5 rows filled with random integers. Apply a function that doubles the values of the DataFrame.\n",
    "2. Create a Pandas DataFrame with 3 columns and 6 rows filled with random integers. Apply a lambda function to create a new column that is the sum of the existing columns.\n",
    "\n",
    "### Assignment 10: Working with Text Data\n",
    "\n",
    "1. Create a Pandas Series with 5 random text strings. Convert all the strings to uppercase.\n",
    "2. Create a Pandas Series with 5 random text strings. Extract the first three characters of each string.\n"
   ]
  },
  {
   "cell_type": "code",
   "execution_count": 1,
   "metadata": {},
   "outputs": [],
   "source": [
    "import numpy as np\n",
    "import pandas as pd"
   ]
  },
  {
   "cell_type": "code",
   "execution_count": 3,
   "id": "cf65f5cf",
   "metadata": {},
   "outputs": [
    {
     "name": "stdout",
     "output_type": "stream",
     "text": [
      "    a   b   c   d\n",
      "0  17  42  97  89\n",
      "1  56  35  74  54\n",
      "2  13  22  82  64\n",
      "3  37   9  58  27\n",
      "4  44  99  79  60\n",
      "5  14  18  18  71\n",
      "     b   c   d\n",
      "a             \n",
      "17  42  97  89\n",
      "56  35  74  54\n",
      "13  22  82  64\n",
      "37   9  58  27\n",
      "44  99  79  60\n",
      "14  18  18  71\n"
     ]
    }
   ],
   "source": [
    "df = pd.DataFrame(np.random.randint(1,100,size =(6,4)),columns=['a','b','c','d']);\n",
    "print(df);\n",
    "\n",
    "df.set_index('a', inplace=True);\n",
    "print(df)"
   ]
  },
  {
   "cell_type": "code",
   "execution_count": 6,
   "id": "509ef42d",
   "metadata": {},
   "outputs": [
    {
     "name": "stdout",
     "output_type": "stream",
     "text": [
      "    A   B   C\n",
      "X  93  12   4\n",
      "Y  19  33  41\n",
      "Z  95  20  84\n",
      "Element at row 'Y' and column 'B': 33\n"
     ]
    }
   ],
   "source": [
    "df = pd.DataFrame(np.random.randint(1,100,size=(3,3)), columns=['A','B','C'],index=['X','Y','Z'])\n",
    "print(df);\n",
    "\n",
    "elem = df.at['Y','B'];\n",
    "print(\"Element at row 'Y' and column 'B':\", elem);"
   ]
  },
  {
   "cell_type": "code",
   "execution_count": null,
   "id": "8e2e34eb",
   "metadata": {},
   "outputs": [
    {
     "name": "stdout",
     "output_type": "stream",
     "text": [
      "    A  B   C\n",
      "1   2  9   9\n",
      "2  12  4  19\n",
      "3  18  9   2\n",
      "4  15  3  19\n",
      "5  14  7   3\n",
      "    A  B   C    D\n",
      "1   2  9   9   18\n",
      "2  12  4  19   48\n",
      "3  18  9   2  162\n",
      "4  15  3  19   45\n",
      "5  14  7   3   98\n"
     ]
    }
   ],
   "source": [
    "df =  pd.DataFrame(np.random.randint(1,20,size = (5,3)),columns=['A','B','C'], index=['1','2','3','4','5']); \n",
    "print(df);\n",
    "\n",
    "# now add a new column that return the product of first 2 columns \n",
    "\n",
    "\n",
    "df['D'] = df['A'] * df['B'];\n",
    "print(df);"
   ]
  },
  {
   "cell_type": "code",
   "execution_count": 19,
   "id": "929008da",
   "metadata": {},
   "outputs": [
    {
     "name": "stdout",
     "output_type": "stream",
     "text": [
      "Original DataFrame:\n",
      "    A     B     C\n",
      "1  14   NaN  86.0\n",
      "2  73  12.0  52.0\n",
      "3  70  79.0   NaN\n",
      "4  12  59.0  51.0\n",
      "5  70   NaN  36.0\n",
      "    A     B      C\n",
      "1  14  50.0  86.00\n",
      "2  73  12.0  52.00\n",
      "3  70  79.0  56.25\n",
      "4  12  59.0  51.00\n",
      "5  70  50.0  36.00\n"
     ]
    }
   ],
   "source": [
    "# Create a Pandas DataFrame with 3 columns and 5 rows filled with random integers\n",
    "df = pd.DataFrame(np.random.randint(1, 100, size=(5, 3)), columns=['A', 'B', 'C'],index=[1,2,3,4,5]);\n",
    "print(\"Original DataFrame:\");\n",
    "# print(df);\n",
    "\n",
    "\n",
    "df.iloc[0,1] = np.nan\n",
    "df.iloc[2,2] = np.nan\n",
    "df.iloc[4,1] = np.nan\n",
    "\n",
    "print(df);\n",
    "# print(df.mean())\n",
    "\n",
    "df.fillna(df.mean(), inplace=True); ## fill kar diya nan ki jaga mean se \n",
    "print(df)\n",
    "\n"
   ]
  },
  {
   "cell_type": "code",
   "execution_count": 26,
   "id": "242eb820",
   "metadata": {},
   "outputs": [
    {
     "name": "stdout",
     "output_type": "stream",
     "text": [
      "Original DataFrame:\n",
      "    A   B   C   D\n",
      "0  76  35  24  14\n",
      "1  44  27  41  54\n",
      "2   2  81  71  87\n",
      "3  65  56  77  44\n",
      "4  36  84  50  86\n",
      "5  41  16  39  16\n",
      "      A     B     C     D\n",
      "0  76.0  35.0  24.0   NaN\n",
      "1   NaN  27.0  41.0  54.0\n",
      "2   2.0  81.0   NaN  87.0\n",
      "3  65.0   NaN  77.0  44.0\n",
      "4  36.0  84.0  50.0  86.0\n",
      "5  41.0  16.0  39.0  16.0\n",
      "      A     B     C     D\n",
      "4  36.0  84.0  50.0  86.0\n",
      "5  41.0  16.0  39.0  16.0\n"
     ]
    }
   ],
   "source": [
    "# Create a Pandas DataFrame with 4 columns and 6 rows filled with random integers\n",
    "df = pd.DataFrame(np.random.randint(1, 100, size=(6, 4)), columns=['A', 'B', 'C','D'])\n",
    "print(\"Original DataFrame:\")\n",
    "print(df); \n",
    "\n",
    "df.iloc[0,3] = np.nan\n",
    "df.iloc[1,0] = np.nan\n",
    "df.iloc[2,2] = np.nan\n",
    "df.iloc[3,1] = np.nan\n",
    "\n",
    "print(df)\n",
    "\n",
    "# Drop the rows with any NaN values\n",
    "\n",
    "df.dropna(inplace=True);\n",
    "print(df)\n"
   ]
  },
  {
   "cell_type": "code",
   "execution_count": 2,
   "id": "424867c9",
   "metadata": {},
   "outputs": [],
   "source": [
    "import numpy as  np\n",
    "import pandas as pd"
   ]
  },
  {
   "cell_type": "code",
   "execution_count": null,
   "id": "6dcc9ce9",
   "metadata": {},
   "outputs": [
    {
     "name": "stdout",
     "output_type": "stream",
     "text": [
      "Original DataFrame:\n",
      "  category  Value\n",
      "0        C     93\n",
      "1        A     44\n",
      "2        C     29\n",
      "3        B     74\n",
      "4        C     23\n",
      "5        C     12\n",
      "6        B     39\n",
      "7        B     23\n",
      "8        A     18\n",
      "9        B     62\n",
      "Grouped DataFrame:\n",
      "          sum   mean\n",
      "category            \n",
      "A          62  31.00\n",
      "B         198  49.50\n",
      "C         157  39.25\n"
     ]
    }
   ],
   "source": [
    "df = pd.DataFrame({'category' : np.random.choice(['A','B','C'], size=10), \n",
    "'Value' : np.random.randint(1,100,size = 10)}); \n",
    "print(\"Original DataFrame:\")\n",
    "print(df);\n",
    "\n",
    "# Group the DataFrame by 'Category' and compute the sum and mean of 'Value' for each category\n",
    "\n",
    "grouped = df.groupby('category')['Value'].agg(['sum','mean'])\n",
    "print(\"Grouped DataFrame:\");\n",
    "print(grouped);\n"
   ]
  },
  {
   "cell_type": "code",
   "execution_count": 6,
   "id": "64bd9996",
   "metadata": {},
   "outputs": [
    {
     "name": "stdout",
     "output_type": "stream",
     "text": [
      "Original DataFrame:\n",
      "  Product Category  Sales\n",
      "0   Prod1        C     34\n",
      "1   Prod3        C     78\n",
      "2   Prod3        C     88\n",
      "3   Prod3        B     48\n",
      "4   Prod3        C     82\n",
      "5   Prod3        B     69\n",
      "6   Prod3        A     77\n",
      "7   Prod2        B      7\n",
      "8   Prod2        C     50\n",
      "9   Prod3        A     35\n"
     ]
    }
   ],
   "source": [
    "# Create a Pandas DataFrame with 3 columns: 'Product', 'Category', and 'Sales'\n",
    "df = pd.DataFrame({'Product': np.random.choice(['Prod1', 'Prod2', 'Prod3'], size=10), 'Category': np.random.choice(['A', 'B', 'C'], size=10), 'Sales': np.random.randint(1, 100, size=10)})\n",
    "print(\"Original DataFrame:\")\n",
    "print(df)\n"
   ]
  },
  {
   "cell_type": "code",
   "execution_count": 8,
   "id": "38a99c45",
   "metadata": {},
   "outputs": [
    {
     "name": "stdout",
     "output_type": "stream",
     "text": [
      "Grouped DataFrame:\n",
      "Category\n",
      "A    112\n",
      "B    124\n",
      "C    332\n",
      "Name: Sales, dtype: int32\n"
     ]
    }
   ],
   "source": [
    "# Group the DataFrame by 'Category' and compute the total sales for each category\n",
    "grouped = df.groupby('Category')['Sales'].sum()\n",
    "print(\"Grouped DataFrame:\")\n",
    "print(grouped)"
   ]
  },
  {
   "cell_type": "code",
   "execution_count": 11,
   "id": "9d5a4862",
   "metadata": {},
   "outputs": [
    {
     "name": "stdout",
     "output_type": "stream",
     "text": [
      "DataFrame 1:\n",
      "  Key  Value1\n",
      "0   A      62\n",
      "1   B      26\n",
      "2   C       2\n",
      "3   D      64\n",
      "DataFrame 2:\n",
      "  Key  Value2\n",
      "0   A      34\n",
      "1   B       2\n",
      "2   C      46\n",
      "3   E      41\n",
      "Merged DataFrame:\n",
      "  Key  Value1  Value2\n",
      "0   A      62      34\n",
      "1   B      26       2\n",
      "2   C       2      46\n"
     ]
    }
   ],
   "source": [
    "df1 = pd.DataFrame({'Key': ['A', 'B', 'C', 'D'], 'Value1': np.random.randint(1, 100, size=4)})\n",
    "df2 = pd.DataFrame({'Key': ['A', 'B', 'C', 'E'], 'Value2': np.random.randint(1, 100, size=4)})\n",
    "print(\"DataFrame 1:\")\n",
    "print(df1)\n",
    "print(\"DataFrame 2:\")\n",
    "print(df2)\n",
    "\n",
    "merged = pd.merge(df1,df2, on = 'Key');\n",
    "print(\"Merged DataFrame:\")\n",
    "print(merged)"
   ]
  },
  {
   "cell_type": "code",
   "execution_count": 13,
   "id": "d4772197",
   "metadata": {},
   "outputs": [
    {
     "name": "stdout",
     "output_type": "stream",
     "text": [
      "Concatenated DataFrame (rows):\n",
      "  Key  Value1  Value2\n",
      "0   A    62.0     NaN\n",
      "1   B    26.0     NaN\n",
      "2   C     2.0     NaN\n",
      "3   D    64.0     NaN\n",
      "0   A     NaN    34.0\n",
      "1   B     NaN     2.0\n",
      "2   C     NaN    46.0\n",
      "3   E     NaN    41.0\n",
      "Concatenated DataFrame (columns):\n",
      "  Key  Value1 Key  Value2\n",
      "0   A      62   A      34\n",
      "1   B      26   B       2\n",
      "2   C       2   C      46\n",
      "3   D      64   E      41\n"
     ]
    }
   ],
   "source": [
    "concat_rows = pd.concat([df1,df2],axis=0);\n",
    "print(\"Concatenated DataFrame (rows):\")\n",
    "print(concat_rows);\n",
    "\n",
    "concat_columns = pd.concat([df1,df2],axis= 1)\n",
    "print(\"Concatenated DataFrame (columns):\")\n",
    "print(concat_columns)"
   ]
  },
  {
   "cell_type": "code",
   "execution_count": 18,
   "id": "febda121",
   "metadata": {},
   "outputs": [
    {
     "name": "stdout",
     "output_type": "stream",
     "text": [
      "Original DataFrame:\n",
      "                 data\n",
      "Date                 \n",
      "2022-01-31  56.533333\n",
      "2022-02-28  53.178571\n",
      "2022-03-31  46.838710\n",
      "2022-04-30  48.500000\n",
      "2022-05-31  56.290323\n",
      "2022-06-30  50.200000\n",
      "2022-07-31  55.258065\n",
      "2022-08-31  43.677419\n",
      "2022-09-30  45.600000\n",
      "2022-10-31  55.096774\n",
      "2022-11-30  54.333333\n",
      "2022-12-31  49.483871\n"
     ]
    },
    {
     "name": "stderr",
     "output_type": "stream",
     "text": [
      "C:\\Users\\pawar\\AppData\\Local\\Temp\\ipykernel_17232\\3108348067.py:9: FutureWarning: 'M' is deprecated and will be removed in a future version, please use 'ME' instead.\n",
      "  monthly_mean = df.resample('M').mean()\n"
     ]
    }
   ],
   "source": [
    "date_rng = pd.date_range(start='2022-01-02',end='2022-12-31',freq='D'); \n",
    "\n",
    "df = pd.DataFrame(date_rng,columns=['Date'])\n",
    "df['data'] = np.random.randint(0,100,size=(len(date_rng)))\n",
    "df.set_index('Date', inplace=True); \n",
    "print(\"Original DataFrame:\")\n",
    "# print(df)\n",
    "\n",
    "monthly_mean = df.resample('M').mean()\n",
    "print(monthly_mean)"
   ]
  },
  {
   "cell_type": "code",
   "execution_count": null,
   "id": "62df827f",
   "metadata": {},
   "outputs": [
    {
     "name": "stdout",
     "output_type": "stream",
     "text": [
      "Original DataFrame:\n",
      "                 data\n",
      "Date                 \n",
      "2022-01-02        NaN\n",
      "2022-01-03        NaN\n",
      "2022-01-04        NaN\n",
      "2022-01-05        NaN\n",
      "2022-01-06        NaN\n",
      "...               ...\n",
      "2022-12-27  57.285714\n",
      "2022-12-28  55.714286\n",
      "2022-12-29  60.285714\n",
      "2022-12-30  50.285714\n",
      "2022-12-31  42.714286\n",
      "\n",
      "[364 rows x 1 columns]\n"
     ]
    }
   ],
   "source": [
    "date_rng = pd.date_range(start='2022-01-02',end='2022-12-31',freq='D'); \n",
    "\n",
    "df = pd.DataFrame(date_rng,columns=['Date'])\n",
    "df['data'] = np.random.randint(0,100,size=(len(date_rng)))\n",
    "df.set_index('Date', inplace=True); \n",
    "print(\"Original DataFrame:\")\n",
    "# print(df)\n",
    "\n",
    "rolling_mean = df.rolling(window=7).mean()\n",
    "print(rolling_mean);"
   ]
  },
  {
   "cell_type": "code",
   "execution_count": 25,
   "id": "671a239c",
   "metadata": {},
   "outputs": [
    {
     "name": "stdout",
     "output_type": "stream",
     "text": [
      "                 data\n",
      "Date                 \n",
      "2022-01-02  50.063049\n",
      "2022-01-03  50.063049\n",
      "2022-01-04  50.063049\n",
      "2022-01-05  50.063049\n",
      "2022-01-06  50.063049\n",
      "...               ...\n",
      "2022-12-27  57.285714\n",
      "2022-12-28  55.714286\n",
      "2022-12-29  60.285714\n",
      "2022-12-30  50.285714\n",
      "2022-12-31  42.714286\n",
      "\n",
      "[364 rows x 1 columns]\n"
     ]
    }
   ],
   "source": [
    "# Find NaN values\n",
    "nan_values = rolling_mean.isna()\n",
    "# print(nan_values);\n",
    "\n",
    "rolling_mean.fillna(rolling_mean.mean(), inplace=True)\n",
    "print(rolling_mean)\n"
   ]
  },
  {
   "cell_type": "code",
   "execution_count": 28,
   "id": "923332cd",
   "metadata": {},
   "outputs": [
    {
     "name": "stdout",
     "output_type": "stream",
     "text": [
      "                      Val1  Val2  Val3\n",
      "Category SubCategory                  \n",
      "A        one            25    82    93\n",
      "         two            31    59    93\n",
      "B        one            79    18    36\n",
      "         two            43    89    39\n",
      "             Val1  Val2  Val3\n",
      "SubCategory                  \n",
      "one            25    82    93\n",
      "two            31    59    93\n",
      "Val1    43\n",
      "Val2    89\n",
      "Val3    39\n",
      "Name: (B, two), dtype: int32\n"
     ]
    }
   ],
   "source": [
    "arr = [['A','A','B','B'],['one','two','one','two']]\n",
    "index = pd.MultiIndex.from_arrays(arr, names=('Category', 'SubCategory'))\n",
    "df = pd.DataFrame(np.random.randint(1,100,size=(4,3)),index=index,columns=['Val1','Val2','Val3']);\n",
    "print(df);\n",
    "\n",
    "print(df.loc['A']);\n",
    "print(df.loc['B','two'])"
   ]
  },
  {
   "cell_type": "code",
   "execution_count": 38,
   "id": "abd1c6bf",
   "metadata": {},
   "outputs": [
    {
     "name": "stdout",
     "output_type": "stream",
     "text": [
      "Original DataFrame:\n",
      "Pivot Table:\n",
      "None\n"
     ]
    }
   ],
   "source": [
    "# Create a Pandas DataFrame with columns 'Date', 'Category', and 'Value'\n",
    "date_rng = pd.date_range(start='2022-01-01', end='2022-01-10', freq='D') ## date range\n",
    "df = pd.DataFrame({'Date': np.random.choice(date_rng, size=20), 'Category': np.random.choice(['A', 'B', 'C'], size=20), 'Value': np.random.randint(1, 100, size=20)})\n",
    "print(\"Original DataFrame:\")\n",
    "# print(df)\n",
    "\n",
    "# Create a pivot table to compute the sum of 'Value' for each 'Category' by 'Date';\n",
    "\n",
    "pivot_table = df.pivot_table(values='Value', index='Date', columns='Category', aggfunc='sum')\n",
    "print(\"Pivot Table:\")\n",
    "# print(pivot_table)\n",
    "\n",
    "naan = pivot_table.isna()\n",
    "# print(naan);\n",
    "\n",
    "nnew = naan.fillna(naan.mean(), inplace = True)\n",
    "print(nnew)"
   ]
  },
  {
   "cell_type": "code",
   "execution_count": 40,
   "id": "434e8d0c",
   "metadata": {},
   "outputs": [
    {
     "name": "stdout",
     "output_type": "stream",
     "text": [
      "     a    b    c\n",
      "0   56   94   70\n",
      "1   92   16   26\n",
      "2   64   84   86\n",
      "3   64  124   66\n",
      "4  194    2  194\n"
     ]
    },
    {
     "name": "stderr",
     "output_type": "stream",
     "text": [
      "C:\\Users\\pawar\\AppData\\Local\\Temp\\ipykernel_17232\\2210028414.py:4: FutureWarning: DataFrame.applymap has been deprecated. Use DataFrame.map instead.\n",
      "  df_double = df.applymap(lambda x : x*2)\n"
     ]
    }
   ],
   "source": [
    "df = pd.DataFrame(np.random.randint(1,100,size=(5,3)),columns=['a','b','c']); \n",
    "# print(df);\n",
    "\n",
    "df_double = df.applymap(lambda x : x*2) \n",
    "print(df_double)"
   ]
  },
  {
   "cell_type": "code",
   "execution_count": 43,
   "id": "11b56035",
   "metadata": {},
   "outputs": [
    {
     "name": "stdout",
     "output_type": "stream",
     "text": [
      "    a   b   c  sum\n",
      "0  83  85  57  225\n",
      "1  26  28  33   87\n",
      "2  88  48  61  197\n",
      "3   3  47  16   66\n",
      "4  97  11   2  110\n",
      "5  30   6  54   90\n"
     ]
    }
   ],
   "source": [
    "df = pd.DataFrame(np.random.randint(1,100,size=(6,3)), columns=['a','b','c'])\n",
    "\n",
    "df['sum'] = df.apply(lambda row : row.sum(), axis=1);\n",
    "print(df)"
   ]
  },
  {
   "cell_type": "code",
   "execution_count": 44,
   "id": "b6e25c5c",
   "metadata": {},
   "outputs": [
    {
     "name": "stdout",
     "output_type": "stream",
     "text": [
      "Original Series:\n",
      "0         apple\n",
      "1        banana\n",
      "2        cherry\n",
      "3          date\n",
      "4    elderberry\n",
      "dtype: object\n",
      "0         APPLE\n",
      "1        BANANA\n",
      "2        CHERRY\n",
      "3          DATE\n",
      "4    ELDERBERRY\n",
      "dtype: object\n"
     ]
    }
   ],
   "source": [
    "# Create a Pandas Series with 5 random text strings\n",
    "text_data = pd.Series(['apple', 'banana', 'cherry', 'date', 'elderberry'])\n",
    "print(\"Original Series:\")\n",
    "print(text_data)\n",
    "\n",
    "upperCase = text_data.str.upper()\n",
    "print(upperCase)"
   ]
  },
  {
   "cell_type": "code",
   "execution_count": 46,
   "id": "3bf942d1",
   "metadata": {},
   "outputs": [
    {
     "name": "stdout",
     "output_type": "stream",
     "text": [
      "Original Series:\n",
      "0         apple\n",
      "1        banana\n",
      "2        cherry\n",
      "3          date\n",
      "4    elderberry\n",
      "dtype: object\n",
      "0    app\n",
      "1    ban\n",
      "2    che\n",
      "3    dat\n",
      "4    eld\n",
      "dtype: object\n"
     ]
    }
   ],
   "source": [
    "# Create a Pandas Series with 5 random text strings\n",
    "text_data = pd.Series(['apple', 'banana', 'cherry', 'date', 'elderberry'])\n",
    "print(\"Original Series:\")\n",
    "print(text_data);\n",
    "\n",
    "first_three = text_data.str[:3]; \n",
    "print(first_three)"
   ]
  },
  {
   "cell_type": "code",
   "execution_count": null,
   "id": "e7ac0261",
   "metadata": {},
   "outputs": [],
   "source": []
  }
 ],
 "metadata": {
  "kernelspec": {
   "display_name": "Python 3",
   "language": "python",
   "name": "python3"
  },
  "language_info": {
   "codemirror_mode": {
    "name": "ipython",
    "version": 3
   },
   "file_extension": ".py",
   "mimetype": "text/x-python",
   "name": "python",
   "nbconvert_exporter": "python",
   "pygments_lexer": "ipython3",
   "version": "3.12.0"
  }
 },
 "nbformat": 4,
 "nbformat_minor": 5
}
