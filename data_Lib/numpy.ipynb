{
 "cells": [
  {
   "cell_type": "markdown",
   "id": "81be6d3d",
   "metadata": {},
   "source": [
    "## Numpy Library\n",
    "\n",
    "This library provide support for arrays and matrices, along with a collection of mathematical functions to operate on these data structures."
   ]
  },
  {
   "cell_type": "code",
   "execution_count": null,
   "id": "b155edab",
   "metadata": {},
   "outputs": [
    {
     "name": "stdout",
     "output_type": "stream",
     "text": [
      "Collecting numpy\n",
      "  Downloading numpy-2.2.5-cp312-cp312-win_amd64.whl.metadata (60 kB)\n",
      "Downloading numpy-2.2.5-cp312-cp312-win_amd64.whl (12.6 MB)\n",
      "   ---------------------------------------- 0.0/12.6 MB ? eta -:--:--\n",
      "   ----------- ---------------------------- 3.7/12.6 MB 24.2 MB/s eta 0:00:01\n",
      "   --------------------------------- ------ 10.7/12.6 MB 29.2 MB/s eta 0:00:01\n",
      "   ---------------------------------------- 12.6/12.6 MB 26.4 MB/s eta 0:00:00\n",
      "Installing collected packages: numpy\n",
      "Successfully installed numpy-2.2.5\n"
     ]
    }
   ],
   "source": [
    "# %pip install numpy\n"
   ]
  },
  {
   "cell_type": "code",
   "execution_count": null,
   "id": "b9bd9afc",
   "metadata": {},
   "outputs": [
    {
     "name": "stdout",
     "output_type": "stream",
     "text": [
      "[1 2 4 5 6] <class 'numpy.ndarray'>\n",
      "(5,)\n"
     ]
    }
   ],
   "source": [
    "import numpy as np;\n",
    "\n",
    "## creating a array with numpy \n",
    "\n",
    "arr1 = np.array([1,2,4,5,6]);\n",
    "print(arr1, type(arr1)) \n",
    "print(arr1.shape) # shape no of row and column \n",
    "\n"
   ]
  },
  {
   "cell_type": "code",
   "execution_count": null,
   "id": "36476391",
   "metadata": {},
   "outputs": [
    {
     "data": {
      "text/plain": [
       "array([[1, 2, 4, 3, 5, 6]])"
      ]
     },
     "execution_count": 6,
     "metadata": {},
     "output_type": "execute_result"
    }
   ],
   "source": [
    "arr2 = np.array([1,2,4,3,5,6]); \n",
    "arr2.reshape(1,6); # one row 5 column "
   ]
  },
  {
   "cell_type": "code",
   "execution_count": 12,
   "id": "3c4ec559",
   "metadata": {},
   "outputs": [
    {
     "name": "stdout",
     "output_type": "stream",
     "text": [
      "[[ 1  3  4  3  4]\n",
      " [23 56  7  3  7]] (2, 5)\n"
     ]
    }
   ],
   "source": [
    "arr3 = np.array([[1, 3, 4,3,4], [23, 56, 7, 3, 7]], \n",
    "                # dtype=object\n",
    "              )\n",
    "print(arr3, arr3.shape) # both array should be of same size "
   ]
  },
  {
   "cell_type": "code",
   "execution_count": 16,
   "id": "d5580b8b",
   "metadata": {},
   "outputs": [
    {
     "name": "stdout",
     "output_type": "stream",
     "text": [
      "[0 2 4 6 8]\n"
     ]
    },
    {
     "data": {
      "text/plain": [
       "array([[0],\n",
       "       [2],\n",
       "       [4],\n",
       "       [6],\n",
       "       [8]])"
      ]
     },
     "execution_count": 16,
     "metadata": {},
     "output_type": "execute_result"
    }
   ],
   "source": [
    "## array with in build fncs \n",
    "arr4 = np.arange(0,10,2) # starting point , ending , difference \n",
    "print(arr4)\n",
    "arr4.reshape(5,1) # now it has 5 rows and 1 column \n"
   ]
  },
  {
   "cell_type": "code",
   "execution_count": 19,
   "id": "a1331f3b",
   "metadata": {},
   "outputs": [
    {
     "data": {
      "text/plain": [
       "array([[1., 0., 0.],\n",
       "       [0., 1., 0.],\n",
       "       [0., 0., 1.]])"
      ]
     },
     "execution_count": 19,
     "metadata": {},
     "output_type": "execute_result"
    }
   ],
   "source": [
    "# np.ones((3,4)); # r row and 4 columns \n",
    "\n",
    "## identity matrix \n",
    "\n",
    "np.eye(3)"
   ]
  },
  {
   "cell_type": "code",
   "execution_count": null,
   "id": "fa5cc001",
   "metadata": {},
   "outputs": [
    {
     "name": "stdout",
     "output_type": "stream",
     "text": [
      "Array: \n",
      " [[1 2 3 4]\n",
      " [5 6 7 8]]\n",
      "Shape: \n",
      " (2, 4)\n",
      "Number of dimenison: \n",
      " 2\n",
      "Size : \n",
      " 8\n",
      "Data type : \n",
      " int64\n",
      "Item size : \n",
      " 8\n"
     ]
    }
   ],
   "source": [
    "## Attributes of NP\n",
    "\n",
    "arr = np.array([[1,2,3,4], [5,6,7,8]])\n",
    "\n",
    "print('Array: \\n', arr);\n",
    "print('Shape: \\n', arr.shape);\n",
    "print('Number of dimenison: \\n', arr.ndim); \n",
    "print('Size : \\n', arr.size);\n",
    "print('Data type : \\n', arr.dtype);\n",
    "print('Item size : \\n', arr.itemsize);"
   ]
  },
  {
   "cell_type": "code",
   "execution_count": 30,
   "id": "5b0a51c5",
   "metadata": {},
   "outputs": [
    {
     "name": "stdout",
     "output_type": "stream",
     "text": [
      "additions :  [13 36 17 19]\n",
      "subtractions [ 11 -10  11  11]\n",
      "multiple [ 12 299  42  60]\n"
     ]
    }
   ],
   "source": [
    "## Numpy Vectorized Operations\n",
    "\n",
    "arr5 = np.array([12,13,14,15]); \n",
    "arr6 = np.array([1,23,3,4]); \n",
    "\n",
    "\n",
    "lst = [12,34,55,5]; \n",
    "lst1 = [122,343,545,55];\n",
    "# print(lst + lst1) \n",
    "#  # this is add both lists but numpy performs maths functions \n",
    "\n",
    "\n",
    "## All operations are performed elements wise means index with same index \n",
    "print('additions : ', arr5 + arr6); \n",
    "\n",
    "print('subtractions', arr5 - arr6);\n",
    "print('multiple', arr6 * arr5);\n",
    "\n",
    "\n"
   ]
  },
  {
   "cell_type": "code",
   "execution_count": 34,
   "id": "0444a29e",
   "metadata": {},
   "outputs": [
    {
     "name": "stdout",
     "output_type": "stream",
     "text": [
      "[ 5.  2.  7. 15.  4.]\n",
      "[3.21887582 1.38629436 3.8918203  5.4161004  2.77258872] \n",
      "\n",
      "[-0.13235175 -0.7568025  -0.95375265 -0.93009488 -0.28790332] \n",
      "\n",
      "[7.20048993e+10 5.45981500e+01 1.90734657e+21 5.20305514e+97\n",
      " 8.88611052e+06] \n",
      "\n"
     ]
    }
   ],
   "source": [
    "## Universal fncs = apply to entire array \n",
    "\n",
    "arr7 = np.array([25,4,49,225,16]); \n",
    "\n",
    "print(np.sqrt(arr7)); \n",
    "\n",
    "print(np.log(arr7),'\\n')\n",
    "\n",
    "print(np.sin(arr7), '\\n')\n",
    "\n",
    "print(np.exp(arr7) , '\\n')\n"
   ]
  },
  {
   "cell_type": "code",
   "execution_count": 56,
   "id": "de2966d4",
   "metadata": {},
   "outputs": [
    {
     "name": "stdout",
     "output_type": "stream",
     "text": [
      "Array \n",
      " [[ 1  2  4  5]\n",
      " [ 3  8  6  5]\n",
      " [12 32  3  4]]\n",
      "[[ 8  6]\n",
      " [32  3]]\n"
     ]
    }
   ],
   "source": [
    "## array slicing and operations \n",
    "\n",
    "arr8 = np.array([[1,2,4,5], [3,8,6,5], [12,32,3,4]])\n",
    "\n",
    "print('Array \\n', arr8); \n",
    "\n",
    "## accessing elements \n",
    "\n",
    "# print('arr of 2nd row elem 2 \\n',arr8[1][2] )\n",
    "\n",
    "# print('two elem from different row \\n',arr8[1:,2:]); \n",
    "\n",
    "# print(arr8[0:2,2:]);\n",
    "\n",
    "print(arr8[1:,1:3])\n"
   ]
  },
  {
   "cell_type": "code",
   "execution_count": 59,
   "id": "f6fffcca",
   "metadata": {},
   "outputs": [
    {
     "name": "stdout",
     "output_type": "stream",
     "text": [
      "[[100   2   3   4]\n",
      " [100 100 100 100]]\n"
     ]
    }
   ],
   "source": [
    "## Modify array element \n",
    "arr[0,0] = 100; \n",
    "arr[1:] = 100\n",
    "print(arr\n",
    ")"
   ]
  },
  {
   "cell_type": "code",
   "execution_count": 60,
   "id": "c5abb75d",
   "metadata": {},
   "outputs": [
    {
     "name": "stdout",
     "output_type": "stream",
     "text": [
      "Normalixed data [-1.41421356 -0.70710678  0.          0.70710678  1.41421356]\n"
     ]
    }
   ],
   "source": [
    "## statisticcal Concepts = normalization\n",
    "# to have a mean of 0 and standard deviation of 1\n",
    "\n",
    "data = np.array([1,2,3,4,5]); \n",
    "\n",
    "mean = np.mean(data); \n",
    "std_dev = np.std(data); \n",
    "\n",
    "normalization = (data - mean) / std_dev\n",
    "\n",
    "print('Normalixed data', normalization)"
   ]
  },
  {
   "cell_type": "code",
   "execution_count": 65,
   "id": "3ed9c6dc",
   "metadata": {},
   "outputs": [
    {
     "name": "stdout",
     "output_type": "stream",
     "text": [
      "4.5\n",
      "std 2.29128784747792\n",
      "5.25\n"
     ]
    }
   ],
   "source": [
    "data1 = np.array([1,2,3,4,5,6,7,8])\n",
    "\n",
    "mean = np.mean(data1); \n",
    "# print(mean)\n",
    "\n",
    "median = np.median(data1)\n",
    "print(median)\n",
    "\n",
    "std_dev = np.std(data1);\n",
    "print('std',std_dev);\n",
    "\n",
    "variance = np.var(data1)\n",
    "print(variance)"
   ]
  },
  {
   "cell_type": "code",
   "execution_count": 66,
   "id": "942d49e0",
   "metadata": {},
   "outputs": [
    {
     "name": "stdout",
     "output_type": "stream",
     "text": [
      "[34  5 33  5]\n"
     ]
    }
   ],
   "source": [
    "## logical operations \n",
    "\n",
    "data3 = np.array([2,34,5,33,2,5]); \n",
    "d5 = data3[data3>=5]\n",
    "print(d5)"
   ]
  },
  {
   "cell_type": "code",
   "execution_count": null,
   "id": "2452861a",
   "metadata": {},
   "outputs": [],
   "source": []
  }
 ],
 "metadata": {
  "kernelspec": {
   "display_name": "Python 3",
   "language": "python",
   "name": "python3"
  },
  "language_info": {
   "codemirror_mode": {
    "name": "ipython",
    "version": 3
   },
   "file_extension": ".py",
   "mimetype": "text/x-python",
   "name": "python",
   "nbconvert_exporter": "python",
   "pygments_lexer": "ipython3",
   "version": "3.12.0"
  }
 },
 "nbformat": 4,
 "nbformat_minor": 5
}
