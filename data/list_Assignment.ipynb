{
 "cells": [
  {
   "cell_type": "markdown",
   "metadata": {},
   "source": [
    "# Module 3: Data Structures Assignments\n",
    "## Lesson 3.1: Lists\n",
    "### Assignment 1: Creating and Accessing Lists\n",
    "\n",
    "Create a list of the first 20 positive integers. Print the list.\n",
    "\n",
    "### Assignment 2: Accessing List Elements\n",
    "\n",
    "Print the first, middle, and last elements of the list created in Assignment 1.\n",
    "\n",
    "### Assignment 3: List Slicing\n",
    "\n",
    "Print the first five elements, the last five elements, and the elements from index 5 to 15 of the list created in Assignment 1.\n",
    "\n",
    "### Assignment 4: List Comprehensions\n",
    "\n",
    "Create a new list containing the squares of the first 10 positive integers using a list comprehension. Print the new list.\n",
    "\n",
    "### Assignment 5: Filtering Lists\n",
    "\n",
    "Create a new list containing only the even numbers from the list created in Assignment 1 using a list comprehension. Print the new list.\n",
    "\n",
    "### Assignment 6: List Methods\n",
    "\n",
    "Create a list of random numbers and sort it in ascending and descending order. Remove the duplicates from the list and print the modified list.\n",
    "\n",
    "### Assignment 7: Nested Lists\n",
    "\n",
    "Create a nested list representing a 3x3 matrix and print the matrix. Access and print the element at the second row and third column.\n",
    "\n",
    "### Assignment 8: List of Dictionaries\n",
    "\n",
    "Create a list of dictionaries where each dictionary represents a student with keys 'name' and 'score'. Sort the list of dictionaries by the 'score' in descending order and print the sorted list.\n",
    "\n",
    "### Assignment 9: Matrix Transposition\n",
    "\n",
    "Write a function that takes a 3x3 matrix (nested list) as input and returns its transpose. Print the original and transposed matrices.\n",
    "\n",
    "### Assignment 10: Flattening a Nested List\n",
    "\n",
    "Write a function that takes a nested list and flattens it into a single list. Print the original and flattened lists.\n",
    "\n",
    "### Assignment 11: List Manipulation\n",
    "\n",
    "Create a list of the first 10 positive integers. Remove the elements at indices 2, 4, and 6, and insert the element '99' at index 5. Print the modified list.\n",
    "\n",
    "### Assignment 12: List Zipping\n",
    "\n",
    "Create two lists of the same length. Use the `zip` function to combine these lists into a list of tuples and print the result.\n",
    "\n",
    "### Assignment 13: List Reversal\n",
    "\n",
    "Write a function that takes a list and returns a new list with the elements in reverse order. Print the original and reversed lists.\n",
    "\n",
    "### Assignment 14: List Rotation\n",
    "\n",
    "Write a function that rotates a list by n positions. Print the original and rotated lists.\n",
    "\n",
    "### Assignment 15: List Intersection\n",
    "\n",
    "Write a function that takes two lists and returns a new list containing only the elements that are present in both lists. Print the intersected list."
   ]
  },
  {
   "cell_type": "code",
   "execution_count": 1,
   "metadata": {},
   "outputs": [
    {
     "name": "stdout",
     "output_type": "stream",
     "text": [
      "[1, 2, 3, 4, 5, 6, 7, 8, 9, 10, 11, 12, 13, 14, 15, 16, 17, 18, 19, 20]\n"
     ]
    }
   ],
   "source": [
    "# Create a List of 20 positive intergers \n",
    "\n",
    "lst = [1,2,3,4,5,6,7,8,9,10,11,12,13,14,15,16,17,18,19,20]; \n",
    "print(lst); "
   ]
  },
  {
   "cell_type": "code",
   "execution_count": 11,
   "id": "7ac7b1b1",
   "metadata": {},
   "outputs": [
    {
     "name": "stdout",
     "output_type": "stream",
     "text": [
      "1\n",
      "11\n",
      "20\n"
     ]
    }
   ],
   "source": [
    "print(lst[0])\n",
    "print(lst[len(lst)//2])\n",
    "print(lst[-1])"
   ]
  },
  {
   "cell_type": "code",
   "execution_count": 10,
   "id": "b7424ecb",
   "metadata": {},
   "outputs": [
    {
     "name": "stdout",
     "output_type": "stream",
     "text": [
      "[1, 2, 3, 4, 5]\n",
      "[16, 17, 18, 19, 20]\n",
      "[6, 7, 8, 9, 10, 11, 12, 13, 14, 15]\n"
     ]
    }
   ],
   "source": [
    "# slicing \n",
    "\n",
    "print(lst[:5])\n",
    "print(lst[15:])\n",
    "print(lst[5:15])"
   ]
  },
  {
   "cell_type": "code",
   "execution_count": 14,
   "id": "04b64fee",
   "metadata": {},
   "outputs": [
    {
     "name": "stdout",
     "output_type": "stream",
     "text": [
      "[1, 4, 9, 16, 25, 36, 49, 64, 81, 100]\n"
     ]
    }
   ],
   "source": [
    "# comprehensions \n",
    "\n",
    "# newSq = []\n",
    "\n",
    "# for i in range (1,11):\n",
    "  # newSq.append(i**2); \n",
    "\n",
    "\n",
    "newSq = [i**2 for i in range (1,11)]\n",
    "\n",
    "print(newSq)"
   ]
  },
  {
   "cell_type": "code",
   "execution_count": 16,
   "id": "25cc95d2",
   "metadata": {},
   "outputs": [
    {
     "name": "stdout",
     "output_type": "stream",
     "text": [
      "[2, 4, 6, 8, 10, 12, 14, 16, 18, 20]\n"
     ]
    }
   ],
   "source": [
    "# even = [x for x in lst  x%2 == 0] - i don't use if in this \n",
    "evens = [x for x in lst if x % 2 == 0]\n",
    "# even = []\n",
    "\n",
    "# for i in lst :\n",
    "  # if(i % 2 == 0 ):\n",
    "    # even.append(i)\n",
    "\n",
    "print(evens)"
   ]
  },
  {
   "cell_type": "code",
   "execution_count": 27,
   "id": "4244a221",
   "metadata": {},
   "outputs": [
    {
     "name": "stdout",
     "output_type": "stream",
     "text": [
      "orginal list  [20, 17, 18, 5, 13, 12, 20, 7, 2, 1, 8, 2, 9, 16, 3]\n",
      "sorted List [1, 2, 2, 3, 5, 7, 8, 9, 12, 13, 16, 17, 18, 20, 20]\n",
      " Resevered sorted List [20, 20, 18, 17, 16, 13, 12, 9, 8, 7, 5, 3, 2, 2, 1]\n",
      "[1, 2, 3, 5, 7, 8, 9, 12, 13, 16, 17, 18, 20]\n"
     ]
    }
   ],
   "source": [
    "# random numbers and its sorting \n",
    "\n",
    "import random \n",
    "\n",
    "random_num = [random.randint(1,20) for i in range(15)]\n",
    "print(f\"orginal list  {random_num}\"); \n",
    "\n",
    "sorted_random = sorted(random_num); \n",
    "\n",
    "print(f'sorted List {sorted_random}')\n",
    "reversed_sorted = sorted(random_num, reverse=True)\n",
    "print(f' Resevered sorted List {reversed_sorted}')\n",
    "\n",
    "unique = list(set(random_num))\n",
    "print(unique)\n"
   ]
  },
  {
   "cell_type": "code",
   "execution_count": 38,
   "id": "92a47b40",
   "metadata": {},
   "outputs": [
    {
     "name": "stdout",
     "output_type": "stream",
     "text": [
      "[1, 2, 3]\n",
      "[4, 5, 6]\n",
      "[7, 8, 9]\n",
      "[1, 2, 3]\n",
      "[4, 5, 6]\n",
      "[7, 8, 9]\n",
      "9\n"
     ]
    }
   ],
   "source": [
    "matrix = [[1,2,3],[4,5,6],[7,8,9]]\n",
    "# print(matrix); \n",
    "\n",
    "for i in matrix:\n",
    "  print(i); \n",
    "\n",
    "for row in matrix:\n",
    "  print(row)\n",
    "\n",
    "print(matrix[2][2])\n"
   ]
  },
  {
   "cell_type": "code",
   "execution_count": null,
   "id": "a2473afb",
   "metadata": {},
   "outputs": [
    {
     "name": "stdout",
     "output_type": "stream",
     "text": [
      "Sorted students by score in descending order:\n",
      "{'name': 'Charlie', 'score': 95}\n",
      "{'name': 'Alice', 'score': 88}\n",
      "{'name': 'Eve', 'score': 78}\n",
      "{'name': 'Bob', 'score': 72}\n",
      "{'name': 'David', 'score': 65}\n"
     ]
    }
   ],
   "source": [
    "students = [\n",
    "    {'name': 'Alice', 'score': 88},\n",
    "    {'name': 'Bob', 'score': 72},\n",
    "    {'name': 'Charlie', 'score': 95},\n",
    "    {'name': 'David', 'score': 65},\n",
    "    {'name': 'Eve', 'score': 78}\n",
    "]\n",
    "\n",
    "sorted_students = sorted(students, key=lambda x: x['score'], reverse=True)\n",
    "\n",
    "sorted_std = sorted(students, key= lambda x: x['score'],reverse=True);\n",
    "\n",
    "print(\"Sorted students by score in descending order:\")\n",
    "\n",
    "for student in sorted_students:\n",
    "    print(student)\n"
   ]
  },
  {
   "cell_type": "code",
   "execution_count": null,
   "id": "2a7b1809",
   "metadata": {},
   "outputs": [
    {
     "name": "stdout",
     "output_type": "stream",
     "text": [
      "Original matrix:\n",
      "[1, 2, 3]\n",
      "[4, 5, 6]\n",
      "[7, 8, 9]\n",
      "Transposed matrix:\n",
      "[1, 4, 7]\n",
      "[2, 5, 8]\n",
      "[3, 6, 9]\n"
     ]
    }
   ],
   "source": [
    "def transpose_matrix(matrix):\n",
    "    transposed = [[matrix[j][i] for j in range(len(matrix))] for i in range(len(matrix[0]))]\n",
    "    return transposed\n",
    "\n",
    "matrix = [\n",
    "    [1, 2, 3],\n",
    "    [4, 5, 6],\n",
    "    [7, 8, 9]\n",
    "]\n",
    "transposed = transpose_matrix(matrix);\n",
    "print(\"Original matrix:\");\n",
    "for row in matrix:\n",
    "    print(row);\n",
    "print(\"Transposed matrix:\");\n",
    "for row in transposed:\n",
    "    print(row);"
   ]
  },
  {
   "cell_type": "code",
   "execution_count": 42,
   "id": "66ce7f45",
   "metadata": {},
   "outputs": [
    {
     "name": "stdout",
     "output_type": "stream",
     "text": [
      "[1, 2, 3, 4, 5, 6, 7, 8, 9]\n"
     ]
    }
   ],
   "source": [
    "nestedList = [[1,2,3] ,[4,5,6], [7,8,9]]\n",
    "\n",
    "def flattedList(nl):\n",
    "  # item is a variable , sublist is also a variable \n",
    "  flat_list = [item for sublist in nl for item in sublist]\n",
    "  return flat_list\n",
    "\n",
    "print(flattedList(nestedList))\n"
   ]
  },
  {
   "cell_type": "code",
   "execution_count": 55,
   "id": "3ca461a1",
   "metadata": {},
   "outputs": [
    {
     "name": "stdout",
     "output_type": "stream",
     "text": [
      "[1, 2, 3, 4, 5, 6, 7, 8, 9, 10]\n",
      "new [1, 2, 4, 5, 7, 99, 8, 10]\n",
      "Original list: [1, 2, 3, 4, 5, 6, 7, 8, 9, 10]\n",
      "Modified list: [1, 2, 4, 6, 8, 99, 9, 10]\n"
     ]
    }
   ],
   "source": [
    "pos = list(range(1,11)); \n",
    "print(pos); \n",
    "\n",
    "del pos[2]  \n",
    "del pos[4]  \n",
    "del pos[6] \n",
    "# del pos[8]  \n",
    "\n",
    "pos.insert(5,99)\n",
    "print('new', pos)\n",
    "\n",
    "lst = list(range(1, 11))\n",
    "print(f\"Original list: {lst}\")\n",
    "del lst[6]\n",
    "del lst[4]\n",
    "del lst[2]\n",
    "lst.insert(5, 99)\n",
    "print(f\"Modified list: {lst}\")\n"
   ]
  },
  {
   "cell_type": "code",
   "execution_count": 61,
   "id": "323eb18c",
   "metadata": {},
   "outputs": [
    {
     "name": "stdout",
     "output_type": "stream",
     "text": [
      "[1, 2, 3, 4, 5, 6, 7] [8, 9, 10, 11, 12, 13, 14]\n",
      "[(1, 8), (2, 9), (3, 10), (4, 11), (5, 12), (6, 13), (7, 14)]\n",
      "[(1, 'a'), (2, 'b'), (3, 'c'), (4, 'd'), (5, 'e')]\n"
     ]
    }
   ],
   "source": [
    "list1 = list(range(1,8)); \n",
    "list2 = list(range(8,15)); \n",
    "\n",
    "print(list1, list2); \n",
    "\n",
    "newList = list(zip(list1,list2))\n",
    "print(newList)\n",
    "\n",
    "list1 = [1, 2, 3, 4, 5]\n",
    "list2 = ['a', 'b', 'c', 'd', 'e']\n",
    "zipped = list(zip(list1, list2))\n",
    "print(zipped)"
   ]
  },
  {
   "cell_type": "code",
   "execution_count": 65,
   "id": "e56c57a4",
   "metadata": {},
   "outputs": [
    {
     "name": "stdout",
     "output_type": "stream",
     "text": [
      "Original List [1, 2, 3, 4, 5]\n",
      "[5, 4, 3, 2, 1]\n"
     ]
    }
   ],
   "source": [
    "def revesal (e):\n",
    "  print('Original List', e);\n",
    "  return e[::-1];\n",
    "\n",
    "list1 = [1, 2, 3, 4, 5]\n",
    "\n",
    "print(revesal(list1))\n"
   ]
  },
  {
   "cell_type": "code",
   "execution_count": null,
   "id": "0edfd886",
   "metadata": {},
   "outputs": [
    {
     "name": "stdout",
     "output_type": "stream",
     "text": [
      "Original list: [1, 2, 3, 4, 5]\n",
      "Rotated list: [3, 4, 5, 1, 2]\n"
     ]
    }
   ],
   "source": [
    "def rotate_list(lst, n):\n",
    "    return lst[n:] + lst[:n]; \n",
    "# lst is  a list [n:] n to end , + list ke starting to n ;\n",
    "\n",
    "\n",
    "\n",
    "original_list = [1, 2, 3, 4, 5]; \n",
    "# n : - 4 se end tak + 0 + 4 \n",
    "\n",
    "new = rotate_list(original_list, 3)\n",
    "\n",
    "rotated_list = rotate_list(original_list, 2)\n",
    "print(f\"Original list: {original_list}\")\n",
    "print(f\"Rotated list: {rotated_list}\")"
   ]
  },
  {
   "cell_type": "code",
   "execution_count": null,
   "id": "37058443",
   "metadata": {},
   "outputs": [],
   "source": [
    "def rotated (lst, n ):\n",
    "  return lst[n:] + lst[:n]\n",
    "\n",
    "# this is all the code to rotate a array it means,first start with n: run till end , then starting till :n ; \n",
    "\n"
   ]
  },
  {
   "cell_type": "code",
   "execution_count": 69,
   "id": "051a6876",
   "metadata": {},
   "outputs": [
    {
     "name": "stdout",
     "output_type": "stream",
     "text": [
      "List 1: [1, 2, 3, 4, 5]\n",
      "List 2: [3, 4, 5, 6, 7]\n",
      "Intersection: [3, 4, 5]\n"
     ]
    }
   ],
   "source": [
    "def list_intersection(lst1, lst2):\n",
    "    return [x for x in lst1 if x in lst2]\n",
    "\n",
    "list1 = [1, 2, 3, 4, 5]\n",
    "list2 = [3, 4, 5, 6, 7]\n",
    "intersection = list_intersection(list1, list2)\n",
    "print(f\"List 1: {list1}\")\n",
    "print(f\"List 2: {list2}\")\n",
    "print(f\"Intersection: {intersection}\")"
   ]
  },
  {
   "cell_type": "code",
   "execution_count": null,
   "id": "22e2f2d4",
   "metadata": {},
   "outputs": [],
   "source": []
  }
 ],
 "metadata": {
  "kernelspec": {
   "display_name": "Python 3",
   "language": "python",
   "name": "python3"
  },
  "language_info": {
   "codemirror_mode": {
    "name": "ipython",
    "version": 3
   },
   "file_extension": ".py",
   "mimetype": "text/x-python",
   "name": "python",
   "nbconvert_exporter": "python",
   "pygments_lexer": "ipython3",
   "version": "3.12.0"
  }
 },
 "nbformat": 4,
 "nbformat_minor": 5
}
