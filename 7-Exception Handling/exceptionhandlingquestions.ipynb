{
 "cells": [
  {
   "cell_type": "markdown",
   "metadata": {},
   "source": [
    "# Module: Exception Handling Assignments\n",
    "## Lesson: Exception Handling with try, except, and finally\n",
    "### Assignment 1: Handling Division by Zero\n",
    "\n",
    "Write a function that takes two integers as input and returns their division. Use try, except, and finally blocks to handle division by zero and print an appropriate message.\n",
    "\n",
    "### Assignment 2: File Reading with Exception Handling\n",
    "\n",
    "Write a function that reads the contents of a file named `data.txt`. Use try, except, and finally blocks to handle file not found errors and ensure the file is properly closed.\n",
    "\n",
    "### Assignment 3: Handling Multiple Exceptions\n",
    "\n",
    "Write a function that takes a list of integers and returns their sum. Use try, except, and finally blocks to handle TypeError if a non-integer value is encountered and print an appropriate message.\n",
    "\n",
    "### Assignment 4: Exception Handling in User Input\n",
    "\n",
    "Write a function that prompts the user to enter an integer. Use try, except, and finally blocks to handle ValueError if the user enters a non-integer value and print an appropriate message.\n",
    "\n",
    "### Assignment 5: Exception Handling in Dictionary Access\n",
    "\n",
    "Write a function that takes a dictionary and a key as input and returns the value associated with the key. Use try, except, and finally blocks to handle KeyError if the key is not found in the dictionary and print an appropriate message.\n",
    "\n",
    "### Assignment 6: Nested Exception Handling\n",
    "\n",
    "Write a function that performs nested exception handling. It should first attempt to convert a string to an integer, and then attempt to divide by that integer. Use nested try, except, and finally blocks to handle ValueError and ZeroDivisionError and print appropriate messages.\n",
    "\n",
    "### Assignment 7: Exception Handling in List Operations\n",
    "\n",
    "Write a function that takes a list and an index as input and returns the element at the given index. Use try, except, and finally blocks to handle IndexError if the index is out of range and print an appropriate message.\n",
    "\n",
    "### Assignment 8: Exception Handling in Network Operations\n",
    "\n",
    "Write a function that attempts to open a URL and read its contents. Use try, except, and finally blocks to handle network-related errors and print an appropriate message.\n",
    "\n",
    "### Assignment 9: Exception Handling in JSON Parsing\n",
    "\n",
    "Write a function that attempts to parse a JSON string. Use try, except, and finally blocks to handle JSONDecodeError if the string is not a valid JSON and print an appropriate message.\n",
    "\n",
    "### Assignment 10: Custom Exception Handling\n",
    "\n",
    "Define a custom exception named `NegativeNumberError`. Write a function that raises this exception if a negative number is encountered in a list. Use try, except, and finally blocks to handle the custom exception and print an appropriate message.\n",
    "\n",
    "### Assignment 11: Exception Handling in Function Calls\n",
    "\n",
    "Write a function that calls another function which may raise an exception. Use try, except, and finally blocks to handle the exception and print an appropriate message.\n",
    "\n",
    "### Assignment 12: Exception Handling in Class Methods\n",
    "\n",
    "Define a class with a method that performs a division operation. Use try, except, and finally blocks within the method to handle division by zero and print an appropriate message.\n",
    "\n",
    "### Assignment 13: Exception Handling in Data Conversion\n",
    "\n",
    "Write a function that takes a list of strings and converts them to integers. Use try, except, and finally blocks to handle ValueError if a string cannot be converted and print an appropriate message.\n",
    "\n",
    "### Assignment 14: Exception Handling in List Comprehensions\n",
    "\n",
    "Write a function that uses a list comprehension to convert a list of strings to integers. Use try, except, and finally blocks within the list comprehension to handle ValueError and print an appropriate message.\n",
    "\n",
    "### Assignment 15: Exception Handling in File Writing\n",
    "\n",
    "Write a function that attempts to write a list of strings to a file. Use try, except, and finally blocks to handle IOError and ensure the file is properly closed."
   ]
  },
  {
   "cell_type": "code",
   "execution_count": 2,
   "metadata": {},
   "outputs": [
    {
     "name": "stdout",
     "output_type": "stream",
     "text": [
      "not divide by zero\n"
     ]
    }
   ],
   "source": [
    "try: \n",
    "  10/0; \n",
    "except ZeroDivisionError:\n",
    "  print('not divide by zero')"
   ]
  },
  {
   "cell_type": "code",
   "execution_count": 3,
   "id": "c0857685",
   "metadata": {},
   "outputs": [
    {
     "name": "stdout",
     "output_type": "stream",
     "text": [
      "error [Errno 2] No such file or directory: 'data.txt'\n",
      "None\n"
     ]
    }
   ],
   "source": [
    "def fileOpening(file_path):\n",
    "  try:\n",
    "    file = open(file_path , 'r'); # reading \n",
    "    context = file.read(); \n",
    "    return context;\n",
    "  except FileNotFoundError as e:\n",
    "    print(f'error {e}'); \n",
    "  finally:\n",
    "    try:\n",
    "      file.close(); \n",
    "    except NameError:\n",
    "      pass\n",
    "\n",
    "\n",
    "print(fileOpening('data.txt'))"
   ]
  },
  {
   "cell_type": "code",
   "execution_count": 5,
   "id": "5df9c201",
   "metadata": {},
   "outputs": [
    {
     "name": "stdout",
     "output_type": "stream",
     "text": [
      "error unsupported operand type(s) for +=: 'int' and 'str'\n",
      "Execution Complete\n",
      "None\n"
     ]
    }
   ],
   "source": [
    "def multException (lst):\n",
    "  total = 0; \n",
    "  try: \n",
    "    for i in lst:\n",
    "      total += i; \n",
    "  except TypeError as e :\n",
    "    print(f'error {e}');\n",
    "    total = None; \n",
    "  finally :\n",
    "    print(\"Execution Complete\")\n",
    "    return total\n",
    "  \n",
    "\n",
    "print(multException([2,4,2,5,\"AYUSH\"]))"
   ]
  },
  {
   "cell_type": "code",
   "execution_count": 9,
   "id": "7c51003c",
   "metadata": {},
   "outputs": [
    {
     "name": "stdout",
     "output_type": "stream",
     "text": [
      "Error: invalid literal for int() with base 10: 'jhds'\n",
      "Execution complete.\n",
      "None\n"
     ]
    }
   ],
   "source": [
    "def get_integer():\n",
    "    try:\n",
    "        value = int(input(\"Enter an integer: \"))\n",
    "    except ValueError as e:\n",
    "        print(f\"Error: {e}\")\n",
    "        value = None\n",
    "    finally:\n",
    "        print(\"Execution complete.\")\n",
    "    return value\n",
    "\n",
    "# Test\n",
    "print(get_integer())\n"
   ]
  },
  {
   "cell_type": "code",
   "execution_count": 10,
   "id": "1147860b",
   "metadata": {},
   "outputs": [
    {
     "name": "stdout",
     "output_type": "stream",
     "text": [
      "Execution complete.\n",
      "2\n",
      "Error : 'x'\n",
      "Execution complete.\n",
      "None\n"
     ]
    }
   ],
   "source": [
    "def get_dict (d, key): # this function will work for return the value of the giving key \n",
    "  try : \n",
    "    value = d[key]; \n",
    "  except KeyError as e :\n",
    "    print(f'Error : {e}'); \n",
    "    value = None; \n",
    "  finally:\n",
    "    print(\"Execution complete.\")\n",
    "  return value\n",
    "\n",
    "# Test\n",
    "d = {'a': 1, 'b': 2, 'c': 3}\n",
    "print(get_dict(d, 'b'))  # 2\n",
    "print(get_dict(d, 'x'))  # None\n"
   ]
  },
  {
   "cell_type": "code",
   "execution_count": 11,
   "id": "75c2659a",
   "metadata": {},
   "outputs": [
    {
     "name": "stdout",
     "output_type": "stream",
     "text": [
      "Conversion attempt complete.\n",
      "Division Error division by zero\n",
      "Divison Attempt compelete\n",
      "Overall Exection Complete\n",
      "None\n",
      "Conversion error: invalid literal for int() with base 10: 'a'\n",
      "Conversion attempt complete.\n",
      "Overall Exection Complete\n",
      "None\n",
      "Conversion attempt complete.\n",
      "Divison Attempt compelete\n",
      "Overall Exection Complete\n",
      "5.0\n"
     ]
    }
   ],
   "source": [
    "def nested_exception_handling(s):\n",
    "    try:\n",
    "        try:\n",
    "            num = int(s)\n",
    "        except ValueError as e:\n",
    "            print(f\"Conversion error: {e}\")\n",
    "            num = None;\n",
    "        finally:\n",
    "            print(\"Conversion attempt complete.\");\n",
    "        if num is not None :\n",
    "            try :\n",
    "                result = 10 / num;\n",
    "            except ZeroDivisionError as e: \n",
    "                print(f'Division Error {e}'); \n",
    "                result = None; \n",
    "            finally : \n",
    "                print('Divison Attempt compelete'); \n",
    "            return result\n",
    "    finally: \n",
    "        print('Overall Exection Complete');\n",
    "\n",
    "       \n",
    "\n",
    "# Test\n",
    "print(nested_exception_handling('0'))  # None\n",
    "print(nested_exception_handling('a'))  # None\n",
    "print(nested_exception_handling('2'))  # 5.0"
   ]
  },
  {
   "cell_type": "code",
   "execution_count": null,
   "id": "279a42db",
   "metadata": {},
   "outputs": [
    {
     "name": "stdout",
     "output_type": "stream",
     "text": [
      "Execution Complete...\n",
      "3\n",
      "Error : list index out of range \n",
      "Execution Complete...\n"
     ]
    },
    {
     "ename": "UnboundLocalError",
     "evalue": "cannot access local variable 'elem' where it is not associated with a value",
     "output_type": "error",
     "traceback": [
      "\u001b[31m---------------------------------------------------------------------------\u001b[39m",
      "\u001b[31mUnboundLocalError\u001b[39m                         Traceback (most recent call last)",
      "\u001b[36mCell\u001b[39m\u001b[36m \u001b[39m\u001b[32mIn[12]\u001b[39m\u001b[32m, line 13\u001b[39m\n\u001b[32m     11\u001b[39m lst = [\u001b[32m1\u001b[39m,\u001b[32m2\u001b[39m,\u001b[32m3\u001b[39m,\u001b[32m4\u001b[39m,\u001b[32m5\u001b[39m]; \n\u001b[32m     12\u001b[39m \u001b[38;5;28mprint\u001b[39m(get_list_element(lst,\u001b[32m2\u001b[39m)); \n\u001b[32m---> \u001b[39m\u001b[32m13\u001b[39m \u001b[38;5;28mprint\u001b[39m(\u001b[43mget_list_element\u001b[49m\u001b[43m(\u001b[49m\u001b[43mlst\u001b[49m\u001b[43m,\u001b[49m\u001b[32;43m10\u001b[39;49m\u001b[43m)\u001b[49m); \n",
      "\u001b[36mCell\u001b[39m\u001b[36m \u001b[39m\u001b[32mIn[12]\u001b[39m\u001b[32m, line 8\u001b[39m, in \u001b[36mget_list_element\u001b[39m\u001b[34m(lst, i)\u001b[39m\n\u001b[32m      6\u001b[39m \u001b[38;5;28;01mfinally\u001b[39;00m : \n\u001b[32m      7\u001b[39m   \u001b[38;5;28mprint\u001b[39m(\u001b[33m'\u001b[39m\u001b[33mExecution Complete...\u001b[39m\u001b[33m'\u001b[39m); \n\u001b[32m----> \u001b[39m\u001b[32m8\u001b[39m \u001b[38;5;28;01mreturn\u001b[39;00m \u001b[43melem\u001b[49m\n",
      "\u001b[31mUnboundLocalError\u001b[39m: cannot access local variable 'elem' where it is not associated with a value"
     ]
    }
   ],
   "source": [
    "def get_list_element(lst, index):\n",
    "    try:\n",
    "        element = lst[index]\n",
    "    except IndexError as e:\n",
    "        print(f\"Error: {e}\")\n",
    "        element = None\n",
    "    finally:\n",
    "        print(\"Execution complete.\")\n",
    "    return element\n",
    "\n",
    "# Test\n",
    "# lst = [1, 2, 3, 4, 5]\n",
    "# print(get_list_element(lst, 2))  # 3\n",
    "# print(get_list_element(lst, 10))  # None"
   ]
  },
  {
   "cell_type": "code",
   "execution_count": null,
   "id": "7db444e0",
   "metadata": {},
   "outputs": [],
   "source": []
  }
 ],
 "metadata": {
  "kernelspec": {
   "display_name": "Python 3",
   "language": "python",
   "name": "python3"
  },
  "language_info": {
   "codemirror_mode": {
    "name": "ipython",
    "version": 3
   },
   "file_extension": ".py",
   "mimetype": "text/x-python",
   "name": "python",
   "nbconvert_exporter": "python",
   "pygments_lexer": "ipython3",
   "version": "3.12.0"
  }
 },
 "nbformat": 4,
 "nbformat_minor": 5
}
