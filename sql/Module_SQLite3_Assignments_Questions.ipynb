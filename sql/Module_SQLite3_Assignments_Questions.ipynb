{
 "cells": [
  {
   "cell_type": "markdown",
   "id": "964cf61d",
   "metadata": {},
   "source": [
    "# Module: SQLite3 Assignments\n",
    "## Lesson: SQLite3\n",
    "### Assignment 1: Creating and Connecting to a Database\n",
    "\n",
    "1. Write a Python function to create a new SQLite3 database named `test.db`.\n",
    "2. Write a Python function to create a table named `employees` with columns `id` (integer), `name` (text), `age` (integer), and `department` (text) in the `test.db` database.\n",
    "\n",
    "### Assignment 2: Inserting Data\n",
    "\n",
    "1. Write a Python function to insert a new employee into the `employees` table.\n",
    "2. Insert at least 5 different employees into the `employees` table.\n",
    "\n",
    "### Assignment 3: Querying Data\n",
    "\n",
    "1. Write a Python function to fetch and display all records from the `employees` table.\n",
    "2. Write a Python function to fetch and display all employees from a specific department.\n",
    "\n",
    "### Assignment 4: Updating Data\n",
    "\n",
    "1. Write a Python function to update the department of an employee based on their `id`.\n",
    "2. Update the department of at least 2 employees and display the updated records.\n",
    "\n",
    "### Assignment 5: Deleting Data\n",
    "\n",
    "1. Write a Python function to delete an employee from the `employees` table based on their `id`.\n",
    "2. Delete at least 1 employee and display the remaining records.\n",
    "\n",
    "### Assignment 6: Advanced Queries\n",
    "\n",
    "1. Write a Python function to fetch and display employees older than a certain age.\n",
    "2. Write a Python function to fetch and display employees whose names start with a specific letter.\n",
    "\n",
    "### Assignment 7: Handling Transactions\n",
    "\n",
    "1. Write a Python function to insert multiple employees into the `employees` table in a single transaction. Ensure that if any insertion fails, none of the insertions are committed.\n",
    "2. Write a Python function to update the age of multiple employees in a single transaction. Ensure that if any update fails, none of the updates are committed.\n",
    "\n",
    "### Assignment 8: Creating Relationships\n",
    "\n",
    "1. Create a new table named `departments` with columns `id` (integer) and `name` (text).\n",
    "2. Modify the `employees` table to include a foreign key referencing the `id` column in the `departments` table.\n",
    "3. Write a Python function to insert data into both the `departments` and `employees` tables, ensuring referential integrity.\n",
    "\n",
    "### Assignment 9: Indexing and Optimization\n",
    "\n",
    "1. Create an index on the `name` column of the `employees` table.\n",
    "2. Write a Python function to fetch and display all employees whose names start with a specific letter. Compare the performance with and without the index.\n",
    "\n",
    "### Assignment 10: Backing Up and Restoring Data\n",
    "\n",
    "1. Write a Python function to back up the `test.db` database to a file named `backup.db`.\n",
    "2. Write a Python function to restore the `test.db` database from the `backup.db` file."
   ]
  },
  {
   "cell_type": "code",
   "execution_count": 2,
   "metadata": {},
   "outputs": [
    {
     "name": "stdout",
     "output_type": "stream",
     "text": [
      "Database created and sucessfully connected\n"
     ]
    }
   ],
   "source": [
    "import sqlite3\n",
    "\n",
    "def create_dataBase():\n",
    "  conn = sqlite3.connect('test.db');\n",
    "  conn.close()\n",
    "  print('Database created and sucessfully connected');\n",
    "\n",
    "\n",
    "create_dataBase()\n",
    "\n"
   ]
  },
  {
   "cell_type": "code",
   "execution_count": 3,
   "id": "3b964017",
   "metadata": {},
   "outputs": [
    {
     "name": "stdout",
     "output_type": "stream",
     "text": [
      "Table 'employees' created successfully.\n"
     ]
    }
   ],
   "source": [
    "def create_table ():\n",
    "  conn = sqlite3.connect('test.db')\n",
    "  cursor = conn.cursor()\n",
    "  cursor.execute('''\n",
    "       CREATE TABLE IF NOT EXISTS employees (\n",
    "                 id INTEGER PRIMARY KEY,\n",
    "                 name TEXT NOT NULL,\n",
    "                 age INTEGER,\n",
    "                 department TEXT\n",
    "                 )\n",
    "''')\n",
    "  conn.commit()\n",
    "  conn.close()\n",
    "  print(\"Table 'employees' created successfully.\")\n",
    "\n",
    "# Test the function\n",
    "create_table()"
   ]
  },
  {
   "cell_type": "code",
   "execution_count": null,
   "id": "e70acd0c",
   "metadata": {},
   "outputs": [
    {
     "name": "stdout",
     "output_type": "stream",
     "text": [
      "Employee inserted Successfully\n"
     ]
    }
   ],
   "source": [
    "def insert_employee(id,name,age,department):\n",
    "  conn = sqlite3.connect('test.db')\n",
    "  cursor = conn.cursor()\n",
    "  cursor.execute('''\n",
    "      INSERT INTO employees (id,name,age,department)\n",
    "      VALUES (?,?,?,?)\n",
    "''', (id,name,age,department))\n",
    "  conn.commit()\n",
    "  conn.close()\n",
    "  print('Employee inserted Successfully');\n",
    "\n",
    "# Insert 5 different employees\n",
    "insert_employee(24, 'Bob', 25, 'Engineering')\n"
   ]
  },
  {
   "cell_type": "code",
   "execution_count": 16,
   "id": "9b323e88",
   "metadata": {},
   "outputs": [
    {
     "name": "stdout",
     "output_type": "stream",
     "text": [
      "(1, 'Alice', 10, 'HR')\n",
      "(2, 'Bob', 25, 'Engineering')\n",
      "(24, 'Bob', 25, 'Engineering')\n"
     ]
    }
   ],
   "source": [
    "def fetch_all_employees():\n",
    "  conn = sqlite3.connect('test.db');\n",
    "  cursor = conn.cursor()\n",
    "  cursor.execute('SELECT * FROM employees')\n",
    "  records = cursor.fetchall()\n",
    "  conn.close()\n",
    "  for rec in records:\n",
    "    print(rec)\n",
    "\n",
    "fetch_all_employees()"
   ]
  },
  {
   "cell_type": "code",
   "execution_count": 19,
   "id": "d0c7f640",
   "metadata": {},
   "outputs": [
    {
     "name": "stdout",
     "output_type": "stream",
     "text": [
      "(2, 'Bob', 25, 'Engineering')\n",
      "(24, 'Bob', 25, 'Engineering')\n"
     ]
    }
   ],
   "source": [
    "def fetch_employees_by_department(dep):\n",
    "  conn = sqlite3.connect('test.db')\n",
    "  cursor = conn.cursor()\n",
    "  cursor.execute('SELECT * FROM employees WHERE department = ?',(dep,))\n",
    "  records = cursor.fetchall()\n",
    "  conn.close()\n",
    "  for rec in records:\n",
    "    print(rec);\n",
    "\n",
    "\n",
    "fetch_employees_by_department('Engineering')"
   ]
  },
  {
   "cell_type": "code",
   "execution_count": 20,
   "id": "7ddf020c",
   "metadata": {},
   "outputs": [
    {
     "name": "stdout",
     "output_type": "stream",
     "text": [
      "Employee department updated successfully.\n"
     ]
    }
   ],
   "source": [
    "def update_employee_department(id,new_dep):\n",
    "  conn = sqlite3.connect('test.db')\n",
    "  cursor = conn.cursor()\n",
    "  cursor.execute(\n",
    "    ''' \n",
    "    UPDATE employees\n",
    "    SET department = ?\n",
    "    WHERE id = ?\n",
    "''', (new_dep,id)\n",
    "  )\n",
    "  conn.commit()\n",
    "  conn.close()\n",
    "  print(\"Employee department updated successfully.\")\n",
    "\n",
    "update_employee_department(1, 'Finance')"
   ]
  },
  {
   "cell_type": "code",
   "execution_count": 21,
   "id": "650c8f94",
   "metadata": {},
   "outputs": [
    {
     "name": "stdout",
     "output_type": "stream",
     "text": [
      "Employee department updated successfully.\n",
      "Employee department updated successfully.\n",
      "(1, 'Alice', 10, 'Finance')\n",
      "(2, 'Bob', 25, 'Research')\n",
      "(24, 'Bob', 25, 'Engineering')\n"
     ]
    }
   ],
   "source": [
    "# Update the department of 2 employees\n",
    "update_employee_department(2, 'Research')\n",
    "update_employee_department(3, 'Customer Support')\n",
    "\n",
    "# Fetch and display all records\n",
    "fetch_all_employees()"
   ]
  },
  {
   "cell_type": "code",
   "execution_count": 26,
   "id": "33a0e7f4",
   "metadata": {},
   "outputs": [
    {
     "name": "stdout",
     "output_type": "stream",
     "text": [
      "deleted\n"
     ]
    }
   ],
   "source": [
    "def delete_employee(id):\n",
    "  conn = sqlite3.connect('test.db')\n",
    "  cursor = conn.cursor()\n",
    "  cursor.execute('''\n",
    "        DELETE FROM employees\n",
    "        WHERE id = ?\n",
    "    ''', (id,))\n",
    "  conn.commit()\n",
    "  conn.close()\n",
    "  print('deleted')\n",
    "\n",
    "delete_employee(24)"
   ]
  },
  {
   "cell_type": "code",
   "execution_count": 27,
   "id": "5dc85365",
   "metadata": {},
   "outputs": [
    {
     "name": "stdout",
     "output_type": "stream",
     "text": [
      "(1, 'Alice', 10, 'Finance')\n",
      "(2, 'Bob', 25, 'Research')\n"
     ]
    }
   ],
   "source": [
    "def fetch_employee_older_than(age):\n",
    "  conn = sqlite3.connect('test.db')\n",
    "  cursor = conn.cursor()\n",
    "  cursor.execute('SELECT * FROM employees WHERE age > ?',(age,))\n",
    "  records = cursor.fetchall()\n",
    "  conn.close()\n",
    "  for rec in records:\n",
    "    print(rec)\n",
    "\n",
    "\n",
    "fetch_employee_older_than(2)"
   ]
  },
  {
   "cell_type": "code",
   "execution_count": null,
   "id": "f5963609",
   "metadata": {},
   "outputs": [
    {
     "name": "stdout",
     "output_type": "stream",
     "text": [
      "(1, 'Alice', 10, 'Finance')\n"
     ]
    }
   ],
   "source": [
    "def name_start(letter):\n",
    "  conn = sqlite3.connect('test.db')\n",
    "  cursor = conn.cursor()\n",
    "  cursor.execute('SELECT * FROM employees WHERE name LIKE ? ',(letter+ '%',))\n",
    "  record = cursor.fetchall()\n",
    "  conn.close()\n",
    "  for rec in record:\n",
    "    print(rec);\n",
    "\n",
    "name_start('A')\n"
   ]
  },
  {
   "cell_type": "code",
   "execution_count": 30,
   "id": "315a603b",
   "metadata": {},
   "outputs": [
    {
     "name": "stdout",
     "output_type": "stream",
     "text": [
      "All employees inserted successfully.\n"
     ]
    }
   ],
   "source": [
    "def insert_multiple_employees(employees):\n",
    "    conn = sqlite3.connect('test.db')\n",
    "    cursor = conn.cursor()\n",
    "    try:\n",
    "        cursor.executemany('''\n",
    "            INSERT INTO employees (id, name, age, department)\n",
    "            VALUES (?, ?, ?, ?)\n",
    "        ''', employees)\n",
    "        conn.commit()\n",
    "        print(\"All employees inserted successfully.\")\n",
    "    except Exception as e:\n",
    "        conn.rollback()\n",
    "        print(\"Error occurred, transaction rolled back.\")\n",
    "        print(e)\n",
    "    finally:\n",
    "        conn.close()\n",
    "\n",
    "# Test the function with valid and invalid data\n",
    "employees = [\n",
    "    (6, 'Frank', 40, 'Finance'),\n",
    "    (7, 'Grace', 29, 'Engineering'),\n",
    "    (8, 'Hannah', 35, 'Marketing'),\n",
    "    (9, 'Ivan', 38, 'Sales'),\n",
    "    # (6, 'Jack', 45, 'HR')  # Duplicate ID to cause an error\n",
    "]\n",
    "insert_multiple_employees(employees)"
   ]
  },
  {
   "cell_type": "code",
   "execution_count": null,
   "id": "e1937641",
   "metadata": {},
   "outputs": [],
   "source": [
    "def create_departments_table():\n",
    "    conn = sqlite3.connect('test.db')\n",
    "    cursor = conn.cursor()\n",
    "    cursor.execute('''\n",
    "        CREATE TABLE IF NOT EXISTS departments (\n",
    "            id INTEGER PRIMARY KEY,\n",
    "            name TEXT NOT NULL\n",
    "        )\n",
    "    ''')\n",
    "    conn.commit()\n",
    "    conn.close()\n",
    "    print(\"Table 'departments' created successfully.\")\n",
    "\n",
    "# Test the function\n",
    "create_departments_table()"
   ]
  },
  {
   "cell_type": "code",
   "execution_count": 2,
   "id": "28156ea2",
   "metadata": {},
   "outputs": [],
   "source": [
    "def add_department_foreign_key():\n",
    "    conn = sqlite3.connect('test.db')\n",
    "    cursor = conn.cursor()\n",
    "    cursor.execute('''\n",
    "        PRAGMA foreign_keys=off;\n",
    "        BEGIN TRANSACTION;\n",
    "        ALTER TABLE employees RENAME TO old_employees;\n",
    "        CREATE TABLE employees (\n",
    "            id INTEGER PRIMARY KEY,\n",
    "            name TEXT NOT NULL,\n",
    "            age INTEGER,\n",
    "            department TEXT,\n",
    "            department_id INTEGER,\n",
    "            FOREIGN KEY(department_id) REFERENCES departments(id)\n",
    "        );\n",
    "        INSERT INTO employees (id, name, age, department)\n",
    "               INSERT INTO employees (id, name, age, department)\n",
    "\n",
    "    ''')\n",
    "    conn.commit()\n",
    "    conn.close()\n",
    "    print(\"Table 'employees' modified successfully.\")\n",
    "\n",
    "# Test the function\n",
    "# add_department_foreign_key()"
   ]
  },
  {
   "cell_type": "code",
   "execution_count": 4,
   "id": "42edca84",
   "metadata": {},
   "outputs": [],
   "source": [
    "import sqlite3"
   ]
  },
  {
   "cell_type": "code",
   "execution_count": 5,
   "id": "0af6e79e",
   "metadata": {},
   "outputs": [
    {
     "name": "stdout",
     "output_type": "stream",
     "text": [
      "Index on 'name' column created successfully.\n"
     ]
    }
   ],
   "source": [
    "def create_index_on_name():\n",
    "  conn = sqlite3.connect('test.db')\n",
    "  cursor = conn.cursor()\n",
    "  cursor.execute('CREATE INDEX idx_name ON employees(name)')\n",
    "  conn.commit()\n",
    "  conn.close()\n",
    "  print(\"Index on 'name' column created successfully.\")\n",
    "\n",
    "# Test the function\n",
    "create_index_on_name()"
   ]
  },
  {
   "cell_type": "code",
   "execution_count": 6,
   "id": "056ef85c",
   "metadata": {},
   "outputs": [
    {
     "name": "stdout",
     "output_type": "stream",
     "text": [
      "Time taken: 0.0 seconds\n",
      "(1, 'Alice', 10, 'Finance')\n"
     ]
    }
   ],
   "source": [
    "import time\n",
    "\n",
    "def fetch_employees_name_starts_with_performance(letter):\n",
    "    conn = sqlite3.connect('test.db')\n",
    "    cursor = conn.cursor()\n",
    "    start_time = time.time()\n",
    "    cursor.execute('SELECT * FROM employees WHERE name LIKE ?', (letter + '%',))\n",
    "    records = cursor.fetchall()\n",
    "    end_time = time.time()\n",
    "    conn.close()\n",
    "    print(\"Time taken: {} seconds\".format(end_time - start_time))\n",
    "    for record in records:\n",
    "        print(record)\n",
    "\n",
    "# Test the function with the index\n",
    "fetch_employees_name_starts_with_performance('A')"
   ]
  },
  {
   "cell_type": "code",
   "execution_count": 7,
   "id": "dcad340b",
   "metadata": {},
   "outputs": [
    {
     "name": "stdout",
     "output_type": "stream",
     "text": [
      "copied\n"
     ]
    }
   ],
   "source": [
    "import shutil\n",
    "\n",
    "def backup_database():\n",
    "  shutil.copy('test.db', 'backup.db')\n",
    "  print('copied')\n",
    "\n",
    "\n",
    "backup_database()"
   ]
  },
  {
   "cell_type": "code",
   "execution_count": 8,
   "id": "295c7db3",
   "metadata": {},
   "outputs": [
    {
     "name": "stdout",
     "output_type": "stream",
     "text": [
      "restore\n"
     ]
    }
   ],
   "source": [
    "def restore_database():\n",
    "  shutil.copy('backup.db','test.db')\n",
    "  print('restore')\n",
    "  \n",
    "\n",
    "restore_database()"
   ]
  },
  {
   "cell_type": "code",
   "execution_count": null,
   "id": "476e6579",
   "metadata": {},
   "outputs": [],
   "source": []
  }
 ],
 "metadata": {
  "kernelspec": {
   "display_name": "Python 3",
   "language": "python",
   "name": "python3"
  },
  "language_info": {
   "codemirror_mode": {
    "name": "ipython",
    "version": 3
   },
   "file_extension": ".py",
   "mimetype": "text/x-python",
   "name": "python",
   "nbconvert_exporter": "python",
   "pygments_lexer": "ipython3",
   "version": "3.12.0"
  }
 },
 "nbformat": 4,
 "nbformat_minor": 5
}
