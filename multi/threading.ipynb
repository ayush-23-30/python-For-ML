{
 "cells": [
  {
   "cell_type": "markdown",
   "id": "aa49faed",
   "metadata": {},
   "source": [
    "##"
   ]
  },
  {
   "cell_type": "markdown",
   "id": "563f7a0a",
   "metadata": {},
   "source": [
    "### Mulit threading and Mutli processing \n",
    "\n",
    "1. Program \n",
    "2. Process\n",
    "3. Threads \n",
    "4. Example of process and threads"
   ]
  },
  {
   "cell_type": "markdown",
   "id": "61fe0f80",
   "metadata": {},
   "source": [
    "#### Program -> A program is a sequence of intructions written in programming language. ex - python,C++ \n",
    "` Intructions ko follow karte huye jo likhte hai programming language ke liye `\n",
    "\n",
    "\n"
   ]
  }
 ],
 "metadata": {
  "language_info": {
   "name": "python"
  }
 },
 "nbformat": 4,
 "nbformat_minor": 5
}
