{
 "cells": [
  {
   "cell_type": "markdown",
   "id": "bce97686",
   "metadata": {},
   "source": [
    "#### Python Memory Management\n",
    "Memory management in Python involves a combination of automatic garbage collection, reference counting, and various internal optimizations to efficiently manage memory allocation and deallocation. Understanding these mechanisms can help developers write more efficient and robust applications.\n",
    "\n",
    "1. Key Concepts in Python Memory Management\n",
    "2. Memory Allocation and Deallocation\n",
    "3. Reference Counting\n",
    "4. Garbage Collection\n",
    "5. The gc Module\n",
    "6. Memory Management Best Practices"
   ]
  },
  {
   "cell_type": "markdown",
   "id": "ac38309c",
   "metadata": {},
   "source": [
    "#### Reference Counting\n",
    "Reference counting is the primary method Python uses to manage memory. Each object in Python maintains a count of references pointing to it. When the reference count drops to zero, the memory occupied by the object is deallocated."
   ]
  },
  {
   "cell_type": "code",
   "execution_count": 3,
   "id": "50c64b7e",
   "metadata": {},
   "outputs": [
    {
     "name": "stdout",
     "output_type": "stream",
     "text": [
      "2\n"
     ]
    }
   ],
   "source": [
    "import sys\n",
    "\n",
    "a = []\n",
    "print(sys.getrefcount(a)) ## one reference coming from a and 1 from getrefCount == variable points towards a refernce that stores the value \n",
    "\n"
   ]
  },
  {
   "cell_type": "code",
   "execution_count": 11,
   "id": "9ff6f364",
   "metadata": {},
   "outputs": [
    {
     "name": "stdout",
     "output_type": "stream",
     "text": [
      "3\n"
     ]
    }
   ],
   "source": [
    "# \n",
    "b = a; \n",
    "print(sys.getrefcount(b));\n"
   ]
  },
  {
   "cell_type": "code",
   "execution_count": null,
   "id": "08b05ab2",
   "metadata": {},
   "outputs": [
    {
     "name": "stdout",
     "output_type": "stream",
     "text": [
      "2\n"
     ]
    }
   ],
   "source": [
    "del b\n",
    "print(sys.getrefcount(a));"
   ]
  },
  {
   "cell_type": "markdown",
   "id": "00b41318",
   "metadata": {},
   "source": [
    "#### Garbage Collection\n",
    "Python includes a cyclic garbage collector to handle reference cycles. Reference cycles occur when objects reference each other, preventing their reference counts from reaching zero."
   ]
  },
  {
   "cell_type": "code",
   "execution_count": 13,
   "id": "6f929c60",
   "metadata": {},
   "outputs": [],
   "source": [
    "import gc\n",
    "\n",
    "## enable garbage collector\n",
    "\n",
    "gc.enable()"
   ]
  },
  {
   "cell_type": "code",
   "execution_count": 14,
   "id": "8d17052f",
   "metadata": {},
   "outputs": [],
   "source": [
    "gc.disable()"
   ]
  },
  {
   "cell_type": "code",
   "execution_count": 15,
   "id": "dfa79817",
   "metadata": {},
   "outputs": [
    {
     "data": {
      "text/plain": [
       "2760"
      ]
     },
     "execution_count": 15,
     "metadata": {},
     "output_type": "execute_result"
    }
   ],
   "source": [
    "gc.collect()"
   ]
  },
  {
   "cell_type": "code",
   "execution_count": null,
   "id": "43e8865d",
   "metadata": {},
   "outputs": [
    {
     "name": "stdout",
     "output_type": "stream",
     "text": [
      "[{'collections': 197, 'collected': 1941, 'uncollectable': 0}, {'collections': 17, 'collected': 707, 'uncollectable': 0}, {'collections': 2, 'collected': 2760, 'uncollectable': 0}]\n"
     ]
    }
   ],
   "source": [
    "print(gc.get_stats()) ## stats of garbage "
   ]
  },
  {
   "cell_type": "code",
   "execution_count": 19,
   "id": "c8b7787f",
   "metadata": {},
   "outputs": [
    {
     "name": "stdout",
     "output_type": "stream",
     "text": [
      "[]\n"
     ]
    }
   ],
   "source": [
    "### unreachable objects\n",
    "\n",
    "print(gc.garbage)"
   ]
  },
  {
   "cell_type": "markdown",
   "id": "e547196c",
   "metadata": {},
   "source": [
    "####  Memory Management Best Practices\n",
    "1. Use Local Variables: Local variables have a shorter lifespan and are freed sooner than global variables.\n",
    "2. Avoid Circular References: Circular references can lead to memory leaks if not properly managed. ` a= b ,b = c`\n",
    "3. Use Generators: Generators produce items one at a time and only keep one item in memory at a time, making them memory efficient.\n",
    "4. Explicitly Delete Objects: Use the del statement to delete variables and objects explicitly.\n",
    "5. Profile Memory Usage: Use memory profiling tools like tracemalloc and memory_profiler to identify memory leaks and optimize memory usage."
   ]
  },
  {
   "cell_type": "code",
   "execution_count": 23,
   "id": "39593051",
   "metadata": {},
   "outputs": [
    {
     "name": "stdout",
     "output_type": "stream",
     "text": [
      "Object obj1 created\n",
      "Object obj2 created\n",
      "Object obj1 deleted\n",
      "Object obj2 deleted\n"
     ]
    },
    {
     "data": {
      "text/plain": [
       "9"
      ]
     },
     "execution_count": 23,
     "metadata": {},
     "output_type": "execute_result"
    }
   ],
   "source": [
    "import gc\n",
    "\n",
    "\n",
    "class MyObject:\n",
    "    def __init__(self, name):\n",
    "        self.name = name\n",
    "        print(f\"Object {self.name} created\")\n",
    "\n",
    "    def __del__(self):\n",
    "        print(f\"Object {self.name} deleted\")\n",
    "\n",
    "# Create circular reference\n",
    "obj1 = MyObject(\"obj1\")\n",
    "obj2 = MyObject(\"obj2\")\n",
    "\n",
    "obj1.ref = obj2\n",
    "obj2.ref = obj1\n",
    "\n",
    "del obj1\n",
    "del obj2\n",
    "\n",
    "## Manually trigger the garbage collection\n",
    "gc.collect()"
   ]
  },
  {
   "cell_type": "code",
   "execution_count": 24,
   "id": "8db3eae9",
   "metadata": {},
   "outputs": [
    {
     "name": "stdout",
     "output_type": "stream",
     "text": [
      "0\n",
      "1\n",
      "2\n",
      "3\n",
      "4\n",
      "5\n",
      "6\n",
      "7\n",
      "8\n",
      "9\n",
      "10\n",
      "11\n"
     ]
    }
   ],
   "source": [
    "## Generators For Memory Efficiency\n",
    "#Generators allow you to produce items one at a time, using memory efficiently by only keeping one item in memory at a time.\n",
    "\n",
    "\n",
    "def generate_numbers(n):\n",
    "  for i in range(n):\n",
    "    yield i\n",
    "\n",
    "for num in generate_numbers(11000):\n",
    "  print(num)\n",
    "  if num > 10:\n",
    "    break\n"
   ]
  },
  {
   "cell_type": "code",
   "execution_count": 28,
   "id": "574822b0",
   "metadata": {},
   "outputs": [],
   "source": [
    "## Profiling Memory USage with tracemalloc\n",
    "import tracemalloc\n",
    "\n",
    "def create_list():\n",
    "    return [i for i in range(10000)]\n",
    "\n",
    "def main():\n",
    "    tracemalloc.start()\n",
    "    \n",
    "    create_list()\n",
    "    \n",
    "    snapshot = tracemalloc.take_snapshot()\n",
    "    top_stats = snapshot.statistics('lineno')\n",
    "    \n",
    "    print(\"[ Top 10 ]\")\n",
    "    for stat in top_stats[::]:\n",
    "        print(stat)\n"
   ]
  },
  {
   "cell_type": "code",
   "execution_count": 29,
   "id": "6ee22b79",
   "metadata": {},
   "outputs": [
    {
     "name": "stdout",
     "output_type": "stream",
     "text": [
      "[ Top 10 ]\n",
      "d:\\machine learning\\python\\venv\\Lib\\selectors.py:314: size=288 KiB, count=6, average=48.0 KiB\n",
      "d:\\machine learning\\python\\venv\\Lib\\json\\decoder.py:353: size=2563 B, count=35, average=73 B\n",
      "d:\\machine learning\\python\\venv\\Lib\\site-packages\\zmq\\sugar\\attrsettr.py:45: size=1551 B, count=33, average=47 B\n",
      "d:\\machine learning\\python\\venv\\Lib\\codeop.py:118: size=1317 B, count=11, average=120 B\n",
      "d:\\machine learning\\python\\venv\\Lib\\contextlib.py:105: size=1256 B, count=12, average=105 B\n",
      "d:\\machine learning\\python\\venv\\Lib\\site-packages\\traitlets\\traitlets.py:1543: size=1190 B, count=20, average=60 B\n",
      "d:\\machine learning\\python\\venv\\Lib\\site-packages\\traitlets\\traitlets.py:731: size=1163 B, count=19, average=61 B\n",
      "d:\\machine learning\\python\\venv\\Lib\\site-packages\\IPython\\core\\compilerop.py:174: size=1100 B, count=15, average=73 B\n",
      "d:\\machine learning\\python\\venv\\Lib\\site-packages\\zmq\\sugar\\socket.py:802: size=1056 B, count=6, average=176 B\n",
      "d:\\machine learning\\python\\venv\\Lib\\site-packages\\IPython\\core\\compilerop.py:86: size=795 B, count=10, average=80 B\n",
      "d:\\machine learning\\python\\venv\\Lib\\site-packages\\jupyter_client\\session.py:1057: size=773 B, count=6, average=129 B\n",
      "d:\\machine learning\\python\\venv\\Lib\\threading.py:272: size=760 B, count=2, average=380 B\n",
      "d:\\machine learning\\python\\venv\\Lib\\site-packages\\traitlets\\traitlets.py:1514: size=720 B, count=6, average=120 B\n",
      "d:\\machine learning\\python\\venv\\Lib\\site-packages\\IPython\\core\\interactiveshell.py:3127: size=528 B, count=4, average=132 B\n",
      "d:\\machine learning\\python\\venv\\Lib\\site-packages\\jupyter_client\\jsonutil.py:111: size=500 B, count=10, average=50 B\n",
      "d:\\machine learning\\python\\venv\\Lib\\asyncio\\events.py:84: size=448 B, count=5, average=90 B\n",
      "d:\\machine learning\\python\\venv\\Lib\\site-packages\\IPython\\core\\history.py:958: size=428 B, count=2, average=214 B\n",
      "d:\\machine learning\\python\\venv\\Lib\\site-packages\\ipykernel\\kernelbase.py:775: size=424 B, count=2, average=212 B\n",
      "d:\\machine learning\\python\\venv\\Lib\\site-packages\\jupyter_client\\jsonutil.py:75: size=416 B, count=2, average=208 B\n",
      "d:\\machine learning\\python\\venv\\Lib\\site-packages\\IPython\\core\\history.py:959: size=393 B, count=1, average=393 B\n",
      "d:\\machine learning\\python\\venv\\Lib\\site-packages\\IPython\\core\\interactiveshell.py:3365: size=376 B, count=1, average=376 B\n",
      "d:\\machine learning\\python\\venv\\Lib\\site-packages\\IPython\\core\\history.py:1011: size=360 B, count=5, average=72 B\n",
      "d:\\machine learning\\python\\venv\\Lib\\site-packages\\ipykernel\\ipkernel.py:362: size=360 B, count=1, average=360 B\n",
      "d:\\machine learning\\python\\venv\\Lib\\threading.py:269: size=344 B, count=3, average=115 B\n",
      "d:\\machine learning\\python\\venv\\Lib\\site-packages\\IPython\\core\\interactiveshell.py:3025: size=320 B, count=2, average=160 B\n",
      "d:\\machine learning\\python\\venv\\Lib\\contextlib.py:289: size=312 B, count=6, average=52 B\n",
      "d:\\machine learning\\python\\venv\\Lib\\asyncio\\base_events.py:792: size=312 B, count=3, average=104 B\n",
      "d:\\machine learning\\python\\venv\\Lib\\site-packages\\IPython\\core\\interactiveshell.py:3610: size=296 B, count=1, average=296 B\n",
      "d:\\machine learning\\python\\venv\\Lib\\site-packages\\tornado\\queues.py:248: size=288 B, count=2, average=144 B\n",
      "d:\\machine learning\\python\\venv\\Lib\\asyncio\\base_events.py:427: size=288 B, count=2, average=144 B\n",
      "d:\\machine learning\\python\\venv\\Lib\\site-packages\\ipykernel\\iostream.py:527: size=272 B, count=4, average=68 B\n",
      "d:\\machine learning\\python\\venv\\Lib\\site-packages\\ipykernel\\kernelbase.py:534: size=264 B, count=1, average=264 B\n",
      "d:\\machine learning\\python\\venv\\Lib\\site-packages\\ipykernel\\kernelbase.py:435: size=248 B, count=1, average=248 B\n",
      "d:\\machine learning\\python\\venv\\Lib\\site-packages\\ipykernel\\iostream.py:121: size=248 B, count=1, average=248 B\n",
      "d:\\machine learning\\python\\venv\\Lib\\site-packages\\ipykernel\\iostream.py:346: size=240 B, count=2, average=120 B\n",
      "d:\\machine learning\\python\\venv\\Lib\\site-packages\\ipykernel\\iostream.py:287: size=240 B, count=2, average=120 B\n",
      "d:\\machine learning\\python\\venv\\Lib\\logging\\__init__.py:1622: size=240 B, count=1, average=240 B\n",
      "d:\\machine learning\\python\\venv\\Lib\\site-packages\\ipykernel\\kernelbase.py:545: size=232 B, count=1, average=232 B\n",
      "d:\\machine learning\\python\\venv\\Lib\\site-packages\\ipykernel\\zmqshell.py:549: size=224 B, count=3, average=75 B\n",
      "d:\\machine learning\\python\\venv\\Lib\\site-packages\\IPython\\core\\interactiveshell.py:3249: size=208 B, count=4, average=52 B\n",
      "d:\\machine learning\\python\\venv\\Lib\\site-packages\\jupyter_client\\session.py:1085: size=208 B, count=1, average=208 B\n",
      "d:\\machine learning\\python\\venv\\Lib\\site-packages\\ipykernel\\kernelbase.py:770: size=208 B, count=1, average=208 B\n",
      "d:\\machine learning\\python\\venv\\Lib\\site-packages\\ipykernel\\compiler.py:91: size=207 B, count=2, average=104 B\n",
      "d:\\machine learning\\python\\venv\\Lib\\asyncio\\futures.py:418: size=200 B, count=5, average=40 B\n",
      "d:\\machine learning\\python\\venv\\Lib\\site-packages\\zmq\\sugar\\socket.py:799: size=176 B, count=1, average=176 B\n",
      "d:\\machine learning\\python\\venv\\Lib\\site-packages\\IPython\\core\\interactiveshell.py:3250: size=160 B, count=4, average=40 B\n",
      "d:\\machine learning\\python\\venv\\Lib\\site-packages\\IPython\\core\\interactiveshell.py:3047: size=160 B, count=2, average=80 B\n",
      "d:\\machine learning\\python\\venv\\Lib\\site-packages\\ipykernel\\kernelbase.py:570: size=160 B, count=1, average=160 B\n",
      "d:\\machine learning\\python\\venv\\Lib\\site-packages\\IPython\\core\\interactiveshell.py:3670: size=160 B, count=1, average=160 B\n",
      "d:\\machine learning\\python\\venv\\Lib\\site-packages\\IPython\\core\\interactiveshell.py:3586: size=160 B, count=1, average=160 B\n",
      "d:\\machine learning\\python\\venv\\Lib\\site-packages\\IPython\\core\\interactiveshell.py:3263: size=160 B, count=1, average=160 B\n",
      "d:\\machine learning\\python\\venv\\Lib\\asyncio\\futures.py:394: size=160 B, count=1, average=160 B\n",
      "d:\\machine learning\\python\\venv\\Lib\\asyncio\\futures.py:387: size=160 B, count=1, average=160 B\n",
      "d:\\machine learning\\python\\venv\\Lib\\asyncio\\futures.py:381: size=160 B, count=1, average=160 B\n",
      "C:\\Users\\pawar\\AppData\\Local\\Temp\\ipykernel_11592\\3835544042.py:7: size=160 B, count=1, average=160 B\n",
      "C:\\Users\\pawar\\AppData\\Local\\Temp\\ipykernel_11592\\3835544042.py:4: size=160 B, count=1, average=160 B\n",
      "d:\\machine learning\\python\\venv\\Lib\\site-packages\\tornado\\platform\\asyncio.py:235: size=144 B, count=2, average=72 B\n",
      "d:\\machine learning\\python\\venv\\Lib\\site-packages\\ipykernel\\iostream.py:722: size=144 B, count=2, average=72 B\n",
      "d:\\machine learning\\python\\venv\\Lib\\site-packages\\IPython\\core\\interactiveshell.py:3602: size=128 B, count=3, average=43 B\n",
      "d:\\machine learning\\python\\venv\\Lib\\site-packages\\IPython\\core\\interactiveshell.py:3096: size=128 B, count=2, average=64 B\n",
      "d:\\machine learning\\python\\venv\\Lib\\threading.py:121: size=120 B, count=2, average=60 B\n",
      "d:\\machine learning\\python\\venv\\Lib\\site-packages\\ipykernel\\kernelbase.py:318: size=120 B, count=2, average=60 B\n",
      "d:\\machine learning\\python\\venv\\Lib\\site-packages\\zmq\\eventloop\\zmqstream.py:641: size=120 B, count=1, average=120 B\n",
      "d:\\machine learning\\python\\venv\\Lib\\site-packages\\ipykernel\\iostream.py:276: size=120 B, count=1, average=120 B\n",
      "d:\\machine learning\\python\\venv\\Lib\\asyncio\\base_events.py:755: size=120 B, count=1, average=120 B\n",
      "d:\\machine learning\\python\\venv\\Lib\\site-packages\\jupyter_client\\session.py:989: size=111 B, count=2, average=56 B\n",
      "d:\\machine learning\\python\\venv\\Lib\\site-packages\\dateutil\\parser\\isoparser.py:146: size=96 B, count=2, average=48 B\n",
      "d:\\machine learning\\python\\venv\\Lib\\site-packages\\IPython\\core\\interactiveshell.py:3468: size=96 B, count=2, average=48 B\n",
      "d:\\machine learning\\python\\venv\\Lib\\site-packages\\IPython\\core\\history.py:982: size=90 B, count=2, average=45 B\n",
      "d:\\machine learning\\python\\venv\\Lib\\site-packages\\IPython\\core\\interactiveshell.py:3050: size=88 B, count=2, average=44 B\n",
      "d:\\machine learning\\python\\venv\\Lib\\threading.py:271: size=72 B, count=1, average=72 B\n",
      "d:\\machine learning\\python\\venv\\Lib\\threading.py:267: size=72 B, count=1, average=72 B\n",
      "d:\\machine learning\\python\\venv\\Lib\\threading.py:262: size=72 B, count=1, average=72 B\n",
      "d:\\machine learning\\python\\venv\\Lib\\threading.py:261: size=72 B, count=1, average=72 B\n",
      "d:\\machine learning\\python\\venv\\Lib\\site-packages\\IPython\\core\\history.py:1030: size=72 B, count=1, average=72 B\n",
      "d:\\machine learning\\python\\venv\\Lib\\site-packages\\IPython\\core\\history.py:1009: size=72 B, count=1, average=72 B\n",
      "d:\\machine learning\\python\\venv\\Lib\\site-packages\\tornado\\queues.py:318: size=64 B, count=2, average=32 B\n",
      "d:\\machine learning\\python\\venv\\Lib\\site-packages\\zmq\\sugar\\socket.py:803: size=64 B, count=1, average=64 B\n",
      "d:\\machine learning\\python\\venv\\Lib\\site-packages\\ipykernel\\ipkernel.py:384: size=64 B, count=1, average=64 B\n",
      "d:\\machine learning\\python\\venv\\Lib\\site-packages\\ipykernel\\ipkernel.py:383: size=64 B, count=1, average=64 B\n",
      "d:\\machine learning\\python\\venv\\Lib\\site-packages\\ipykernel\\ipkernel.py:294: size=64 B, count=1, average=64 B\n",
      "d:\\machine learning\\python\\venv\\Lib\\site-packages\\ipykernel\\ipkernel.py:291: size=64 B, count=1, average=64 B\n",
      "d:\\machine learning\\python\\venv\\Lib\\site-packages\\decorator.py:235: size=64 B, count=1, average=64 B\n",
      "d:\\machine learning\\python\\venv\\Lib\\site-packages\\IPython\\core\\interactiveshell.py:3659: size=64 B, count=1, average=64 B\n",
      "d:\\machine learning\\python\\venv\\Lib\\site-packages\\IPython\\core\\interactiveshell.py:3334: size=64 B, count=1, average=64 B\n",
      "d:\\machine learning\\python\\venv\\Lib\\site-packages\\IPython\\core\\interactiveshell.py:3331: size=64 B, count=1, average=64 B\n",
      "d:\\machine learning\\python\\venv\\Lib\\site-packages\\IPython\\core\\history.py:1111: size=64 B, count=1, average=64 B\n",
      "d:\\machine learning\\python\\venv\\Lib\\site-packages\\IPython\\core\\interactiveshell.py:3052: size=50 B, count=1, average=50 B\n",
      "d:\\machine learning\\python\\venv\\Lib\\site-packages\\jupyter_client\\session.py:200: size=48 B, count=1, average=48 B\n",
      "d:\\machine learning\\python\\venv\\Lib\\site-packages\\IPython\\core\\interactiveshell.py:3598: size=48 B, count=1, average=48 B\n",
      "d:\\machine learning\\python\\venv\\Lib\\site-packages\\IPython\\core\\history.py:1010: size=48 B, count=1, average=48 B\n",
      "d:\\machine learning\\python\\venv\\Lib\\concurrent\\futures\\_base.py:330: size=48 B, count=1, average=48 B\n",
      "d:\\machine learning\\python\\venv\\Lib\\site-packages\\IPython\\core\\prefilter.py:317: size=47 B, count=1, average=47 B\n",
      "d:\\machine learning\\python\\venv\\Lib\\site-packages\\jupyter_client\\session.py:996: size=32 B, count=1, average=32 B\n",
      "d:\\machine learning\\python\\venv\\Lib\\site-packages\\jupyter_client\\session.py:603: size=32 B, count=1, average=32 B\n",
      "d:\\machine learning\\python\\venv\\Lib\\site-packages\\ipykernel\\iostream.py:637: size=32 B, count=1, average=32 B\n",
      "d:\\machine learning\\python\\venv\\Lib\\site-packages\\IPython\\core\\interactiveshell.py:3596: size=32 B, count=1, average=32 B\n",
      "d:\\machine learning\\python\\venv\\Lib\\site-packages\\IPython\\core\\history.py:969: size=32 B, count=1, average=32 B\n",
      "d:\\machine learning\\python\\venv\\Lib\\site-packages\\IPython\\core\\compilerop.py:192: size=32 B, count=1, average=32 B\n",
      "d:\\machine learning\\python\\venv\\Lib\\queue.py:151: size=32 B, count=1, average=32 B\n",
      "d:\\machine learning\\python\\venv\\Lib\\concurrent\\futures\\_base.py:421: size=32 B, count=1, average=32 B\n",
      "d:\\machine learning\\python\\venv\\Lib\\asyncio\\base_events.py:1935: size=32 B, count=1, average=32 B\n",
      "d:\\machine learning\\python\\venv\\Lib\\asyncio\\base_events.py:758: size=32 B, count=1, average=32 B\n",
      "d:\\machine learning\\python\\venv\\Lib\\site-packages\\ipykernel\\kernelbase.py:560: size=28 B, count=1, average=28 B\n",
      "d:\\machine learning\\python\\venv\\Lib\\site-packages\\IPython\\core\\compilerop.py:172: size=28 B, count=1, average=28 B\n",
      "d:\\machine learning\\python\\venv\\Lib\\site-packages\\IPython\\core\\interactiveshell.py:3578: size=8 B, count=1, average=8 B\n"
     ]
    }
   ],
   "source": [
    "main()"
   ]
  },
  {
   "cell_type": "code",
   "execution_count": null,
   "id": "36446504",
   "metadata": {},
   "outputs": [],
   "source": []
  }
 ],
 "metadata": {
  "kernelspec": {
   "display_name": "Python 3",
   "language": "python",
   "name": "python3"
  },
  "language_info": {
   "codemirror_mode": {
    "name": "ipython",
    "version": 3
   },
   "file_extension": ".py",
   "mimetype": "text/x-python",
   "name": "python",
   "nbconvert_exporter": "python",
   "pygments_lexer": "ipython3",
   "version": "3.12.0"
  }
 },
 "nbformat": 4,
 "nbformat_minor": 5
}
