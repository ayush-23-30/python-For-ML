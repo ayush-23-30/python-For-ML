{
 "cells": [
  {
   "cell_type": "markdown",
   "metadata": {},
   "source": [
    "# Module 4: Advanced Functions Assignments\n",
    "## Lesson 4.1: Defining Functions\n",
    "### Assignment 1: Fibonacci Sequence with Memoization\n",
    "\n",
    "Define a recursive function to calculate the nth Fibonacci number using memoization. Test the function with different inputs.\n",
    "\n",
    "### Assignment 2: Function with Nested Default Arguments\n",
    "\n",
    "Define a function that takes two arguments, a and b, where b is a dictionary with a default value of an empty dictionary. The function should add a new key-value pair to the dictionary and return it. Test the function with different inputs.\n",
    "\n",
    "### Assignment 3: Function with Variable Keyword Arguments\n",
    "\n",
    "Define a function that takes a variable number of keyword arguments and returns a dictionary containing only those key-value pairs where the value is an integer. Test the function with different inputs.\n",
    "\n",
    "### Assignment 4: Function with Callback\n",
    "\n",
    "Define a function that takes another function as a callback and a list of integers. The function should apply the callback to each integer in the list and return a new list with the results. Test with different callback functions.\n",
    "\n",
    "### Assignment 5: Function that Returns a Function\n",
    "\n",
    "Define a function that returns another function. The returned function should take an integer and return its square. Test the returned function with different inputs.\n",
    "\n",
    "### Assignment 6: Function with Decorators\n",
    "\n",
    "Define a function that calculates the time taken to execute another function. Apply this decorator to a function that performs a complex calculation. Test the decorated function with different inputs.\n",
    "\n",
    "### Assignment 7: Higher-Order Function for Filtering and Mapping\n",
    "\n",
    "Define a higher-order function that takes two functions, a filter function and a map function, along with a list of integers. The higher-order function should first filter the integers using the filter function and then apply the map function to the filtered integers. Test with different filter and map functions.\n",
    "\n",
    "### Assignment 8: Function Composition\n",
    "\n",
    "Define a function that composes two functions, f and g, such that the result is f(g(x)). Test with different functions f and g.\n",
    "\n",
    "### Assignment 9: Partial Function Application\n",
    "\n",
    "Use the functools.partial function to create a new function that multiplies its input by 2. Test the new function with different inputs.\n",
    "\n",
    "### Assignment 10: Function with Error Handling\n",
    "\n",
    "Define a function that takes a list of integers and returns their average. The function should handle any errors that occur (e.g., empty list) and return None in such cases. Test with different inputs.\n",
    "\n",
    "### Assignment 11: Function with Generators\n",
    "\n",
    "Define a function that generates an infinite sequence of Fibonacci numbers. Test by printing the first 10 numbers in the sequence.\n",
    "\n",
    "### Assignment 12: Currying\n",
    "\n",
    "Define a curried function that takes three arguments, one at a time, and returns their product. Test the function by providing arguments one at a time.\n",
    "\n",
    "### Assignment 13: Function with Context Manager\n",
    "\n",
    "Define a function that uses a context manager to write a list of integers to a file. The function should handle any errors that occur during file operations. Test with different lists.\n",
    "\n",
    "### Assignment 14: Function with Multiple Return Types\n",
    "\n",
    "Define a function that takes a list of mixed data types (integers, strings, and floats) and returns three lists: one containing all the integers, one containing all the strings, and one containing all the floats. Test with different inputs.\n",
    "\n",
    "### Assignment 15: Function with State\n",
    "\n",
    "Define a function that maintains state between calls using a mutable default argument. The function should keep track of how many times it has been called. Test by calling the function multiple times."
   ]
  },
  {
   "cell_type": "code",
   "execution_count": 2,
   "metadata": {},
   "outputs": [
    {
     "name": "stdout",
     "output_type": "stream",
     "text": [
      "55\n",
      "610\n"
     ]
    }
   ],
   "source": [
    "## fibano\n",
    "\n",
    "def fibonacci (n, memo = {}):\n",
    "  if n in memo: \n",
    "    return memo[n];\n",
    "  if n <=1:\n",
    "    return n; \n",
    "\n",
    "  memo[n] = fibonacci(n-1, memo) + fibonacci(n-2, memo); \n",
    "  return memo[n];\n",
    "\n",
    "\n",
    "print(fibonacci(10)); \n",
    "print(fibonacci(15));\n"
   ]
  },
  {
   "cell_type": "code",
   "execution_count": 5,
   "id": "23edf679",
   "metadata": {},
   "outputs": [
    {
     "name": "stdout",
     "output_type": "stream",
     "text": [
      "{2: 4}\n",
      "{7: 49}\n",
      "{7: 49}\n",
      "{4: 16}\n"
     ]
    }
   ],
   "source": [
    "# function with Nested Default Arguments \n",
    "\n",
    "def add_to_dict (a, b = None):\n",
    "  if b is None: # if be is  none \n",
    "    b = {}; # then make it a obj , in starting it is empty so it become a dict; \n",
    "  b[a] = a ** 2;  # then do b[a] me a ko  dalo ke a ** 2; \n",
    "  return b;\n",
    "\n",
    "print(add_to_dict(2)); \n",
    "print(add_to_dict(7)); \n",
    "\n",
    "\n",
    "def create_dict (a, b = None): \n",
    "  if b == None: \n",
    "    b = {};\n",
    "  b[a] = a ** 2; \n",
    "  return b\n",
    "\n",
    "\n",
    "print(create_dict(7)); \n",
    "print(create_dict(4)); "
   ]
  },
  {
   "cell_type": "code",
   "execution_count": 6,
   "id": "e01dea32",
   "metadata": {},
   "outputs": [
    {
     "name": "stdout",
     "output_type": "stream",
     "text": [
      "{'a': 1, 'c': 3}\n",
      "{'x': 10, 'z': 20}\n"
     ]
    }
   ],
   "source": [
    "# argument with keywords \n",
    "def create_key (**obj):\n",
    "  return {k : v for k, v in obj.items() if isinstance(v,int)} \n",
    "\n",
    "# Test\n",
    "print(create_key(a=1, b='two', c=3, d=4.5))  # {'a': 1, 'c': 3}\n",
    "print(create_key(x=10, y='yes', z=20))  # {'x': 10, 'z': 20}"
   ]
  },
  {
   "cell_type": "code",
   "execution_count": 10,
   "id": "a0333ee4",
   "metadata": {},
   "outputs": [
    {
     "name": "stdout",
     "output_type": "stream",
     "text": [
      "[1, 4, 9, 16]\n",
      "[2.3, 55, 3, 4]\n"
     ]
    }
   ],
   "source": [
    "# function with Callback \n",
    "def call_Back(cb , lst):\n",
    "  return [cb(x) for x in lst]; # itreate over lst \n",
    "\n",
    "## cb is a callback function that take arg x ;\n",
    "# for x in lst ; \n",
    "\n",
    "print(call_Back(lambda x : x ** 2 , [1,2,3,4]));\n",
    "## this is taking a call back function inside the function using lambda we call also pass a def function reference \n",
    "\n",
    "print(call_Back(lambda x : x + 1,[1.3,54,2,3])); "
   ]
  },
  {
   "cell_type": "code",
   "execution_count": 14,
   "id": "234ce8a9",
   "metadata": {},
   "outputs": [
    {
     "name": "stdout",
     "output_type": "stream",
     "text": [
      "12\n",
      "48\n",
      "16\n",
      "4\n",
      "25\n"
     ]
    }
   ],
   "source": [
    "## function that return a functions\n",
    "def outer_function (): # function \n",
    "  def inner_fncs (x): # function inside a function \n",
    "    return x*4;  # inner function return \n",
    "  return inner_fncs # returning outer fncs \n",
    "\n",
    "into_4 = outer_function(); \n",
    "# u can't call directly the function that holders another fncs = called clousers \n",
    "\n",
    "print(into_4(3));\n",
    "print(into_4(12));\n",
    "\n",
    "\n",
    "def outer():\n",
    "  def inner (u):\n",
    "    return u**2; \n",
    "  return inner; \n",
    "\n",
    "sq = outer(); \n",
    "print(sq(4)) \n",
    "print(sq(2)) \n",
    "print(sq(5)) \n"
   ]
  },
  {
   "cell_type": "code",
   "execution_count": 18,
   "id": "f059058a",
   "metadata": {},
   "outputs": [
    {
     "name": "stdout",
     "output_type": "stream",
     "text": [
      "Function complex_calculation took 0.0 sec to execute\n",
      "332833500\n"
     ]
    }
   ],
   "source": [
    "# function with Decorators \n",
    "# function that calculates the time taken to execute another fncs, apply decorator to a fncs that perform a calculation \n",
    "\n",
    "import time \n",
    "def timer_decorator (fncs):\n",
    "  def wrapper (*args, **kwargs):\n",
    "    start_time = time.time();\n",
    "    result = fncs(*args, **kwargs); \n",
    "    end_time = time.time(); \n",
    "    print(f'Function {fncs.__name__} took {end_time - start_time} sec to execute');\n",
    "    return result \n",
    "  return wrapper\n",
    "  \n",
    "\n",
    "@timer_decorator\n",
    "def  complex_calculation(n):\n",
    "  return sum(x**2 for x in range(n)); \n",
    "# sum kardo x ki power; x ko iterate karro n tak \n",
    "\n",
    "print(complex_calculation(1000))\n",
    " \n",
    "\n"
   ]
  },
  {
   "cell_type": "code",
   "execution_count": null,
   "id": "2fe0e247",
   "metadata": {},
   "outputs": [
    {
     "name": "stdout",
     "output_type": "stream",
     "text": [
      "[4, 16]\n",
      "[4, 5, 6]\n"
     ]
    }
   ],
   "source": [
    "def filter_and_map (filter_fncs, map_fncs, lst):\n",
    "  return [map_fncs(x) for x in lst if filter_fncs(x)]; \n",
    "\n",
    "# Test\n",
    "print(filter_and_map( lambda x: x % 2 == 0,lambda x: x ** 2, [1, 2, 3, 4, 5]))  # [4, 16]\n",
    "print(filter_and_map(lambda x: x > 2, lambda x: x + 1, [1, 2, 3, 4, 5]))  # [4, 5, 6]"
   ]
  },
  {
   "cell_type": "code",
   "execution_count": 20,
   "id": "b8f29bb3",
   "metadata": {},
   "outputs": [
    {
     "name": "stdout",
     "output_type": "stream",
     "text": [
      "7\n",
      "13\n"
     ]
    }
   ],
   "source": [
    "def compose (f,g):\n",
    "  return lambda x : f(g(x)); \n",
    "\n",
    "f = lambda x : x + 1\n",
    "g = lambda x : x*2 \n",
    "h = compose(f,g); \n",
    "\n",
    "print(h(3))\n",
    "print(h(6))\n"
   ]
  },
  {
   "cell_type": "code",
   "execution_count": 21,
   "id": "e3525c77",
   "metadata": {},
   "outputs": [
    {
     "name": "stdout",
     "output_type": "stream",
     "text": [
      "6\n",
      "12\n"
     ]
    }
   ],
   "source": [
    "## partial funciton Application\n",
    "\n",
    "from functools import partial; \n",
    "\n",
    "multiply_by_2 = partial(lambda x, y : x * y , 2)\n",
    "print(multiply_by_2(3));\n",
    "print(multiply_by_2(6));"
   ]
  },
  {
   "cell_type": "code",
   "execution_count": 22,
   "id": "a560f91b",
   "metadata": {},
   "outputs": [
    {
     "name": "stdout",
     "output_type": "stream",
     "text": [
      "3.2\n",
      "None\n"
     ]
    }
   ],
   "source": [
    "## function with Error Handling \n",
    "\n",
    "def average(lst):\n",
    "  try: \n",
    "    return sum(lst)/ len(lst) # find its average; \n",
    "  except ZeroDivisionError: \n",
    "    return None;\n",
    "\n",
    "print(average([1,2,3,4,6])); \n",
    "print(average([]))"
   ]
  },
  {
   "cell_type": "code",
   "execution_count": 23,
   "id": "3db9afe5",
   "metadata": {},
   "outputs": [
    {
     "name": "stdout",
     "output_type": "stream",
     "text": [
      "0\n",
      "1\n",
      "1\n",
      "2\n",
      "3\n",
      "5\n",
      "8\n",
      "13\n",
      "21\n",
      "34\n"
     ]
    }
   ],
   "source": [
    "def fibonacci_gen():\n",
    "  a,b = 0,1; \n",
    "  while True:\n",
    "    yield a; \n",
    "    a, b = b, a + b; \n",
    "\n",
    "\n",
    "fib_gen = fibonacci_gen();\n",
    "for _ in range(10):\n",
    "  print(next(fib_gen));"
   ]
  },
  {
   "cell_type": "code",
   "execution_count": null,
   "id": "acaa5e15",
   "metadata": {},
   "outputs": [
    {
     "name": "stdout",
     "output_type": "stream",
     "text": [
      "24\n"
     ]
    }
   ],
   "source": [
    "## in this function is carry its argument to its inner function x / y / z\n",
    "\n",
    "\n",
    "def curry_product(x):\n",
    "  def inner1(y):\n",
    "    def inner2(z) :\n",
    "      return x * y * z; \n",
    "    return inner2;\n",
    "  return inner1; \n",
    "\n",
    "print(curry_product(2)(3)(4));"
   ]
  },
  {
   "cell_type": "code",
   "execution_count": 25,
   "id": "30935974",
   "metadata": {},
   "outputs": [
    {
     "name": "stdout",
     "output_type": "stream",
     "text": [
      "1\n",
      "2\n",
      "3\n"
     ]
    }
   ],
   "source": [
    "def call_counter (cnt = {'count' : 0}):\n",
    "  cnt['count'] += 1; \n",
    "  return cnt['count']\n",
    "\n",
    "print(call_counter());\n",
    "print(call_counter());\n",
    "print(call_counter());"
   ]
  },
  {
   "cell_type": "code",
   "execution_count": 26,
   "id": "ea803d64",
   "metadata": {},
   "outputs": [
    {
     "name": "stdout",
     "output_type": "stream",
     "text": [
      "([1, 3], ['a', 'b', 'c'], [2.5, 4.0])\n"
     ]
    }
   ],
   "source": [
    "def separate_types(lst):\n",
    "  ints, strs, floats =[], [],[]; \n",
    "  for item in lst:\n",
    "    if isinstance(item, int):\n",
    "      ints.append(item);\n",
    "    if isinstance(item, str):\n",
    "      strs.append(item);\n",
    "    if isinstance(item,float):\n",
    "      floats.append(item); \n",
    "  return ints, strs, floats;\n",
    "\n",
    "print(separate_types([1, 'a', 2.5, 3, 'b', 4.0, 'c']))  # ([1, 3], ['a', 'b', 'c'], [2.5, 4.0])"
   ]
  },
  {
   "cell_type": "code",
   "execution_count": null,
   "id": "eb08f616",
   "metadata": {},
   "outputs": [],
   "source": []
  }
 ],
 "metadata": {
  "kernelspec": {
   "display_name": "Python 3",
   "language": "python",
   "name": "python3"
  },
  "language_info": {
   "codemirror_mode": {
    "name": "ipython",
    "version": 3
   },
   "file_extension": ".py",
   "mimetype": "text/x-python",
   "name": "python",
   "nbconvert_exporter": "python",
   "pygments_lexer": "ipython3",
   "version": "3.12.0"
  }
 },
 "nbformat": 4,
 "nbformat_minor": 5
}
