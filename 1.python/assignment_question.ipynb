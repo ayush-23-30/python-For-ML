{
 "cells": [
  {
   "cell_type": "markdown",
   "metadata": {},
   "source": [
    "# Lesson 1.2: Python Basics\n",
    "## Topics Covered:\n",
    "- Syntax and Semantics\n",
    "- Variables and Data Types\n",
    "- Basic Operators (Arithmetic, Comparison, Logical)\n"
   ]
  },
  {
   "cell_type": "markdown",
   "metadata": {},
   "source": [
    "## 1. Syntax and Semantics\n",
    "\n",
    "**Question 1:** Write a Python program to print \"Hello, World!\"."
   ]
  },
  {
   "cell_type": "code",
   "execution_count": 1,
   "metadata": {},
   "outputs": [
    {
     "name": "stdout",
     "output_type": "stream",
     "text": [
      "Hello World!\n"
     ]
    }
   ],
   "source": [
    "# Your code here\n",
    "print('Hello World!')"
   ]
  },
  {
   "cell_type": "markdown",
   "metadata": {},
   "source": [
    "**Question 2:** Write a Python program that takes a user input and prints it."
   ]
  },
  {
   "cell_type": "code",
   "execution_count": null,
   "metadata": {},
   "outputs": [
    {
     "name": "stdout",
     "output_type": "stream",
     "text": [
      "Ayush Kumar\n"
     ]
    }
   ],
   "source": [
    "# Your code here\n",
    "# full_name = input('Enter your FullName?')\n",
    "# print(full_name)"
   ]
  },
  {
   "cell_type": "markdown",
   "metadata": {},
   "source": [
    "**Question 3:** Write a Python program to check if a number is positive, negative, or zero."
   ]
  },
  {
   "cell_type": "code",
   "execution_count": null,
   "metadata": {},
   "outputs": [
    {
     "name": "stdout",
     "output_type": "stream",
     "text": [
      "-ve\n"
     ]
    }
   ],
   "source": [
    "# Your code here\n",
    "# num = int(input('Enter Any Number?')); \n",
    "num = 34;\n",
    "if num < 0 :\n",
    "  print('-ve')\n",
    "elif num > 0 :\n",
    "  print('+ve'); \n",
    "else :print('zero')\n"
   ]
  },
  {
   "cell_type": "markdown",
   "metadata": {},
   "source": [
    "**Question 4:** Write a Python program to find the largest of three numbers."
   ]
  },
  {
   "cell_type": "code",
   "execution_count": 4,
   "metadata": {},
   "outputs": [
    {
     "name": "stdout",
     "output_type": "stream",
     "text": [
      "Number 2 is Largest!\n"
     ]
    }
   ],
   "source": [
    "# Your code here\n",
    "num1 = 23; num2 = 457; num3 = 241;\n",
    "if num1 > num2 : \n",
    "  print('Number 1 is largest!')\n",
    "elif num3 > num2 : \n",
    "  print('Number 3 is largest!')\n",
    "else : print('Number 2 is Largest!')"
   ]
  },
  {
   "cell_type": "markdown",
   "metadata": {},
   "source": [
    "**Question 5:** Write a Python program to calculate the factorial of a number."
   ]
  },
  {
   "cell_type": "code",
   "execution_count": null,
   "metadata": {},
   "outputs": [
    {
     "name": "stdout",
     "output_type": "stream",
     "text": [
      "The factorial of 5 is 120\n"
     ]
    }
   ],
   "source": [
    "# Your code here\n",
    "def factorial(n):\n",
    "    if n == 0 or n == 1:\n",
    "        return 1;\n",
    "    else:\n",
    "        return n * factorial(n - 1)\n",
    "\n",
    "num = 2; \n",
    "# int(input(\"Enter a number: \"))\n",
    "# print(f\"The factorial of {num} is {factorial(num)}\")"
   ]
  },
  {
   "cell_type": "markdown",
   "metadata": {},
   "source": [
    "## 2. Variables and Data Types\n",
    "\n",
    "**Question 6:** Create variables of different data types: integer, float, string, and boolean. Print their values and types."
   ]
  },
  {
   "cell_type": "code",
   "execution_count": 6,
   "metadata": {},
   "outputs": [
    {
     "name": "stdout",
     "output_type": "stream",
     "text": [
      "23 <class 'int'>\n",
      "23.02 <class 'float'>\n",
      "Ayush <class 'str'>\n",
      "True <class 'bool'>\n"
     ]
    }
   ],
   "source": [
    "# Your code here\n",
    "int_N = 23; \n",
    "float_N = 23.02; \n",
    "string_S = 'Ayush'; \n",
    "bool_B = True; \n",
    "\n",
    "print(int_N, type(int_N))\n",
    "print(float_N, type(float_N))\n",
    "print(string_S, type(string_S))\n",
    "print(bool_B, type(bool_B))"
   ]
  },
  {
   "cell_type": "markdown",
   "metadata": {},
   "source": [
    "**Question 7:** Write a Python program to swap the values of two variables."
   ]
  },
  {
   "cell_type": "code",
   "execution_count": null,
   "metadata": {},
   "outputs": [
    {
     "name": "stdout",
     "output_type": "stream",
     "text": [
      "A is 2 b is 1 c is 2\n"
     ]
    }
   ],
   "source": [
    "# Your code here\n",
    "\n",
    "a = 1; b = 2;\n",
    "\n",
    "c = b; # c ke ander b hai ab - 2;\n",
    "b = a; # b ke ander a hai ab - 1;\n",
    "a = c; # c ke ander b hai ab - 2; \n",
    "\n",
    "print(f\"A is {a} b is {b}\"); \n"
   ]
  },
  {
   "cell_type": "markdown",
   "metadata": {},
   "source": [
    "**Question 8:** Write a Python program to convert Celsius to Fahrenheit."
   ]
  },
  {
   "cell_type": "code",
   "execution_count": 23,
   "metadata": {},
   "outputs": [
    {
     "name": "stdout",
     "output_type": "stream",
     "text": [
      "32.54°C is equal to 90.572°F\n"
     ]
    }
   ],
   "source": [
    "# Your code here\n",
    "cel = 32.54; \n",
    "far = (cel * 9/5) + 32; \n",
    "print(f\"{cel}°C is equal to {far}°F\")"
   ]
  },
  {
   "cell_type": "markdown",
   "metadata": {},
   "source": [
    "**Question 9:** Write a Python program to concatenate two strings."
   ]
  },
  {
   "cell_type": "code",
   "execution_count": null,
   "metadata": {},
   "outputs": [
    {
     "name": "stdout",
     "output_type": "stream",
     "text": [
      "ayush Kumar\n",
      "Kayush uayush mayush aayush r\n"
     ]
    }
   ],
   "source": [
    "# Your code here\n",
    "\n",
    "str1 = \"ayush \"; \n",
    "str2 = \"Kumar\"; \n",
    "\n",
    "print(str1 + str2);"
   ]
  },
  {
   "cell_type": "markdown",
   "metadata": {},
   "source": [
    "**Question 10:** Write a Python program to check if a variable is of a specific data type."
   ]
  },
  {
   "cell_type": "code",
   "execution_count": 6,
   "metadata": {},
   "outputs": [
    {
     "name": "stdout",
     "output_type": "stream",
     "text": [
      "<class 'str'>\n"
     ]
    }
   ],
   "source": [
    "# Your code here\n",
    "num1 = 'sj'; \n",
    "print(type(num1)); \n"
   ]
  },
  {
   "cell_type": "markdown",
   "metadata": {},
   "source": [
    "## 3. Basic Operators (Arithmetic, Comparison, Logical)\n",
    "\n",
    "**Question 11:** Write a Python program to perform arithmetic operations: addition, subtraction, multiplication, and division."
   ]
  },
  {
   "cell_type": "code",
   "execution_count": 7,
   "metadata": {},
   "outputs": [
    {
     "name": "stdout",
     "output_type": "stream",
     "text": [
      "30\n",
      "-10\n",
      "200\n",
      "0.5\n"
     ]
    }
   ],
   "source": [
    "# Your code here\n",
    "num1 = 10; \n",
    "num2 = 20; \n",
    "\n",
    "print(num1 + num2); \n",
    "print(num1 - num2); \n",
    "print(num1 * num2); \n",
    "print(num1 / num2); "
   ]
  },
  {
   "cell_type": "markdown",
   "metadata": {},
   "source": [
    "**Question 12:** Write a Python program to demonstrate comparison operators: equal to, not equal to, greater than, less than."
   ]
  },
  {
   "cell_type": "code",
   "execution_count": 8,
   "metadata": {},
   "outputs": [
    {
     "name": "stdout",
     "output_type": "stream",
     "text": [
      "False\n",
      "True\n",
      "False\n",
      "True\n"
     ]
    }
   ],
   "source": [
    "# Your code here\n",
    "num1 = 20; \n",
    "num2 = 40; \n",
    "\n",
    "print(num1 > num2); \n",
    "print(num1 < num2); \n",
    "print(num1 == num2); \n",
    "print(num1 != num2); "
   ]
  },
  {
   "cell_type": "markdown",
   "metadata": {},
   "source": [
    "**Question 13:** Write a Python program to demonstrate logical operators: and, or, not."
   ]
  },
  {
   "cell_type": "code",
   "execution_count": 12,
   "metadata": {},
   "outputs": [
    {
     "name": "stdout",
     "output_type": "stream",
     "text": [
      "Discount applied!\n"
     ]
    }
   ],
   "source": [
    "is_student = True\n",
    "is_senior = False\n",
    "has_membership = True\n",
    "\n",
    "if (is_student or is_senior) and has_membership:\n",
    "    print(\"Discount applied!\")\n",
    "elif not is_senior and is_student:\n",
    "    print(\"You need a membership card for a discount.\")\n",
    "else:\n",
    "    print(\"No discount available.\")"
   ]
  },
  {
   "cell_type": "markdown",
   "metadata": {},
   "source": [
    "**Question 14:** Write a Python program to calculate the square of a number."
   ]
  },
  {
   "cell_type": "code",
   "execution_count": 14,
   "metadata": {},
   "outputs": [
    {
     "name": "stdout",
     "output_type": "stream",
     "text": [
      "25\n"
     ]
    }
   ],
   "source": [
    "# Your code here \n",
    "def sq(n):\n",
    "  print(n*n); \n",
    "\n",
    "sq(5);"
   ]
  },
  {
   "cell_type": "markdown",
   "metadata": {},
   "source": [
    "**Question 15:** Write a Python program to check if a number is even or odd."
   ]
  },
  {
   "cell_type": "code",
   "execution_count": 16,
   "metadata": {},
   "outputs": [
    {
     "name": "stdout",
     "output_type": "stream",
     "text": [
      "even!\n"
     ]
    }
   ],
   "source": [
    "# Your code here\n",
    "num = 6; \n",
    "if(num % 2 == 0): \n",
    "  print('even!'); \n",
    "else: print('odd!'); "
   ]
  },
  {
   "cell_type": "markdown",
   "metadata": {},
   "source": [
    "**Question 16:** Write a Python program to find the sum of the first n natural numbers."
   ]
  },
  {
   "cell_type": "code",
   "execution_count": 17,
   "metadata": {},
   "outputs": [
    {
     "name": "stdout",
     "output_type": "stream",
     "text": [
      "15\n",
      "210\n"
     ]
    }
   ],
   "source": [
    "def sum_numbers(n):\n",
    "    total = 0  # Initialize sum to 0\n",
    "    for i in range(n + 1):  # Loop from 0 to n\n",
    "        total += i  # Add each number to total\n",
    "    return total\n",
    "\n",
    "# Example usage\n",
    "print(sum_numbers(5))  # Output: 15 (0+1+2+3+4+5)\n",
    "\n",
    "\n",
    "def sum(n) : \n",
    "  summing = 0; \n",
    "  for i in range (n +1):\n",
    "     summing += i; \n",
    "  return summing; \n",
    "\n",
    "print(sum(20))"
   ]
  },
  {
   "cell_type": "markdown",
   "metadata": {},
   "source": [
    "**Question 17:** Write a Python program to check if a year is a leap year."
   ]
  },
  {
   "cell_type": "code",
   "execution_count": 22,
   "metadata": {},
   "outputs": [
    {
     "name": "stdout",
     "output_type": "stream",
     "text": [
      "2025 not a leap year~\n"
     ]
    }
   ],
   "source": [
    "# Your code here\n",
    "yrs = 2025; \n",
    "if(yrs % 4 == 0 and yrs % 100 != 0) or (yrs % 400 == 0) : \n",
    "  print(f\"{yrs} is a leap years\"); \n",
    "else : print(f'{yrs} not a leap year~')"
   ]
  },
  {
   "cell_type": "markdown",
   "metadata": {},
   "source": [
    "**Question 18:** Write a Python program to reverse a string."
   ]
  },
  {
   "cell_type": "code",
   "execution_count": 19,
   "metadata": {},
   "outputs": [
    {
     "name": "stdout",
     "output_type": "stream",
     "text": [
      "ramuk\n"
     ]
    }
   ],
   "source": [
    "# Your code here\n",
    "sting = 'kumar'; \n",
    "revs = sting[::-1]; \n",
    "print(revs)"
   ]
  },
  {
   "cell_type": "markdown",
   "metadata": {},
   "source": [
    "**Question 19:** Write a Python program to check if a string is a palindrome."
   ]
  },
  {
   "cell_type": "code",
   "execution_count": 18,
   "metadata": {},
   "outputs": [
    {
     "name": "stdout",
     "output_type": "stream",
     "text": [
      "yaush is not a palindrome\n"
     ]
    }
   ],
   "source": [
    "# Your code here\n",
    "string = input('enter a string : '); \n",
    "if(string == string[::-1]): \n",
    "  print(f\"{string} is a palindrome \") \n",
    "else : \n",
    "  print(f'{string} is not a palindrome')\n"
   ]
  },
  {
   "cell_type": "markdown",
   "metadata": {},
   "source": [
    "**Question 20:** Write a Python program to sort a list of numbers in ascending order."
   ]
  },
  {
   "cell_type": "code",
   "execution_count": 21,
   "metadata": {},
   "outputs": [
    {
     "name": "stdout",
     "output_type": "stream",
     "text": [
      "sorted list : [22, 34, 342, 4323, 12123]\n"
     ]
    }
   ],
   "source": [
    "# Your code here\n",
    "\n",
    "numbers = [12123,22,34,342,4323]\n",
    "# [int(x) for x in input('enter number seperated by space : ').split()]\n",
    "numbers.sort(); \n",
    "print(f\"sorted list : {numbers}\")"
   ]
  },
  {
   "cell_type": "code",
   "execution_count": null,
   "metadata": {},
   "outputs": [],
   "source": []
  }
 ],
 "metadata": {
  "kernelspec": {
   "display_name": "Python 3",
   "language": "python",
   "name": "python3"
  },
  "language_info": {
   "codemirror_mode": {
    "name": "ipython",
    "version": 3
   },
   "file_extension": ".py",
   "mimetype": "text/x-python",
   "name": "python",
   "nbconvert_exporter": "python",
   "pygments_lexer": "ipython3",
   "version": "3.12.0"
  }
 },
 "nbformat": 4,
 "nbformat_minor": 4
}
