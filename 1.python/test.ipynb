{
 "cells": [
  {
   "cell_type": "code",
   "execution_count": 1,
   "id": "5378987d",
   "metadata": {},
   "outputs": [
    {
     "name": "stdout",
     "output_type": "stream",
     "text": [
      "Hello Ayush!\n"
     ]
    }
   ],
   "source": [
    "print(\"Hello Ayush!\")"
   ]
  },
  {
   "cell_type": "code",
   "execution_count": null,
   "id": "27c27165",
   "metadata": {},
   "outputs": [
    {
     "name": "stdout",
     "output_type": "stream",
     "text": [
      "ayush\n",
      "kumar\n"
     ]
    }
   ],
   "source": [
    "## Basic Syntax Rules in python\n",
    "## Case Sensitivity  \n",
    "## multi line comment - ''' ''' [ triple courts] \n",
    "\n",
    "name = \"ayush\" ; Name = \"kumar\" \n",
    "print(name) ; print (Name)\n",
    "\n",
    "## both names have a different refernece in storage, both have different identifier "
   ]
  },
  {
   "cell_type": "code",
   "execution_count": null,
   "id": "b753c7b6",
   "metadata": {},
   "outputs": [
    {
     "name": "stdout",
     "output_type": "stream",
     "text": [
      "bigger then 30 \n"
     ]
    }
   ],
   "source": [
    "## Indentation\n",
    "## Python uses Indentation to define blocks of code. consistent use of spaces \n",
    "\n",
    "age = 34 \n",
    "if age >= 30 :\n",
    "  print('bigger then 30 '); \n",
    "else : print('shorter then 30')"
   ]
  },
  {
   "cell_type": "markdown",
   "id": "03bb406c",
   "metadata": {},
   "source": [
    "# Indentation\n",
    "Indentation in python is used to define the structure and hierarchy of code, Unlike many other programming languages that use braces {} to create block of code, python use identation like tab or space -- means all the statements within a block must be indented at the same level \n"
   ]
  },
  {
   "cell_type": "code",
   "execution_count": null,
   "id": "e28ee87f",
   "metadata": {},
   "outputs": [
    {
     "name": "stdout",
     "output_type": "stream",
     "text": [
      "30\n"
     ]
    }
   ],
   "source": [
    "## line Continuation  - if line is getting bigger then use \\ to  contintiue same follow in next line\n",
    "total = 1+2+3+4+5 + \\\n",
    "4+5+6 \n",
    "print (total)\n"
   ]
  },
  {
   "cell_type": "code",
   "execution_count": 10,
   "id": "b37e983a",
   "metadata": {},
   "outputs": [
    {
     "name": "stdout",
     "output_type": "stream",
     "text": [
      "<class 'int'>\n"
     ]
    }
   ],
   "source": [
    "## multiple statement on a single line  - use ; this to end current statement \n",
    "x =5 ; y = 10 ; z= 15; \n",
    "\n",
    "## understand semnatics in python \n",
    "# variable assigment \n",
    "age = 23 ## age is an integer \n",
    "print(type(age))\n"
   ]
  },
  {
   "cell_type": "code",
   "execution_count": null,
   "id": "e571c8db",
   "metadata": {},
   "outputs": [
    {
     "name": "stdout",
     "output_type": "stream",
     "text": [
      "<class 'int'>\n",
      "<class 'str'>\n"
     ]
    }
   ],
   "source": [
    "## type Interence \n",
    "var = 10\n",
    "print(type(var))\n",
    "\n",
    "var = 'ayush' \n",
    "print(type(var))\n",
    "\n",
    "## doing run time we can change types \n"
   ]
  },
  {
   "cell_type": "markdown",
   "id": "9f5001a7",
   "metadata": {},
   "source": [
    "# Variables \n",
    "\n",
    "It is used to store data that can be refereneced and manipulated in a program.It is created when you assign a value to them. \n"
   ]
  },
  {
   "cell_type": "code",
   "execution_count": null,
   "id": "91bfe66d",
   "metadata": {},
   "outputs": [
    {
     "name": "stdout",
     "output_type": "stream",
     "text": [
      "name Ayush age 24 student True height 6.2\n"
     ]
    }
   ],
   "source": [
    "## Declaring and Assigning Variables \n",
    "\n",
    "age = 24\n",
    "hei = 6.2\n",
    "name = \"Ayush\"\n",
    "is_Student = True\n",
    "\n",
    "## Printing the variables \n",
    "\n",
    "print(f\"name\" ,name , \"age\" , age , \"student\" , is_Student,\"height\", hei)\n"
   ]
  },
  {
   "cell_type": "markdown",
   "id": "ca7dad52",
   "metadata": {},
   "source": [
    "### Naming Conventions \n",
    "- Variable names should be description \n",
    "- They Must start with a letter or an '_' and can contains , letter, numbers, underscoes \n",
    "- Variables names are case sensitive \n",
    "- variables names which be logical "
   ]
  },
  {
   "cell_type": "code",
   "execution_count": 10,
   "id": "c2782ce2",
   "metadata": {},
   "outputs": [
    {
     "name": "stdout",
     "output_type": "stream",
     "text": [
      "10 <class 'int'>\n"
     ]
    }
   ],
   "source": [
    "## python is dynamically typed language - that means types determined at run time\n",
    "\n",
    "## Dyanmic typing \n",
    "var = 10; \n",
    "print(var, type(var)); \n",
    "\n",
    "## python allows the type of variable to change as the program executes - type change karr sakte ho 1 bar assign karne k bad bhi \n"
   ]
  },
  {
   "cell_type": "code",
   "execution_count": 12,
   "id": "0da8e947",
   "metadata": {},
   "outputs": [
    {
     "name": "stdout",
     "output_type": "stream",
     "text": [
      "22 <class 'str'>\n",
      "22 <class 'str'>\n"
     ]
    }
   ],
   "source": [
    "## input - taking value from user \n",
    "\n",
    "age = input('what is your age?') \n",
    "print(age , type(age)); \n",
    "int(age)\n",
    "print(age , type(age)); "
   ]
  },
  {
   "cell_type": "markdown",
   "id": "5e98da3b",
   "metadata": {},
   "source": [
    "## Data Types \n",
    "### 1. Defintion : \n",
    "- Data types are a classification of data which tell the compiler or  interpreter how the programmer intends to use the data. \n",
    "-  it Determine the type of operations that can be performed on the data, the values that data can take and the amount of memory needed to store the data. \n",
    "\n",
    "### 2. Importance of Data types in Programming \n",
    "- data types ensure that data is stored in an efficient way. \n",
    "- they help in performing correct operations on data. \n",
    "- Proper Use of data types can prevent errors and bugs in the program. \n",
    "\n",
    "## types of Data types -  \n",
    "### Basic types  \n",
    "- Intergers -  45 , 324,32,465,1,32\n",
    "- Floating-point Numbers  - 2.23, 34.32, 0.232\n",
    "- strings - \"ayush\" , \"kumar\"\n",
    "- Booleans - True , False\n",
    "\n",
    "### Advanced Data Types \n",
    "- Lists []\n",
    "- Tuples \n",
    "- Sets \n",
    "- Dictionaries \n",
    "\n",
    "\n"
   ]
  },
  {
   "cell_type": "code",
   "execution_count": 3,
   "id": "e714eae7",
   "metadata": {},
   "outputs": [
    {
     "name": "stdout",
     "output_type": "stream",
     "text": [
      "5 <class 'int'>\n",
      "ayush <class 'str'>\n",
      "5.3 <class 'float'>\n",
      "True <class 'bool'>\n"
     ]
    }
   ],
   "source": [
    "age = 5; \n",
    "name = \"ayush\"\n",
    "height = 5.3\n",
    "is_True = True\n",
    "a = 10\n",
    "b = 10 \n",
    "\n",
    "type(a==b)\n",
    "print(age, type(age)); \n",
    "print(name, type(name)); \n",
    "print(height, type(height)); \n",
    "print(is_True, type(is_True)); \n",
    "\n"
   ]
  },
  {
   "cell_type": "markdown",
   "id": "71a618d3",
   "metadata": {},
   "source": [
    "# Operators \n",
    "\n",
    "## Arithmetic Operators \n",
    "- Addition : a+b - add\n",
    "- Subtraction : a-b - subtract\n",
    "- Multiplication : a*b - multiple \n",
    "- Division : a/b - answer of division\n",
    "- Floor Division : a//b  :- if we did not want the result of division in decimal we use this..\n",
    "- Modulus : a%b - give remainder \n",
    "- Exponentiation : a**b :- it means power of a is b \n",
    "\n",
    "## Comparison Operators \n",
    "- Equal to : == \n",
    "- Not Equal to : !=\n",
    "- Greater Than : >\n",
    "- Less Than : <\n",
    "- Greater Than or equal to : >=\n",
    "- Less Than or equal to : <= \n",
    "\n",
    "## Logical Operators \n",
    "- AND : AND (&&)\n",
    "- OR : OR (||)\n",
    "- NOT : NOT (!)\n",
    "\n"
   ]
  },
  {
   "cell_type": "code",
   "execution_count": 4,
   "id": "4045dc79",
   "metadata": {},
   "outputs": [
    {
     "name": "stdout",
     "output_type": "stream",
     "text": [
      "Addition: 90.0\n",
      "Subtraction: 44.0\n",
      "Multiplication: 1541.0\n",
      "Division: 2.9130434782608696\n",
      "Floor Division: 2.0\n",
      "Modulus: 21.0\n",
      "Exponentiation: 9.993565473468052e+41\n"
     ]
    }
   ],
   "source": [
    "## Simple Calculator\n",
    "\n",
    "# Simple calculator\n",
    "num1 = float(input(\"Enter first number: \"))\n",
    "num2 = float(input(\"Enter second number: \"))\n",
    "\n",
    "# Performing arithmetic operations\n",
    "addition = num1 + num2\n",
    "subtraction = num1 - num2\n",
    "multiplication = num1 * num2\n",
    "division = num1 / num2\n",
    "floor_division = num1 // num2\n",
    "modulus = num1 % num2\n",
    "exponentiation = num1 ** num2\n",
    "\n",
    "# Displaying results\n",
    "print(\"Addition:\", addition)\n",
    "print(\"Subtraction:\", subtraction)\n",
    "print(\"Multiplication:\", multiplication)\n",
    "print(\"Division:\", division)\n",
    "print(\"Floor Division:\", floor_division)\n",
    "print(\"Modulus:\", modulus)\n",
    "print(\"Exponentiation:\", exponentiation)"
   ]
  }
 ],
 "metadata": {
  "kernelspec": {
   "display_name": "Python 3",
   "language": "python",
   "name": "python3"
  },
  "language_info": {
   "codemirror_mode": {
    "name": "ipython",
    "version": 3
   },
   "file_extension": ".py",
   "mimetype": "text/x-python",
   "name": "python",
   "nbconvert_exporter": "python",
   "pygments_lexer": "ipython3",
   "version": "3.12.0"
  }
 },
 "nbformat": 4,
 "nbformat_minor": 5
}
