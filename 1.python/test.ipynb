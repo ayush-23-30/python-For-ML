{
 "cells": [
  {
   "cell_type": "code",
   "execution_count": 1,
   "id": "5378987d",
   "metadata": {},
   "outputs": [
    {
     "name": "stdout",
     "output_type": "stream",
     "text": [
      "Hello Ayush!\n"
     ]
    }
   ],
   "source": [
    "print(\"Hello Ayush!\")"
   ]
  },
  {
   "cell_type": "code",
   "execution_count": null,
   "id": "27c27165",
   "metadata": {},
   "outputs": [
    {
     "name": "stdout",
     "output_type": "stream",
     "text": [
      "ayush\n",
      "kumar\n"
     ]
    }
   ],
   "source": [
    "## Basic Syntax Rules in python\n",
    "## Case Sensitivity  \n",
    "## multi line comment - ''' ''' [ triple courts] \n",
    "\n",
    "name = \"ayush\" ; Name = \"kumar\" \n",
    "print(name) ; print (Name)\n",
    "\n",
    "## both names have a different refernece in storage, both have different identifier "
   ]
  },
  {
   "cell_type": "code",
   "execution_count": null,
   "id": "b753c7b6",
   "metadata": {},
   "outputs": [
    {
     "name": "stdout",
     "output_type": "stream",
     "text": [
      "bigger then 30 \n"
     ]
    }
   ],
   "source": [
    "## Indentation\n",
    "## Python uses Indentation to define blocks of code. consistent use of spaces \n",
    "\n",
    "age = 34 \n",
    "if age >= 30 :\n",
    "  print('bigger then 30 '); \n",
    "else : print('shorter then 30')"
   ]
  },
  {
   "cell_type": "markdown",
   "id": "03bb406c",
   "metadata": {},
   "source": [
    "# Indentation\n",
    "Indentation in python is used to define the structure and hierarchy of code, Unlike many other programming languages that use braces {} to create block of code, python use identation like tab or space -- means all the statements within a block must be indented at the same level \n"
   ]
  },
  {
   "cell_type": "code",
   "execution_count": null,
   "id": "e28ee87f",
   "metadata": {},
   "outputs": [
    {
     "name": "stdout",
     "output_type": "stream",
     "text": [
      "30\n"
     ]
    }
   ],
   "source": [
    "## line Continuation  - if line is getting bigger then use \\ to  contintiue same follow in next line\n",
    "total = 1+2+3+4+5 + \\\n",
    "4+5+6 \n",
    "print (total)\n"
   ]
  },
  {
   "cell_type": "code",
   "execution_count": 10,
   "id": "b37e983a",
   "metadata": {},
   "outputs": [
    {
     "name": "stdout",
     "output_type": "stream",
     "text": [
      "<class 'int'>\n"
     ]
    }
   ],
   "source": [
    "## multiple statement on a single line  - use ; this to end current statement \n",
    "x =5 ; y = 10 ; z= 15; \n",
    "\n",
    "## understand semnatics in python \n",
    "# variable assigment \n",
    "age = 23 ## age is an integer \n",
    "print(type(age))\n"
   ]
  },
  {
   "cell_type": "code",
   "execution_count": null,
   "id": "e571c8db",
   "metadata": {},
   "outputs": [
    {
     "name": "stdout",
     "output_type": "stream",
     "text": [
      "<class 'int'>\n",
      "<class 'str'>\n"
     ]
    }
   ],
   "source": [
    "## type Interence \n",
    "var = 10\n",
    "print(type(var))\n",
    "\n",
    "var = 'ayush' \n",
    "print(type(var))\n",
    "\n",
    "## doing run time we can change types \n"
   ]
  },
  {
   "cell_type": "code",
   "execution_count": null,
   "id": "d7bc6a5a",
   "metadata": {},
   "outputs": [],
   "source": []
  }
 ],
 "metadata": {
  "kernelspec": {
   "display_name": "Python 3",
   "language": "python",
   "name": "python3"
  },
  "language_info": {
   "codemirror_mode": {
    "name": "ipython",
    "version": 3
   },
   "file_extension": ".py",
   "mimetype": "text/x-python",
   "name": "python",
   "nbconvert_exporter": "python",
   "pygments_lexer": "ipython3",
   "version": "3.12.0"
  }
 },
 "nbformat": 4,
 "nbformat_minor": 5
}
