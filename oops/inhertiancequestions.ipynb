{
 "cells": [
  {
   "cell_type": "markdown",
   "metadata": {},
   "source": [
    "# Module: Inheritance Assignments\n",
    "## Lesson: Single and Multiple Inheritance\n",
    "### Assignment 1: Single Inheritance Basic\n",
    "\n",
    "Create a base class named `Animal` with attributes `name` and `species`. Create a derived class named `Dog` that inherits from `Animal` and adds an attribute `breed`. Create an object of the `Dog` class and print its attributes.\n",
    "\n",
    "### Assignment 2: Method Overriding in Single Inheritance\n",
    "\n",
    "In the `Dog` class, override the `__str__` method to return a string representation of the object. Create an object of the class and print it.\n",
    "\n",
    "### Assignment 3: Single Inheritance with Additional Methods\n",
    "\n",
    "In the `Dog` class, add a method named `bark` that prints a barking sound. Create an object of the class and call the method.\n",
    "\n",
    "### Assignment 4: Multiple Inheritance Basic\n",
    "\n",
    "Create a base class named `Walker` with a method `walk` that prints a walking message. Create another base class named `Runner` with a method `run` that prints a running message. Create a derived class named `Athlete` that inherits from both `Walker` and `Runner`. Create an object of the `Athlete` class and call both methods.\n",
    "\n",
    "### Assignment 5: Method Resolution Order (MRO) in Multiple Inheritance\n",
    "\n",
    "In the `Athlete` class, override the `walk` method to print a different message. Create an object of the class and call the `walk` method. Use the `super()` function to call the `walk` method of the `Walker` class.\n",
    "\n",
    "### Assignment 6: Multiple Inheritance with Additional Attributes\n",
    "\n",
    "In the `Athlete` class, add an attribute `training_hours` and a method `train` that prints the training hours. Create an object of the class and call the method.\n",
    "\n",
    "### Assignment 7: Diamond Problem in Multiple Inheritance\n",
    "\n",
    "Create a class named `A` with a method `show` that prints a message. Create two derived classes `B` and `C` that inherit from `A` and override the `show` method. Create a class `D` that inherits from both `B` and `C`. Create an object of the `D` class and call the `show` method. Observe the method resolution order.\n",
    "\n",
    "### Assignment 8: Using `super()` in Single Inheritance\n",
    "\n",
    "Create a base class named `Shape` with an attribute `color`. Create a derived class named `Circle` that inherits from `Shape` and adds an attribute `radius`. Use the `super()` function to initialize the attributes. Create an object of the `Circle` class and print its attributes.\n",
    "\n",
    "### Assignment 9: Using `super()` in Multiple Inheritance\n",
    "\n",
    "Create a class named `Person` with an attribute `name`. Create a class named `Employee` with an attribute `employee_id`. Create a derived class `Manager` that inherits from both `Person` and `Employee`. Use the `super()` function to initialize the attributes. Create an object of the `Manager` class and print its attributes.\n",
    "\n",
    "### Assignment 10: Method Overriding and `super()`\n",
    "\n",
    "Create a class named `Vehicle` with a method `start` that prints a starting message. Create a derived class `Car` that overrides the `start` method to print a different message. Use the `super()` function to call the `start` method of the `Vehicle` class. Create an object of the `Car` class and call the `start` method.\n",
    "\n",
    "### Assignment 11: Multiple Inheritance with Different Methods\n",
    "\n",
    "Create a class named `Flyer` with a method `fly` that prints a flying message. Create a class named `Swimmer` with a method `swim` that prints a swimming message. Create a derived class `Superhero` that inherits from both `Flyer` and `Swimmer`. Create an object of the `Superhero` class and call both methods.\n",
    "\n",
    "### Assignment 12: Complex Multiple Inheritance\n",
    "\n",
    "Create a class named `Base1` with an attribute `a`. Create a class named `Base2` with an attribute `b`. Create a class named `Derived` that inherits from both `Base1` and `Base2` and adds an attribute `c`. Initialize all attributes using the `super()` function. Create an object of the `Derived` class and print its attributes.\n",
    "\n",
    "### Assignment 13: Checking Instance Types with Inheritance\n",
    "\n",
    "Create a base class named `Animal` and a derived class named `Cat`. Create objects of both classes and use the `isinstance` function to check the instance types.\n",
    "\n",
    "### Assignment 14: Polymorphism with Inheritance\n",
    "\n",
    "Create a base class named `Bird` with a method `speak`. Create two derived classes `Parrot` and `Penguin` that override the `speak` method. Create a list of `Bird` objects and call the `speak` method on each object to demonstrate polymorphism.\n",
    "\n",
    "### Assignment 15: Combining Single and Multiple Inheritance\n",
    "\n",
    "Create a base class named `Device` with an attribute `brand`. Create a derived class `Phone` that inherits from `Device` and adds an attribute `model`. Create another base class `Camera` with an attribute `resolution`. Create a derived class `Smartphone` that inherits from both `Phone` and `Camera`. Create an object of the `Smartphone` class and print its attributes."
   ]
  },
  {
   "cell_type": "code",
   "execution_count": 4,
   "metadata": {},
   "outputs": [
    {
     "name": "stdout",
     "output_type": "stream",
     "text": [
      "Dog name : Buddy, species : Canine, Breed : Golden Retriever\n"
     ]
    }
   ],
   "source": [
    "\n",
    "class Animal:\n",
    "  def __init__(self,name,species):\n",
    "    self.name = name;\n",
    "    self.species = species\n",
    "\n",
    "class Dog (Animal):\n",
    "  def __init__(self, name, species, breed):\n",
    "    super().__init__(name, species) \n",
    "    self.breed = breed\n",
    "  def __str__(self):\n",
    "    return f'Dog name : {self.name}, species : {self.species}, Breed : {self.breed}'\n",
    "\n",
    "#test \n",
    "\n",
    "dog = Dog('Buddy', 'Canine', 'Golden Retriever')\n",
    "print(dog)\n"
   ]
  },
  {
   "cell_type": "code",
   "execution_count": 6,
   "id": "a7fee7d8",
   "metadata": {},
   "outputs": [
    {
     "name": "stdout",
     "output_type": "stream",
     "text": [
      "Woof Woof!!\n"
     ]
    }
   ],
   "source": [
    "class Dog (Animal):\n",
    "  def __init__(self, name, species, breed):\n",
    "    super().__init__(name, species) \n",
    "    self.breed = breed\n",
    "  def __str__(self):\n",
    "    return f'Dog name : {self.name}, species : {self.species}, Breed : {self.breed}'\n",
    "  def bark (self):\n",
    "    print('Woof Woof!!'); \n",
    "\n",
    "dog = Dog('Buddy', 'Canine', 'Golden Retriever')\n",
    "dog.bark()"
   ]
  },
  {
   "cell_type": "code",
   "execution_count": 15,
   "id": "8ef8499f",
   "metadata": {},
   "outputs": [
    {
     "name": "stdout",
     "output_type": "stream",
     "text": [
      "new walk\n",
      "i am walking \n"
     ]
    }
   ],
   "source": [
    "class Walker : \n",
    "  def walk (self):\n",
    "    print('i am walking ');\n",
    "\n",
    "class Runner:\n",
    "  def run(self):\n",
    "    print('I am Running!!');\n",
    "\n",
    "# class Athlete (Walker,Runner):\n",
    "#   # def __init__(self,walk,run):\n",
    "#     # super().__init__(walk,run)\n",
    "#     pass\n",
    "\n",
    "\n",
    "class Athlete(Walker,Runner):\n",
    "  def walk(self):\n",
    "    print('new walk')\n",
    "    super().walk()\n",
    "\n",
    "ath = Athlete()\n",
    "ath.walk()\n",
    "\n",
    "# alth = Athlete(); \n",
    "# alth.run()\n",
    "# alth.walk()\n"
   ]
  },
  {
   "cell_type": "code",
   "execution_count": 16,
   "id": "09a6cfbb",
   "metadata": {},
   "outputs": [
    {
     "name": "stdout",
     "output_type": "stream",
     "text": [
      "Training for 5 hours\n"
     ]
    }
   ],
   "source": [
    "class Walker : \n",
    "  def walk (self):\n",
    "    print('i am walking ');\n",
    "\n",
    "class Runner:\n",
    "  def run(self):\n",
    "    print('I am Running!!');\n",
    "\n",
    "class Ath(Walker,Runner):\n",
    "  def __init__(self,training):\n",
    "    self.training = training\n",
    "  def train(self):\n",
    "    print(f'Training for {self.training} hours'); \n",
    "\n",
    "athleete = Ath(5); \n",
    "athleete.train()\n",
    " "
   ]
  },
  {
   "cell_type": "code",
   "execution_count": 18,
   "id": "d3f73d59",
   "metadata": {},
   "outputs": [
    {
     "name": "stdout",
     "output_type": "stream",
     "text": [
      " B's Show Method\n"
     ]
    }
   ],
   "source": [
    "class A :\n",
    "  def show (self):\n",
    "    print(\" A's show mehtod \"); \n",
    "\n",
    "class B(A) : \n",
    "  def show(self):\n",
    "    print(\" B's Show Method\"); \n",
    "\n",
    "class C(A) : \n",
    "  def show(self):\n",
    "    print(\" C's Show Method\"); \n",
    "\n",
    "class D (B,C):\n",
    "  pass\n",
    "\n",
    "d = D(); \n",
    "d.show()"
   ]
  },
  {
   "cell_type": "code",
   "execution_count": 19,
   "id": "e66c8882",
   "metadata": {},
   "outputs": [
    {
     "name": "stdout",
     "output_type": "stream",
     "text": [
      "red 2.4\n"
     ]
    }
   ],
   "source": [
    "class Shape ():\n",
    "  def __init__(self,color):\n",
    "    self.color = color\n",
    "\n",
    "class Circle (Shape):\n",
    "  def __init__(self, color,radius):\n",
    "    super().__init__(color);  ## use super keyword to take power , and init to intialize \n",
    "    self.radius = radius\n",
    "\n",
    "cir = Circle('red',2.4); \n",
    "print(cir.color, cir.radius)\n"
   ]
  },
  {
   "cell_type": "code",
   "execution_count": 21,
   "id": "bc47545a",
   "metadata": {},
   "outputs": [
    {
     "name": "stdout",
     "output_type": "stream",
     "text": [
      "John M123\n"
     ]
    }
   ],
   "source": [
    "class Person :\n",
    "  def __init__(self, name):\n",
    "    self.name = name; \n",
    "\n",
    "class Employee :\n",
    "  def __init__(self,id):\n",
    "    self.id = id;\n",
    "\n",
    "class Manger (Person, Employee):\n",
    "  def __init__(self, name, id):\n",
    "   super().__init__(name)\n",
    "   Employee.__init__(self,id)\n",
    "\n",
    "# Test\n",
    "manager = Manger('John', 'M123')\n",
    "print(manager.name, manager.id)"
   ]
  },
  {
   "cell_type": "code",
   "execution_count": 25,
   "id": "cdd67229",
   "metadata": {},
   "outputs": [
    {
     "name": "stdout",
     "output_type": "stream",
     "text": [
      "Apple iPhone 12 12 MP\n"
     ]
    }
   ],
   "source": [
    "class Device :\n",
    "  def __init__(self, brand):\n",
    "    self.brand = brand\n",
    "\n",
    "class Phone (Device):\n",
    "  def __init__(self,brand,model):\n",
    "    super().__init__(brand)\n",
    "    self.model = model\n",
    "  \n",
    "class Camera:\n",
    "  def __init__(self,resolution):\n",
    "    self.resolution = resolution\n",
    "\n",
    "class SmartPhone(Phone,Camera):\n",
    "  def __init__(self, brand,  model, resolution):\n",
    "    Phone.__init__(self, brand, model)\n",
    "    Camera.__init__(self,resolution)\n",
    "\n",
    "smartphone = SmartPhone('Apple', 'iPhone 12', '12 MP')\n",
    "print(smartphone.brand, smartphone.model, smartphone.resolution)"
   ]
  },
  {
   "cell_type": "code",
   "execution_count": 26,
   "id": "4f296af6",
   "metadata": {},
   "outputs": [
    {
     "name": "stdout",
     "output_type": "stream",
     "text": [
      "Parrot says : Squawk!\n",
      "Pengiun Says : Honk!\n"
     ]
    }
   ],
   "source": [
    "class Bird :\n",
    "  def speak (self):\n",
    "    pass\n",
    "\n",
    "class Parrot(Bird):\n",
    "  def speak(self):\n",
    "    print( f'Parrot says : Squawk!')\n",
    "  \n",
    "class Penguin(Bird):\n",
    "  def speak(self):\n",
    "    print('Pengiun Says : Honk!')\n",
    "\n",
    "birds = [Parrot(), Penguin()]\n",
    "\n",
    "for bird in birds:\n",
    "  bird.speak()"
   ]
  },
  {
   "cell_type": "code",
   "execution_count": 30,
   "id": "1113a483",
   "metadata": {},
   "outputs": [
    {
     "name": "stdout",
     "output_type": "stream",
     "text": [
      "True\n",
      "True\n",
      "False\n"
     ]
    }
   ],
   "source": [
    "class Animal :\n",
    "  pass\n",
    "\n",
    "class Cat(Animal):\n",
    "  pass\n",
    "\n",
    "animal = Animal(); \n",
    "cat = Cat(); \n",
    "print(isinstance(animal,Animal))\n",
    "print(isinstance (cat,Animal))\n",
    "\n",
    "print(isinstance (animal, Cat))"
   ]
  },
  {
   "cell_type": "code",
   "execution_count": null,
   "id": "bcaa034f",
   "metadata": {},
   "outputs": [],
   "source": []
  }
 ],
 "metadata": {
  "kernelspec": {
   "display_name": "Python 3",
   "language": "python",
   "name": "python3"
  },
  "language_info": {
   "codemirror_mode": {
    "name": "ipython",
    "version": 3
   },
   "file_extension": ".py",
   "mimetype": "text/x-python",
   "name": "python",
   "nbconvert_exporter": "python",
   "pygments_lexer": "ipython3",
   "version": "3.12.0"
  }
 },
 "nbformat": 4,
 "nbformat_minor": 5
}
