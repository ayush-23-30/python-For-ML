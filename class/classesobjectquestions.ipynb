{
 "cells": [
  {
   "cell_type": "markdown",
   "metadata": {},
   "source": [
    "# Module: Classes and Objects Assignments\n",
    "## Lesson: Creating and Working with Classes and Objects\n",
    "### Assignment 1: Basic Class and Object Creation\n",
    "\n",
    "Create a class named `Car` with attributes `make`, `model`, and `year`. Create an object of the class and print its attributes.\n",
    "\n",
    "### Assignment 2: Methods in Class\n",
    "\n",
    "Add a method named `start_engine` to the `Car` class that prints a message when the engine starts. Create an object of the class and call the method.\n",
    "\n",
    "### Assignment 3: Class with Constructor\n",
    "\n",
    "Create a class named `Student` with attributes `name` and `age`. Use a constructor to initialize these attributes. Create an object of the class and print its attributes.\n",
    "\n",
    "### Assignment 4: Class with Private Attributes\n",
    "\n",
    "Create a class named `BankAccount` with private attributes `account_number` and `balance`. Add methods to deposit and withdraw money, and to check the balance. Create an object of the class and perform some operations.\n",
    "\n",
    "### Assignment 5: Class Inheritance\n",
    "\n",
    "Create a base class named `Person` with attributes `name` and `age`. Create a derived class named `Employee` that inherits from `Person` and adds an attribute `employee_id`. Create an object of the derived class and print its attributes.\n",
    "\n",
    "### Assignment 6: Method Overriding\n",
    "\n",
    "In the `Employee` class, override the `__str__` method to return a string representation of the object. Create an object of the class and print it.\n",
    "\n",
    "### Assignment 7: Class Composition\n",
    "\n",
    "Create a class named `Address` with attributes `street`, `city`, and `zipcode`. Create a class named `Person` that has an `Address` object as an attribute. Create an object of the `Person` class and print its address.\n",
    "\n",
    "### Assignment 8: Class with Class Variables\n",
    "\n",
    "Create a class named `Counter` with a class variable `count`. Each time an object is created, increment the count. Add a method to get the current count. Create multiple objects and print the count.\n",
    "\n",
    "### Assignment 9: Static Methods\n",
    "\n",
    "Create a class named `MathOperations` with a static method to calculate the square root of a number. Call the static method without creating an object.\n",
    "\n",
    "### Assignment 10: Class with Properties\n",
    "\n",
    "Create a class named `Rectangle` with private attributes `length` and `width`. Use properties to get and set these attributes. Create an object of the class and test the properties.\n",
    "\n",
    "### Assignment 11: Abstract Base Class\n",
    "\n",
    "Create an abstract base class named `Shape` with an abstract method `area`. Create derived classes `Circle` and `Square` that implement the `area` method. Create objects of the derived classes and call the `area` method.\n",
    "\n",
    "### Assignment 12: Operator Overloading\n",
    "\n",
    "Create a class named `Vector` with attributes `x` and `y`. Overload the `+` operator to add two `Vector` objects. Create objects of the class and test the operator overloading.\n",
    "\n",
    "### Assignment 13: Class with Custom Exception\n",
    "\n",
    "Create a custom exception named `InsufficientBalanceError`. In the `BankAccount` class, raise this exception when a withdrawal amount is greater than the balance. Handle the exception and print an appropriate message.\n",
    "\n",
    "### Assignment 14: Class with Context Manager\n",
    "\n",
    "Create a class named `FileManager` that implements the context manager protocol to open and close a file. Use this class to read the contents of a file.\n",
    "\n",
    "### Assignment 15: Chaining Methods\n",
    "\n",
    "Create a class named `Calculator` with methods to add, subtract, multiply, and divide. Each method should return the object itself to allow method chaining. Create an object and chain multiple method calls."
   ]
  },
  {
   "cell_type": "code",
   "execution_count": 4,
   "metadata": {},
   "outputs": [
    {
     "name": "stdout",
     "output_type": "stream",
     "text": [
      "tata\n",
      "The engine has started\n"
     ]
    }
   ],
   "source": [
    "class Car :\n",
    "  def __init__(self,maker, model,year):\n",
    "    self.maker = maker\n",
    "    self.model = model\n",
    "    self.year = year\n",
    "\n",
    "  def start_engine(self):\n",
    "    print('The engine has started')\n",
    "\n",
    "\n",
    "car1 = Car('tata','Nexon','2020');\n",
    "print(car1.maker); \n",
    "car1.start_engine()\n"
   ]
  },
  {
   "cell_type": "code",
   "execution_count": 5,
   "id": "0000b4fd",
   "metadata": {},
   "outputs": [
    {
     "name": "stdout",
     "output_type": "stream",
     "text": [
      "ayush 12\n"
     ]
    }
   ],
   "source": [
    "class student :\n",
    "  ## when we use __init__ self , this will become a construct\n",
    "  def __init__(self,name, age):\n",
    "    self.name = name;\n",
    "    self.age = age;\n",
    "\n",
    "std1 = student('ayush', 12); \n",
    "print(std1.name, std1.age); "
   ]
  },
  {
   "cell_type": "code",
   "execution_count": 9,
   "id": "632e84df",
   "metadata": {},
   "outputs": [
    {
     "name": "stdout",
     "output_type": "stream",
     "text": [
      "1300\n",
      "Insufficient balance!\n"
     ]
    }
   ],
   "source": [
    "# class BankAccount :\n",
    "#   def __init__(self,account_number,balance = 0):\n",
    "#     self.__account_number = account_number; \n",
    "#     self.___balance = balance; \n",
    "#   def deposit(self, amount):\n",
    "#     self.balance += amount;  # adding balance into amount \n",
    "#   def withdraw (self,amount):\n",
    "#     if(amount > self.___balance):\n",
    "#       print('Insufficient balance!'); \n",
    "#     else :\n",
    "#       self.__balance -= amount\n",
    "#   def checkBalance (self):\n",
    "#     return self.__balance; \n",
    "\n",
    "# account = BankAccount('123456', 1000); \n",
    "# account.deposit(500); \n",
    "# account.withdraw(200);\n",
    "# print(account.checkBalance())\n",
    "# account.withdraw(2000)\n",
    "\n",
    "class BankAccount:\n",
    "    def __init__(self, account_number, balance=0):\n",
    "        self.__account_number = account_number\n",
    "        self.__balance = balance\n",
    "\n",
    "    def deposit(self, amount):\n",
    "        self.__balance += amount\n",
    "\n",
    "    def withdraw(self, amount):\n",
    "        if amount > self.__balance:\n",
    "            print(\"Insufficient balance!\")\n",
    "        else:\n",
    "            self.__balance -= amount\n",
    "\n",
    "    def check_balance(self):\n",
    "        return self.__balance\n",
    "\n",
    "# Test\n",
    "account = BankAccount('12345678', 1000)\n",
    "account.deposit(500)\n",
    "account.withdraw(200)\n",
    "print(account.check_balance())  # 1300\n",
    "account.withdraw(2000)  # Insufficient balance!"
   ]
  },
  {
   "cell_type": "code",
   "execution_count": 10,
   "id": "2e09cf66",
   "metadata": {},
   "outputs": [
    {
     "name": "stdout",
     "output_type": "stream",
     "text": [
      "shikha 37 2123A\n"
     ]
    }
   ],
   "source": [
    "class person : \n",
    "  def __init__(self,name,age):\n",
    "    self.name = name; \n",
    "    self.age = age; \n",
    "\n",
    "class Employee(person): # inheritance\n",
    "  def __init__(self, name, age,id):\n",
    "    super().__init__(name, age)\n",
    "    self.id = id; \n",
    "\n",
    "employee = Employee('shikha', 37, '2123A'); \n",
    "print(employee.name,employee.age, employee.id); \n",
    "    "
   ]
  },
  {
   "cell_type": "code",
   "execution_count": 11,
   "id": "c612471f",
   "metadata": {},
   "outputs": [
    {
     "name": "stdout",
     "output_type": "stream",
     "text": [
      "Employee(Name : Alice, age : 30), employee id E123\n"
     ]
    }
   ],
   "source": [
    "## method over riding \n",
    "class Employee(person):\n",
    "  def __init__ (self,name,age, id):\n",
    "    super().__init__(name,age); \n",
    "    self.id = id; \n",
    "  def __str__(self):\n",
    "   return f\"Employee(Name : {self.name}, age : {self.age}), employee id {self.id}\"\n",
    "  \n",
    "employee = Employee('Alice', 30, 'E123')\n",
    "print(employee)"
   ]
  },
  {
   "cell_type": "code",
   "execution_count": null,
   "id": "df7cabf7",
   "metadata": {},
   "outputs": [
    {
     "name": "stdout",
     "output_type": "stream",
     "text": [
      "sk-3 ip 201010\n"
     ]
    }
   ],
   "source": [
    "class Address :\n",
    "  def __init__(self,street,city,zipcode):\n",
    "    self.street = street; \n",
    "    self.city = city;\n",
    "    self.zipcode = zipcode;\n",
    "\n",
    "class Person:\n",
    "  def __init__(self,name , age , address):\n",
    "    self.name = name;\n",
    "    self.age = age\n",
    "    self.address = address\n",
    "\n",
    "\n",
    "address = Address('sk-3', 'ip', 201010);\n",
    "person1 = Person('ayush',23,address);\n",
    "\n",
    "print(person1.address.street, person1.address.city, person1.address.zipcode)\n",
    "\n"
   ]
  },
  {
   "cell_type": "code",
   "execution_count": 9,
   "id": "758d65ae",
   "metadata": {},
   "outputs": [
    {
     "name": "stdout",
     "output_type": "stream",
     "text": [
      "3\n"
     ]
    }
   ],
   "source": [
    "class counter:\n",
    "  count = 0\n",
    "\n",
    "  def __init__(self):\n",
    "    counter.count += 1\n",
    "  \n",
    "  @classmethod \n",
    "  def get_count(cls):\n",
    "    return cls.count;\n",
    "\n",
    "c1 = counter()\n",
    "c2 = counter()\n",
    "c3 = counter()\n",
    "\n",
    "print(counter.get_count())"
   ]
  },
  {
   "cell_type": "code",
   "execution_count": 11,
   "id": "ce2db8a0",
   "metadata": {},
   "outputs": [
    {
     "name": "stdout",
     "output_type": "stream",
     "text": [
      "4.0\n"
     ]
    }
   ],
   "source": [
    "import math\n",
    "\n",
    "class mathOperations :\n",
    "  @staticmethod\n",
    "  def sqrt(x):\n",
    "    return math.sqrt(x); \n",
    "\n",
    "\n",
    "print(mathOperations.sqrt(16)); "
   ]
  },
  {
   "cell_type": "code",
   "execution_count": 12,
   "id": "0b98adad",
   "metadata": {},
   "outputs": [
    {
     "name": "stdout",
     "output_type": "stream",
     "text": [
      "10 5\n",
      "15 7\n"
     ]
    }
   ],
   "source": [
    "class Rectangle:\n",
    "    def __init__(self, length, width):\n",
    "        self.__length = length\n",
    "        self.__width = width\n",
    "\n",
    "    @property\n",
    "    def length(self):\n",
    "        return self.__length\n",
    "\n",
    "    @length.setter\n",
    "    def length(self, length):\n",
    "        self.__length = length\n",
    "\n",
    "    @property\n",
    "    def width(self):\n",
    "        return self.__width\n",
    "\n",
    "    @width.setter\n",
    "    def width(self, width):\n",
    "        self.__width = width\n",
    "\n",
    "rect = Rectangle(10, 5)\n",
    "print(rect.length, rect.width)  # 10 5\n",
    "rect.length = 15\n",
    "rect.width = 7\n",
    "print(rect.length, rect.width)  # 15 7"
   ]
  },
  {
   "cell_type": "code",
   "execution_count": 13,
   "id": "20257242",
   "metadata": {},
   "outputs": [
    {
     "name": "stdout",
     "output_type": "stream",
     "text": [
      "78.53981633974483\n",
      "16\n"
     ]
    }
   ],
   "source": [
    "from abc import ABC, abstractmethod\n",
    "\n",
    "class Shape(ABC):\n",
    "  @abstractmethod\n",
    "  def area(self):\n",
    "    pass\n",
    "\n",
    "class Circle (Shape):\n",
    "  def __init__(self,radius):\n",
    "    self.radius = radius;\n",
    "\n",
    "  def area(self):\n",
    "    return math.pi * self.radius ** 2\n",
    "  \n",
    "class Square(Shape):\n",
    "  def __init__(self,side):\n",
    "    self.side = side\n",
    "\n",
    "  def area(self):\n",
    "    return self.side ** 2\n",
    "  \n",
    "circle = Circle(5)\n",
    "square = Square(4)\n",
    "print(circle.area())  # 78.53981633974483\n",
    "print(square.area())  # 16\n"
   ]
  },
  {
   "cell_type": "code",
   "execution_count": 14,
   "id": "41270c50",
   "metadata": {},
   "outputs": [
    {
     "name": "stdout",
     "output_type": "stream",
     "text": [
      "Vector (6, 8)\n"
     ]
    }
   ],
   "source": [
    "class Vector :\n",
    "  def __init__(self,x,y):\n",
    "    self.x = x\n",
    "    self.y = y\n",
    "\n",
    "  def __add__ (self, other):\n",
    "    return Vector(self.x + other.x, self.y + other.y); \n",
    "\n",
    "  def __str__(self):\n",
    "    return f\"Vector ({self.x}, {self.y})\"\n",
    "  \n",
    "v1 = Vector(2, 3)\n",
    "v2 = Vector(4, 5)\n",
    "v3 = v1 + v2\n",
    "print(v3)  # Vector(6, 8)"
   ]
  },
  {
   "cell_type": "code",
   "execution_count": 16,
   "id": "9d2428ee",
   "metadata": {},
   "outputs": [
    {
     "name": "stdout",
     "output_type": "stream",
     "text": [
      "Error: Insufficient Balance!\n"
     ]
    }
   ],
   "source": [
    "class InsufficientBalanceError (Exception):\n",
    "  pass\n",
    "\n",
    "class BankAccount :\n",
    "  def __init__(self,account_number,balance = 0):\n",
    "    self.__account_number = account_number\n",
    "    self.__balance = balance\n",
    "\n",
    "  def deposit (self, amount):\n",
    "    self.__balance += amount\n",
    "  \n",
    "  def withdraw (self,amount):\n",
    "    if amount > self.__balance:\n",
    "      raise InsufficientBalanceError(\"Insufficient Balance!\"); \n",
    "    else :\n",
    "      self.__balance -= amount\n",
    "    \n",
    "  def check_balance(self):\n",
    "        return self.__balance\n",
    "\n",
    "# Test\n",
    "account = BankAccount('12345678', 1000)\n",
    "account.deposit(500)\n",
    "try:\n",
    "    account.withdraw(2000)\n",
    "except InsufficientBalanceError as e:\n",
    "    print(f\"Error: {e}\")"
   ]
  },
  {
   "cell_type": "code",
   "execution_count": 17,
   "id": "f464c0c3",
   "metadata": {},
   "outputs": [],
   "source": [
    "class FileManager:\n",
    "    def __init__(self, filename, mode):\n",
    "        self.filename = filename\n",
    "        self.mode = mode\n",
    "\n",
    "    def __enter__(self):\n",
    "        self.file = open(self.filename, self.mode)\n",
    "        return self.file\n",
    "\n",
    "    def __exit__(self, exc_type, exc_value, traceback):\n",
    "        self.file.close()\n",
    "\n",
    "# Test\n",
    "# with FileManager('sample.txt', 'r') as file:\n",
    "#     content = file.read()\n",
    "#     print(content)"
   ]
  },
  {
   "cell_type": "code",
   "execution_count": 22,
   "id": "c882a937",
   "metadata": {},
   "outputs": [
    {
     "name": "stdout",
     "output_type": "stream",
     "text": [
      "7.0\n"
     ]
    }
   ],
   "source": [
    "class Calculator:\n",
    "    def __init__(self, value=0):\n",
    "        self.value = value\n",
    "\n",
    "    def add(self, amount):\n",
    "        self.value += amount\n",
    "        return self\n",
    "\n",
    "    def subtract(self, amount):\n",
    "        self.value -= amount\n",
    "        return self\n",
    "\n",
    "    def multiply(self, amount):\n",
    "        self.value *= amount\n",
    "        return self\n",
    "\n",
    "    def divide(self, amount):\n",
    "        if amount != 0:\n",
    "            self.value /= amount\n",
    "        else:\n",
    "            print(\"Cannot divide by zero!\")\n",
    "        return self\n",
    "\n",
    "calc = Calculator()\n",
    "calc.add(10).subtract(3).multiply(2).divide(2)\n",
    "print(calc.value)  # 7.0"
   ]
  },
  {
   "cell_type": "code",
   "execution_count": null,
   "id": "8b804236",
   "metadata": {},
   "outputs": [],
   "source": []
  }
 ],
 "metadata": {
  "kernelspec": {
   "display_name": "Python 3",
   "language": "python",
   "name": "python3"
  },
  "language_info": {
   "codemirror_mode": {
    "name": "ipython",
    "version": 3
   },
   "file_extension": ".py",
   "mimetype": "text/x-python",
   "name": "python",
   "nbconvert_exporter": "python",
   "pygments_lexer": "ipython3",
   "version": "3.12.0"
  }
 },
 "nbformat": 4,
 "nbformat_minor": 5
}
