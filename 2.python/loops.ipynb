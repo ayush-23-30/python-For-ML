{
 "cells": [
  {
   "cell_type": "markdown",
   "id": "0f64b5b7",
   "metadata": {},
   "source": [
    "## Loops In python\n",
    "\n",
    "For loop - for i in range (0, 10):\n",
    "- i se leke range k ander tak sequence m number chliye \n",
    "- range (2 - starting point , 10 - last point , 2 - difference in numbers)\n"
   ]
  },
  {
   "cell_type": "code",
   "execution_count": null,
   "id": "13981109",
   "metadata": {},
   "outputs": [
    {
     "name": "stdout",
     "output_type": "stream",
     "text": [
      "2\n",
      "4\n",
      "6\n",
      "8\n"
     ]
    }
   ],
   "source": [
    "range(5) # range gives us sequence of numbers from 0 to user input.. \n",
    "\n",
    "\n",
    "# for i in range (10): # default starting point 0 ; last number is not included \n",
    "  # print(i);\n",
    "\n",
    "for i in range (2, 10 , 2):\n",
    "  print(i)\n",
    "\n",
    "# range (2 - starting point , 10 - last point , 2 - difference in numbers)\n",
    "\n",
    "\n"
   ]
  },
  {
   "cell_type": "code",
   "execution_count": null,
   "id": "d22db108",
   "metadata": {},
   "outputs": [
    {
     "name": "stdout",
     "output_type": "stream",
     "text": [
      "A\n",
      "y\n",
      "u\n",
      "s\n",
      "h\n",
      " \n",
      "K\n",
      "u\n",
      "m\n",
      "a\n",
      "r\n"
     ]
    }
   ],
   "source": [
    "## Strings - collections of characters \n",
    "str = \"Ayush Kumar\"\n",
    "for i in str: # irtate over the Str variable \n",
    "  print(i); "
   ]
  },
  {
   "cell_type": "code",
   "execution_count": null,
   "id": "c9d30a1a",
   "metadata": {},
   "outputs": [
    {
     "name": "stdout",
     "output_type": "stream",
     "text": [
      "0\n",
      "1\n",
      "2\n",
      "3\n",
      "4\n"
     ]
    }
   ],
   "source": [
    "## While Loop - continue untill the conditions is true; \n",
    "\n",
    "count = 0; \n",
    "\n",
    "while(count < 5):\n",
    "  print(count); \n",
    "  count = count + 1; "
   ]
  },
  {
   "cell_type": "code",
   "execution_count": null,
   "id": "3ba46c01",
   "metadata": {},
   "outputs": [
    {
     "name": "stdout",
     "output_type": "stream",
     "text": [
      "1\n",
      "3\n",
      "5\n",
      "7\n",
      "9\n",
      "11\n"
     ]
    }
   ],
   "source": [
    "## loop control statements \n",
    "\n",
    "## break - it exits the loop at the point you break it \n",
    "## continue - isko chhod ko aage continue karro \n",
    "## pass - null operations , do nothing  \n",
    "\n",
    "for i in range (10):\n",
    "  if i == 5 : break;\n",
    "  # print(i); \n",
    "  \n",
    "for i in range (12):\n",
    "  if i % 2 == 0  : continue;\n",
    "  print(i); \n"
   ]
  },
  {
   "cell_type": "code",
   "execution_count": null,
   "id": "8390c926",
   "metadata": {},
   "outputs": [
    {
     "name": "stdout",
     "output_type": "stream",
     "text": [
      "i : 0 and j : 0\n",
      "i : 0 and j : 1\n",
      "i : 1 and j : 0\n",
      "i : 1 and j : 1\n",
      "i : 2 and j : 0\n",
      "i : 2 and j : 1\n"
     ]
    }
   ],
   "source": [
    "## Nested Loops : Loop inside a loop \n",
    "for i in range (3):\n",
    "  for j in range (2):\n",
    "    print(f\"i : {i} and j : {j}\")\n",
    "\n",
    "## first complete the inner loop then run the outer again until outer in not stoped\n",
    "\n",
    "  "
   ]
  },
  {
   "cell_type": "code",
   "execution_count": 19,
   "id": "39cd511a",
   "metadata": {},
   "outputs": [
    {
     "name": "stdout",
     "output_type": "stream",
     "text": [
      "21\n"
     ]
    }
   ],
   "source": [
    "## Examples - Calculate the sum of first n numbers using while and for loop \n",
    "\n",
    "# For - \n",
    "# sum = 0; \n",
    "# n = 5 \n",
    "# for i in range (n+1):\n",
    "#   sum += i;\n",
    "\n",
    "# print(sum)\n",
    "\n",
    "\n",
    "n =  6;\n",
    "sum = 0;\n",
    "count = 1; \n",
    "while count <=n : \n",
    "  sum += count; \n",
    "  count  = count+1 ;\n",
    "print(sum); "
   ]
  },
  {
   "cell_type": "code",
   "execution_count": 23,
   "id": "5d1a6780",
   "metadata": {},
   "outputs": [
    {
     "name": "stdout",
     "output_type": "stream",
     "text": [
      "2 is a prime number\n",
      "3 is a prime number\n",
      "5 is a prime number\n",
      "7 is a prime number\n",
      "11 is a prime number\n",
      "13 is a prime number\n",
      "17 is a prime number\n",
      "19 is a prime number\n",
      "23 is a prime number\n",
      "29 is a prime number\n",
      "31 is a prime number\n",
      "37 is a prime number\n",
      "41 is a prime number\n",
      "43 is a prime number\n",
      "47 is a prime number\n",
      "53 is a prime number\n",
      "59 is a prime number\n",
      "61 is a prime number\n",
      "67 is a prime number\n",
      "71 is a prime number\n",
      "73 is a prime number\n",
      "79 is a prime number\n",
      "83 is a prime number\n",
      "89 is a prime number\n",
      "97 is a prime number\n"
     ]
    }
   ],
   "source": [
    "# Prime numbers between 1 to 100\n",
    "\n",
    "for num in range(1, 101):\n",
    "    if num > 1:\n",
    "        for i in range(2, num):\n",
    "            if num % i == 0:\n",
    "                break\n",
    "        else:  # This else belongs to the 'for' loop, not the 'if'\n",
    "            print(f\"{num} is a prime number\")"
   ]
  },
  {
   "cell_type": "code",
   "execution_count": null,
   "id": "be5318b1",
   "metadata": {},
   "outputs": [],
   "source": []
  }
 ],
 "metadata": {
  "kernelspec": {
   "display_name": "Python 3",
   "language": "python",
   "name": "python3"
  },
  "language_info": {
   "codemirror_mode": {
    "name": "ipython",
    "version": 3
   },
   "file_extension": ".py",
   "mimetype": "text/x-python",
   "name": "python",
   "nbconvert_exporter": "python",
   "pygments_lexer": "ipython3",
   "version": "3.12.0"
  }
 },
 "nbformat": 4,
 "nbformat_minor": 5
}
