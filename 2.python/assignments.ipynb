{
 "cells": [
  {
   "cell_type": "markdown",
   "metadata": {},
   "source": [
    "# Module 2: Control Flow Assignments\n",
    "## Lesson 2.1: Conditional Statements\n",
    "### Assignment 1: Simple if Statement\n",
    "\n",
    "Write a program that asks the user to input a number and prints whether the number is positive.\n",
    "\n",
    "### Assignment 2: if-else Statement\n",
    "\n",
    "Write a program that asks the user to input a number and prints whether the number is positive or negative.\n",
    "\n",
    "### Assignment 3: if-elif-else Statement\n",
    "\n",
    "Write a program that asks the user to input a number and prints whether the number is positive, negative, or zero.\n",
    "\n",
    "### Assignment 4: Nested if Statement\n",
    "\n",
    "Write a program that asks the user to input a number and prints whether the number is positive and even, positive and odd, or negative.\n",
    "\n",
    "## Lesson 2.2: Loops\n",
    "### Assignment 5: for Loop\n",
    "\n",
    "Write a program that prints all the numbers from 1 to 10 using a for loop.\n",
    "\n",
    "### Assignment 6: while Loop\n",
    "\n",
    "Write a program that prints all the numbers from 1 to 10 using a while loop.\n",
    "\n",
    "### Assignment 7: Nested Loops\n",
    "\n",
    "Write a program that prints a 5x5 grid of asterisks (*) using nested loops.\n",
    "\n",
    "### Assignment 8: break Statement\n",
    "\n",
    "Write a program that asks the user to input numbers until they input 0. The program should print the sum of all the input numbers.\n",
    "\n",
    "### Assignment 9: continue Statement\n",
    "\n",
    "Write a program that prints all the numbers from 1 to 10 except 5 using a for loop and continue statement.\n",
    "\n",
    "### Assignment 10: pass Statement\n",
    "\n",
    "Write a program that defines an empty function using the pass statement.\n",
    "\n",
    "### Assignment 11: Combining Loops and Conditionals\n",
    "\n",
    "Write a program that asks the user to input a number and prints all the even numbers from 1 to that number using a for loop.\n",
    "\n",
    "### Assignment 12: Factorial Calculation\n",
    "\n",
    "Write a program that calculates the factorial of a number input by the user using a while loop.\n",
    "\n",
    "### Assignment 13: Sum of Digits\n",
    "\n",
    "Write a program that calculates the sum of the digits of a number input by the user using a while loop.\n",
    "\n",
    "### Assignment 14: Prime Number Check\n",
    "\n",
    "Write a program that checks if a number input by the user is a prime number using a for loop.\n",
    "\n",
    "### Assignment 15: Fibonacci Sequence\n",
    "\n",
    "Write a program that prints the first n Fibonacci numbers, where n is input by the user."
   ]
  },
  {
   "cell_type": "code",
   "execution_count": null,
   "metadata": {},
   "outputs": [
    {
     "name": "stdout",
     "output_type": "stream",
     "text": [
      "Number is Zero!\n"
     ]
    }
   ],
   "source": [
    "# Assignment 1 , 2 , 3:\n",
    "numm = 0; \n",
    "if(numm > 0) : print('Number is Positive!'); \n",
    "elif (numm < 0 ) : print(\"Number is Negative\"); \n",
    "else : print('Number is Zero!')"
   ]
  },
  {
   "cell_type": "code",
   "execution_count": 5,
   "id": "f635b895",
   "metadata": {},
   "outputs": [
    {
     "name": "stdout",
     "output_type": "stream",
     "text": [
      "Negative Odd\n"
     ]
    }
   ],
   "source": [
    "# Assignment 4: \n",
    "num = -841; \n",
    "if(num > 0) :\n",
    "  if(num % 2 == 0) : \n",
    "    print('Postive Even ')\n",
    "  else : print('Positive Odd')\n",
    "elif (num < 0) : \n",
    "  if(num % 2 == 0) : \n",
    "    print('Negative Even'); \n",
    "  else : print('Negative Odd')\n",
    "else : print('Number is Zero!');    "
   ]
  },
  {
   "cell_type": "code",
   "execution_count": null,
   "id": "70f63b74",
   "metadata": {},
   "outputs": [
    {
     "name": "stdout",
     "output_type": "stream",
     "text": [
      "1 for\n",
      "2 for\n",
      "3 for\n",
      "4 for\n",
      "5 for\n",
      "6 for\n",
      "7 for\n",
      "8 for\n",
      "9 for\n",
      "10 for\n",
      "1 while\n",
      "2 while\n",
      "3 while\n",
      "4 while\n",
      "5 while\n",
      "6 while\n",
      "7 while\n",
      "8 while\n",
      "9 while\n",
      "10 while\n"
     ]
    }
   ],
   "source": [
    "# Assignment 5 : \n",
    "\n",
    "for i in range(1, 11) : \n",
    "  print(i, 'for'); \n",
    "\n",
    "cnt = 1; \n",
    "while cnt < 11 :\n",
    "  print(cnt , 'while'); \n",
    "  cnt = cnt + 1;\n"
   ]
  },
  {
   "cell_type": "code",
   "execution_count": 14,
   "id": "29dae093",
   "metadata": {},
   "outputs": [
    {
     "name": "stdout",
     "output_type": "stream",
     "text": [
      "* * * * * \n",
      "* * * * * \n",
      "* * * * * \n",
      "* * * * * \n",
      "* * * * * \n"
     ]
    }
   ],
   "source": [
    "# for i in range(1, 6):\n",
    "#     for j in range(1, 6):\n",
    "#         print('*', end= ' ')\n",
    "#     print()  # Moves to the next line\n",
    "\n",
    "for i in range(1,6): \n",
    "  for j in range(1,6):\n",
    "    print('*', end=' '); \n",
    "  print(); "
   ]
  },
  {
   "cell_type": "code",
   "execution_count": null,
   "id": "6838cbcf",
   "metadata": {},
   "outputs": [
    {
     "name": "stdout",
     "output_type": "stream",
     "text": [
      "21\n"
     ]
    }
   ],
   "source": [
    "arr = [1,2,3,4,5,6]; \n",
    "sum = 0; \n",
    "for i in range (len(arr)): \n",
    "  sum = arr[i] + sum; \n",
    "\n",
    "print(sum);"
   ]
  },
  {
   "cell_type": "code",
   "execution_count": 16,
   "id": "ebdfb78a",
   "metadata": {},
   "outputs": [
    {
     "name": "stdout",
     "output_type": "stream",
     "text": [
      "1\n",
      "2\n",
      "3\n",
      "4\n",
      "6\n",
      "7\n",
      "8\n",
      "9\n",
      "10\n"
     ]
    }
   ],
   "source": [
    "for i in range(1,11):\n",
    "  if(i == 5):\n",
    "    continue\n",
    "  print(i);"
   ]
  },
  {
   "cell_type": "code",
   "execution_count": null,
   "id": "ea0f182d",
   "metadata": {},
   "outputs": [],
   "source": [
    "def empty ():\n",
    "  pass\n"
   ]
  },
  {
   "cell_type": "code",
   "execution_count": null,
   "id": "95bd09f0",
   "metadata": {},
   "outputs": [
    {
     "name": "stdout",
     "output_type": "stream",
     "text": [
      "2\n",
      "4\n",
      "6\n",
      "8\n",
      "10\n",
      "12\n",
      "14\n",
      "16\n",
      "18\n",
      "20\n"
     ]
    }
   ],
   "source": [
    "num = 22; \n",
    "\n",
    "if(num > 1):\n",
    "  for i in range (1, num):\n",
    "    if(i % 2 == 0):\n",
    "      print(i)\n",
    "      "
   ]
  },
  {
   "cell_type": "code",
   "execution_count": null,
   "id": "0f0c66d8",
   "metadata": {},
   "outputs": [
    {
     "name": "stdout",
     "output_type": "stream",
     "text": [
      "35 is not a prime Number\n"
     ]
    }
   ],
   "source": [
    "num = 35;\n",
    "is_prime = True;\n",
    "\n",
    "if num <= 1:\n",
    "  is_prime = False;\n",
    "else : \n",
    "  for i in range (2, int(num ** 0.5) + 1):\n",
    "    if num % 1 == 0:\n",
    "      is_prime = False;\n",
    "      break;\n",
    "\n",
    "if is_prime :\n",
    "  print(f'{num} is a prime Number');\n",
    "else : \n",
    "  print(f'{num} is not a prime Number');"
   ]
  },
  {
   "cell_type": "code",
   "execution_count": null,
   "id": "cd9db0c6",
   "metadata": {},
   "outputs": [
    {
     "name": "stdout",
     "output_type": "stream",
     "text": [
      "0\n",
      "1\n",
      "1\n",
      "2\n",
      "3\n",
      "5\n"
     ]
    }
   ],
   "source": [
    "n = 6;\n",
    "a,b = 0,1 \n",
    "cnt = 0;\n",
    "\n",
    "while cnt < n: \n",
    "  print(a);\n",
    "  a,b = b , a + b;\n",
    "  cnt += 1;"
   ]
  },
  {
   "cell_type": "code",
   "execution_count": null,
   "id": "90b9a05e",
   "metadata": {},
   "outputs": [
    {
     "name": "stdout",
     "output_type": "stream",
     "text": [
      "The sum of the digits is 9\n",
      "22\n"
     ]
    }
   ],
   "source": [
    "num = 2223; \n",
    "sum = 0; \n",
    "\n",
    "while num > 0: \n",
    "  dig = num % 10; # take out last digit\n",
    "  sum +=  dig; # add last digit in sum \n",
    "  num = num // 10; \n",
    "\n",
    "print(f'The sum of the digits is {sum}')\n"
   ]
  },
  {
   "cell_type": "code",
   "execution_count": 26,
   "id": "14e4c53c",
   "metadata": {},
   "outputs": [
    {
     "name": "stdout",
     "output_type": "stream",
     "text": [
      "The factorial of 5 is 120.\n"
     ]
    }
   ],
   "source": [
    "num = 5; \n",
    "fact = 1; \n",
    "i = 1; \n",
    "\n",
    "while i <= num: \n",
    "  fact *= i \n",
    "  i +=1\n",
    "\n",
    "print(f\"The factorial of {num} is {fact}.\")"
   ]
  }
 ],
 "metadata": {
  "kernelspec": {
   "display_name": "Python 3",
   "language": "python",
   "name": "python3"
  },
  "language_info": {
   "codemirror_mode": {
    "name": "ipython",
    "version": 3
   },
   "file_extension": ".py",
   "mimetype": "text/x-python",
   "name": "python",
   "nbconvert_exporter": "python",
   "pygments_lexer": "ipython3",
   "version": "3.12.0"
  }
 },
 "nbformat": 4,
 "nbformat_minor": 5
}
