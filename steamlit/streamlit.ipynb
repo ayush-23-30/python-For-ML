{
 "cells": [
  {
   "cell_type": "markdown",
   "id": "1215aa4a",
   "metadata": {},
   "source": [
    "#### Introduction to Streamlit\n",
    "Streamlit is an open-source app framework for Machine Learning and Data Science projects. It allows you to create beautiful web applications for your machine learning and data science projects with simple Python scripts."
   ]
  },
  {
   "cell_type": "markdown",
   "id": "634d2550",
   "metadata": {},
   "source": []
  }
 ],
 "metadata": {
  "language_info": {
   "name": "python"
  }
 },
 "nbformat": 4,
 "nbformat_minor": 5
}
